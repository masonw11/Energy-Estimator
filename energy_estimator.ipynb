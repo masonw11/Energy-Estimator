{
 "cells": [
  {
   "cell_type": "markdown",
   "metadata": {},
   "source": [
    "# Energy Estimator Tool\n",
    "## Introduction\n",
    "This is a port of the enVerid COVID-19 Energy Estimator 2 Excel Spreadsheet to a Jupyter Notebook to better understand the calculation methods the spreadsheet.\n",
    "\n",
    "The spreadsheet must be present in the same folder folder as this file for the reference tables to be read.\n",
    "\n",
    "### Abbreviations\n",
    "- oa or OA: Outside/Outdoor Air\n",
    "- occ or OCC: Occupancy\n",
    "- vrp or VRP: Ventilation Rate Procedure\n",
    "- iaqp or IAQP: Indoor Air Quality Procedure\n",
    "- ach or ACH: Air Changes per Hour\n",
    "- cop or COP: Coefficient of Performance\n",
    "- cadr or CADR: Clean Air Delivery Rate\n",
    "- op / ops: Operating / Operations\n",
    "- bldg: Building\n",
    "- maint: Maintenance\n",
    "- filt: Filter/Filtration\n",
    "- vent: Ventilation\n",
    "- CO2e: CO2 equivalent\n",
    "- Ann.: Annual\n"
   ]
  },
  {
   "cell_type": "markdown",
   "metadata": {},
   "source": [
    "## Reference Tables\n",
    "The reference tables in the spreadsheet are also used in this notebook.\n",
    "\n",
    "The following code imports the reference tables."
   ]
  },
  {
   "cell_type": "code",
   "execution_count": 114,
   "metadata": {},
   "outputs": [],
   "source": [
    "import pandas as pd\n",
    "\n",
    "SPREADSHEET_PATH = \"enVerid COVID-19 Energy Estimator 2.xlsx\"\n",
    "\n",
    "filters = pd.read_excel(\n",
    "    SPREADSHEET_PATH, \"Table 2 - Filtration Info\", skiprows=2, skipfooter=4, index_col=1\n",
    ").dropna(axis=\"columns\")\n",
    "\n",
    "# ASHRAE 62.1 2016 Outdoor Air rates (ref. table 6-1)\n",
    "oa_rates = pd.read_excel(\n",
    "    SPREADSHEET_PATH,\n",
    "    \"Table 3 - ASHRAE 62.1 OA Rates\",\n",
    "    header=1,\n",
    "    index_col=0,\n",
    "    names=[\"RPeople\", \"RArea\"],\n",
    ")\n",
    "\n",
    "# Building operated 12 hours a day, 6 days a week.\n",
    "operation_info_126 = pd.read_excel(\n",
    "    SPREADSHEET_PATH, \"Table 1 - Operational Info\", header=3, nrows=21, index_col=1\n",
    ")\n",
    "\n",
    "# Building operated 24/7.\n",
    "operation_info_247 = pd.read_excel(\n",
    "    SPREADSHEET_PATH, \"Table 1 - Operational Info\", header=27, nrows=21, index_col=1\n",
    ")"
   ]
  },
  {
   "cell_type": "markdown",
   "metadata": {},
   "source": [
    "A next step to get away from the spreadsheet is to be able to generate this reference data for any location on a global scale. This spreadsheet is limited to a small set of U.S. cities."
   ]
  },
  {
   "cell_type": "markdown",
   "metadata": {},
   "source": [
    "## Calculation Classes\n",
    "\n",
    "The following classes keep track of user inputs and calculate outputs. These classes replicate the calculations performed by the enVerid COVID Energy Estimator spreadsheet."
   ]
  },
  {
   "cell_type": "markdown",
   "metadata": {},
   "source": [
    "The `__post_init__` method runs after an instance of the class is created. This just allows for automatic calculation of values or for correcting values based on what was given to create the instance."
   ]
  },
  {
   "cell_type": "code",
   "execution_count": 115,
   "metadata": {},
   "outputs": [],
   "source": [
    "from dataclasses import dataclass\n",
    "\n",
    "\n",
    "@dataclass\n",
    "class GeneralInputs:\n",
    "    \"\"\"Class for keeping track of general inputs of building parameters.\"\"\"\n",
    "\n",
    "    city: str\n",
    "    space_type: str\n",
    "    floor_area: float  # sq ft\n",
    "    avg_ceil_ht: float  # ft (average ceiling height)\n",
    "    occupancy: float  # people\n",
    "    total_supply_airflow: float  # CFM\n",
    "    sys_vent_efficiency: float\n",
    "    oa_calc_method: str  # VRP, VRP+30%, IAQP, or 100% OA\n",
    "    outside_airflow_override = 0  # Allows for custom input (CFM)\n",
    "\n",
    "    def __post_init__(self):\n",
    "        self.volume = self.floor_area * self.avg_ceil_ht  # cu ft\n",
    "\n",
    "    def vrp(self) -> float:\n",
    "        \"\"\"Calculate required airflow in CFM according to ventilation rate procedure (VRP).\"\"\"\n",
    "        occ_component = self.occupancy * oa_rates[\"RPeople\"].loc[self.space_type]  # CFM\n",
    "        area_component = self.floor_area * oa_rates[\"RArea\"].loc[self.space_type]  # CFM\n",
    "        return (occ_component + area_component) / self.sys_vent_efficiency\n",
    "\n",
    "    def outside_airflow(self) -> float:\n",
    "        \"\"\"Calculate required outside airflow (CFM) given the OA calculation method.\"\"\"\n",
    "        match self.oa_calc_method:\n",
    "            case \"VRP\":\n",
    "                return self.vrp()\n",
    "            case \"VRP+30%\":\n",
    "                return self.vrp() * 1.3\n",
    "            case \"IAQP\":\n",
    "                return self.floor_area * 0.05  # This is an arbitrary factor used in the spreadsheet.\n",
    "            case \"100% OA\":\n",
    "                return self.total_supply_airflow\n",
    "            case \"Other\":\n",
    "                return self.outside_airflow_override\n",
    "\n",
    "    def outside_ach(self) -> float:\n",
    "        \"\"\"Calculate the outside air changes per hour.\"\"\"\n",
    "        air_changes_per_min = self.outside_airflow() / self.volume  # /min.\n",
    "        return air_changes_per_min * 60  # /h\n",
    "\n",
    "    def electricity_rate(self) -> float:\n",
    "        \"\"\"Return the cost of electricity from spreadsheet given the city.\"\"\"\n",
    "        return operation_info_126[\"Estimated Blended Electricity Rate ($/kWh)\"].loc[\n",
    "            self.city\n",
    "        ]"
   ]
  },
  {
   "cell_type": "code",
   "execution_count": 116,
   "metadata": {},
   "outputs": [],
   "source": [
    "@dataclass\n",
    "class VentilationEnergyInputs:\n",
    "    \"\"\"Class for keeping track of ventilation energy inputs and costs.\"\"\"\n",
    "\n",
    "    oa_cooling_src = \"Electricity\"  \n",
    "    oa_heating_src: str\n",
    "    hrs_per_day_operation: float\n",
    "    days_per_wk_operation: float\n",
    "    cop: float\n",
    "    heating_efficiency: float\n",
    "\n",
    "    def hrs_per_wk_operation(self) -> float:\n",
    "        \"\"\"Calculate the hours per week the building in operation.\"\"\"\n",
    "        return self.hrs_per_day_operation * self.days_per_wk_operation\n",
    "\n",
    "    def heating_energy_rate(self, gen: GeneralInputs) -> tuple[float | str, str]:\n",
    "        \"\"\"Calculate the cost of heating and a string of the pricing unit.\"\"\"\n",
    "        match self.oa_heating_src:\n",
    "            case \"Electricity\":\n",
    "                return gen.electricity_rate(), \"$/kWh (blended)\"\n",
    "            case \"Gas\":\n",
    "                heating_rate = operation_info_126[\"Gas Rate ($/therm)\"].loc[gen.city]\n",
    "                return heating_rate, \"$/therm\"\n",
    "            case \"Steam\":\n",
    "                heating_rate = operation_info_126[\"Steam Rate ($/Mlb)\"].loc[gen.city]\n",
    "                return heating_rate, \"$/mmBTU\""
   ]
  },
  {
   "cell_type": "code",
   "execution_count": 117,
   "metadata": {},
   "outputs": [],
   "source": [
    "@dataclass\n",
    "class EnergyRecoveryInputs:\n",
    "    \"\"\"Class to keep track of the energy recovery usage.\"\"\"\n",
    "\n",
    "    is_used: bool\n",
    "    summer_effectiveness: float\n",
    "    winter_effectiveness: float\n",
    "\n",
    "    def __post_init__(self):\n",
    "        \"\"\"Fix recovery effectivness to 0 if energy recovery is not used.\"\"\"\n",
    "        if not self.is_used:\n",
    "            self.summer_effectiveness = 0\n",
    "            self.winter_effectiveness = 0"
   ]
  },
  {
   "cell_type": "code",
   "execution_count": 118,
   "metadata": {},
   "outputs": [],
   "source": [
    "@dataclass\n",
    "class IndoorAirFiltrationInputs:\n",
    "    \"\"\"Class to keep track of indoor air filtration inputs and costs.\"\"\"\n",
    "\n",
    "    is_used: bool\n",
    "    merv: str\n",
    "    fan_efficiency: float\n",
    "    mtr_efficiency: float\n",
    "    max_filt_airspeed: float  # fpm\n",
    "    filt_change_labor_cost: float  # $  ($12 install + $5 disposal)\n",
    "\n",
    "    def avg_pressure_drop(self) -> float:\n",
    "        \"\"\"Return the average pressure drop across the filter in inches water.\"\"\"\n",
    "        return filters[\"average pressure drop (in.w.c.)\"].loc[self.merv]\n",
    "\n",
    "    def est_filter_lifespan(self) -> float:\n",
    "        \"\"\"Return the average estimated lifespan of the filter in months.\"\"\"\n",
    "        return filters[\"filter lifespan (months)\"].loc[self.merv]\n",
    "\n",
    "    def est_filter_cost(self) -> float:\n",
    "        \"\"\"Return the estimated cost ($) of a 24in. by 24in. filter.\"\"\"\n",
    "        return filters[\"cost\"].loc[self.merv]\n",
    "\n",
    "    def filtration_ach(self, bldg: GeneralInputs) -> float:\n",
    "        \"\"\"Return the air changes per hour supplied with recirculated air.\"\"\"\n",
    "        if self.is_used:\n",
    "            recirc_airflow = bldg.total_supply_airflow - bldg.outside_airflow()  # CFM\n",
    "            filt_eff = filters[\"Filter Efficiency (%)\"].loc[self.merv]\n",
    "            return recirc_airflow / (bldg.volume) * filt_eff * 60  # /h\n",
    "        else:\n",
    "            return 0\n",
    "        "
   ]
  },
  {
   "cell_type": "code",
   "execution_count": 119,
   "metadata": {},
   "outputs": [],
   "source": [
    "@dataclass\n",
    "class AirCleanerInputs:\n",
    "    \"\"\"Class to keep track of air cleaner usage inputs and costs.\"\"\"\n",
    "\n",
    "    is_used: bool\n",
    "    quantity: int  # Spreadsheet has 1 air cleaner per every 1000 sq ft\n",
    "    supply_air_per_cleaner: float\n",
    "    cadr_per_cleaner: float\n",
    "    first_cost_per_cleaner: float  # Includes hardware + installation cost\n",
    "    power: float\n",
    "    est_lifespan_before_maint: float  # months\n",
    "    labor_cost_maintenance: float  # $/unit\n",
    "    matrl_cost_maintenance: float  # $/unit\n",
    "\n",
    "    def __post_init__(self):\n",
    "        \"\"\"Set air cleaning power and zero values if air cleaning not used.\"\"\"\n",
    "        self.power = self.supply_air_per_cleaner * 0.0003  # kW / unit\n",
    "\n",
    "        if not self.is_used:\n",
    "            self.quantity = 0\n",
    "            self.supply_air_per_cleaner = 0\n",
    "            self.cadr_per_cleaner = 0\n",
    "\n",
    "    def additional_ach(self, bldg: GeneralInputs) -> float:\n",
    "        \"\"\"Calculate additional air changes per hour provided by air cleaners.\"\"\"\n",
    "        if not self.is_used:\n",
    "            return 0\n",
    "\n",
    "        return self.cadr_per_cleaner * self.quantity / bldg.volume * 60"
   ]
  },
  {
   "cell_type": "code",
   "execution_count": 120,
   "metadata": {},
   "outputs": [],
   "source": [
    "class OutsideAirVentilationCost:\n",
    "    \"\"\"Class to calculate annual cost and energy use from conditioning OA.\"\"\"\n",
    "\n",
    "    def __init__(\n",
    "        self,\n",
    "        bldg: GeneralInputs,\n",
    "        ops: VentilationEnergyInputs,\n",
    "        erv: EnergyRecoveryInputs,\n",
    "    ):\n",
    "        self.bldg = bldg\n",
    "        self.ops = ops\n",
    "        self.erv = erv\n",
    "\n",
    "        # If the hours per week of operation is less than 24/7, the 12/6 data is used as a baseline.\n",
    "        if self.ops.hrs_per_wk_operation() < (24 * 7):\n",
    "            # 12 hrs per day, 6 days per week weather data used\n",
    "            self.ops_info = operation_info_126\n",
    "            self.weekly_op_hours_baseline = 72\n",
    "        else:\n",
    "            # Use weather data for 24/7 operation\n",
    "            self.ops_info = operation_info_247\n",
    "            self.weekly_op_hours_baseline = 168\n",
    "\n",
    "    def cooling_oa_energy(self) -> float:\n",
    "        \"\"\"Calculate energy to cool outside air in kWh/yr.\"\"\"\n",
    "        # NOTE: The units for cooling energy data from the spreadsheet's operations table are truly kWh/cfm/yr.\n",
    "        return (\n",
    "            self.bldg.outside_airflow()\n",
    "            * self.ops_info[\"Cooling energy (kWh/cfm)\"].loc[self.bldg.city]\n",
    "            * (1 - self.erv.summer_effectiveness)\n",
    "            / (self.ops.cop / 3)  # A baseline COP of 3 was used in spreadsheet tables\n",
    "            * (self.ops.hrs_per_wk_operation() / self.weekly_op_hours_baseline)\n",
    "        )\n",
    "\n",
    "    def annual_cooling_oa_cost(self) -> float:\n",
    "        \"\"\"Calculate cost to cool outside air in $/yr.\"\"\"\n",
    "        return self.cooling_oa_energy() * self.bldg.electricity_rate()\n",
    "\n",
    "    def heating_oa_energy(self) -> tuple[float, str]:\n",
    "        \"\"\"Calculate energy to heat outside air in appropriate energy units per year.\"\"\"\n",
    "        match self.ops.oa_heating_src:\n",
    "            case \"Electricity\":\n",
    "                heating_energy = self.ops_info[\"Heating energy (kWh/cfm)\"]\n",
    "                unit = \"kWh/yr\"\n",
    "            case \"Gas\":\n",
    "                heating_energy = self.ops_info[\"Heating energy (therms/cfm)\"]\n",
    "                unit = \"therm/yr\"\n",
    "            case \"Steam\":\n",
    "                heating_energy = self.ops_info[\"Heating energy (mmBTU/cfm)\"]\n",
    "                unit = \"mmBTU/yr\"\n",
    "\n",
    "        return (\n",
    "            self.bldg.outside_airflow()\n",
    "            * heating_energy.loc[self.bldg.city]\n",
    "            * (1 - self.erv.winter_effectiveness)\n",
    "            / self.ops.heating_efficiency\n",
    "            * (self.ops.hrs_per_wk_operation() / self.weekly_op_hours_baseline),\n",
    "            unit,\n",
    "        )\n",
    "\n",
    "    def annual_heating_oa_cost(self) -> float:\n",
    "        \"\"\"Calculate cost to heat outside air in $/yr.\"\"\"\n",
    "        energy_rate, _ = self.ops.heating_energy_rate(self.bldg)\n",
    "        return self.heating_oa_energy()[0] * energy_rate"
   ]
  },
  {
   "cell_type": "code",
   "execution_count": 121,
   "metadata": {},
   "outputs": [],
   "source": [
    "from math import ceil\n",
    "\n",
    "\n",
    "class IndoorAirFiltrationCost:\n",
    "    \"\"\"Class to calculate annual cost and energy use from filtering indoor air.\"\"\"\n",
    "\n",
    "    def __init__(\n",
    "        self,\n",
    "        bldg: GeneralInputs,\n",
    "        ops: VentilationEnergyInputs,\n",
    "        filt: IndoorAirFiltrationInputs,\n",
    "    ):\n",
    "        self.bldg = bldg\n",
    "        if filt.is_used:\n",
    "            self.recirc_airflow = bldg.total_supply_airflow - bldg.outside_airflow()\n",
    "        else:\n",
    "            self.recirc_airflow = 0\n",
    "        self.ops = ops\n",
    "        self.filt = filt\n",
    "\n",
    "    def filtration_fan_energy_load(self) -> float:\n",
    "        \"\"\"Calculate power load on the indoor air filtration fan in kW.\"\"\"\n",
    "        if not self.filt.is_used:\n",
    "            return 0\n",
    "        recirc_airflow_m3_per_h = self.recirc_airflow * 1.699  # CFM to m^3 per hour\n",
    "        recirc_airflow_m3_per_s = recirc_airflow_m3_per_h / 3600\n",
    "        avg_press_drop_pa = self.filt.avg_pressure_drop() * 248.84  # inches of water to pascal\n",
    "        fan_load = (\n",
    "            recirc_airflow_m3_per_s\n",
    "            * avg_press_drop_pa\n",
    "            / (self.filt.fan_efficiency * self.filt.mtr_efficiency)  # W\n",
    "        )\n",
    "        return fan_load / 1000  # kW\n",
    "\n",
    "    def annual_fan_energy(self) -> float:\n",
    "        \"\"\"Calculate energy use by filtration fan in kWh/yr.\"\"\"\n",
    "        return self.filtration_fan_energy_load() * self.ops.hrs_per_wk_operation() * 52\n",
    "\n",
    "    def annual_fan_energy_cost(self) -> float:\n",
    "        \"\"\"Calculate cost due to energy used by the filtration fan in $/yr.\"\"\"\n",
    "        return self.annual_fan_energy() * self.bldg.electricity_rate()\n",
    "\n",
    "    def required_filter_quantity(self, filter_area_ft2) -> int:\n",
    "        \"\"\"Calculate number of filters needed with a given filter area in sq ft.\"\"\"\n",
    "        max_filt_airspeed_m_per_s = self.filt.max_filt_airspeed / 196.85\n",
    "        recirc_airflow_m3_per_s = self.recirc_airflow * 1.699 / 3600\n",
    "        req_filt_area_m2 = recirc_airflow_m3_per_s / max_filt_airspeed_m_per_s\n",
    "        req_filt_area = req_filt_area_m2 * 10.7639  # sq ft\n",
    "\n",
    "        # NOTE: The spreadsheet neglects this calculation, but the paper it references\n",
    "        # (doi: 10.1016/j.buildenv.2013.08.025) says this is the procedure. As a result,\n",
    "        # the spreadsheet costs are 4x higher than they should be for filter replacement costs!\n",
    "        return ceil(req_filt_area / filter_area_ft2)\n",
    "\n",
    "    def annual_material_cost(self) -> float:\n",
    "        \"\"\"Calculate cost due to replacing filters in $/yr.\"\"\"\n",
    "        changes_per_year = 12 / self.filt.est_filter_lifespan()\n",
    "        # NOTE: Filter cost table uses 24\" x 24\" filters (4 sq ft)\n",
    "        req_filters = self.required_filter_quantity(4)\n",
    "        return changes_per_year * self.filt.est_filter_cost() * req_filters\n",
    "\n",
    "    def annual_labor_cost(self) -> float:\n",
    "        \"\"\"Calculate cost due to labor involved in filter replacements in $/yr.\"\"\"\n",
    "        changes_per_year = 12 / self.filt.est_filter_lifespan()\n",
    "        req_filters = self.required_filter_quantity(4)\n",
    "\n",
    "        return changes_per_year * self.filt.filt_change_labor_cost * req_filters\n",
    "\n",
    "    def annual_total_cost(self) -> float:\n",
    "        \"\"\"Calculate total cost of operating indoor air filtration in $/yr.\"\"\"\n",
    "        return (\n",
    "            self.annual_fan_energy_cost()\n",
    "            + self.annual_material_cost()\n",
    "            + self.annual_labor_cost()\n",
    "        )"
   ]
  },
  {
   "cell_type": "code",
   "execution_count": 122,
   "metadata": {},
   "outputs": [],
   "source": [
    "class AirCleanerCost:\n",
    "    \"\"\"Class to calculate annual cost and energy consumption from air cleaners.\"\"\"\n",
    "\n",
    "    def __init__(\n",
    "        self, bldg: GeneralInputs, ops: VentilationEnergyInputs, clean: AirCleanerInputs\n",
    "    ):\n",
    "        self.bldg = bldg\n",
    "        self.ops = ops\n",
    "        self.clean = clean\n",
    "\n",
    "    def annual_energy(self) -> float:\n",
    "        \"\"\"Calculate the energy consumption of air cleaners in kWh/yr.\"\"\"\n",
    "        return (\n",
    "            self.clean.power\n",
    "            * self.clean.quantity\n",
    "            * (self.ops.hrs_per_wk_operation() * 52)\n",
    "        )\n",
    "\n",
    "    def annual_energy_cost(self) -> float:\n",
    "        \"\"\"Calculate cost of air cleaner energy use in $/yr.\"\"\"\n",
    "        return self.annual_energy() * self.bldg.electricity_rate()\n",
    "\n",
    "    def annual_material_cost(self) -> float:\n",
    "        \"\"\"Calculate cost of air cleaner maintenance materials in $/yr.\"\"\"\n",
    "        return (\n",
    "            (12 / self.clean.est_lifespan_before_maint)\n",
    "            * self.clean.matrl_cost_maintenance\n",
    "            * self.clean.quantity\n",
    "        )\n",
    "\n",
    "    def annual_labor_cost(self) -> float:\n",
    "        \"\"\"Calcaulate cost of air cleaner maintenance labor in $/yr.\"\"\"\n",
    "        return (\n",
    "            (12 / self.clean.est_lifespan_before_maint)\n",
    "            * self.clean.labor_cost_maintenance\n",
    "            * self.clean.quantity\n",
    "        )\n",
    "\n",
    "    def annual_total_cost(self) -> float:\n",
    "        \"\"\"Calculate total cost of operating air cleaners in $/yr.\"\"\"\n",
    "        return (\n",
    "            self.annual_energy_cost()\n",
    "            + self.annual_material_cost()\n",
    "            + self.annual_labor_cost()\n",
    "        )\n",
    "\n",
    "    def first_cost(self) -> float:\n",
    "        return self.clean.quantity * self.clean.first_cost_per_cleaner"
   ]
  },
  {
   "cell_type": "code",
   "execution_count": 123,
   "metadata": {},
   "outputs": [],
   "source": [
    "class EffectiveACH:\n",
    "    \"\"\"Class for calculating the combined effects of air changes.\"\"\"\n",
    "\n",
    "    def __init__(\n",
    "        self,\n",
    "        bldg: GeneralInputs,\n",
    "        filt: IndoorAirFiltrationInputs,\n",
    "        clean: AirCleanerInputs,\n",
    "    ):\n",
    "        self.oa_ach = bldg.outside_ach()\n",
    "        self.filt_ach = filt.filtration_ach(bldg)\n",
    "        self.additional_ach = clean.additional_ach(bldg)\n",
    "\n",
    "    def get_oa_ach(self) -> float:\n",
    "        \"\"\"Air changes per hour contribution from outside air ventilation.\"\"\"\n",
    "        return self.oa_ach\n",
    "\n",
    "    def get_filt_ach(self) -> float:\n",
    "        \"\"\"Air changes per hour contribution from recirculated, filtered air.\"\"\"\n",
    "        return self.filt_ach\n",
    "\n",
    "    def get_add_ach(self) -> float:\n",
    "        \"\"\"Air changes per hour contribution from air cleaners.\"\"\"\n",
    "        return self.additional_ach\n",
    "    \n",
    "    def get_effective_ach(self) -> float:\n",
    "        return self.oa_ach + self.filt_ach + self.additional_ach"
   ]
  },
  {
   "cell_type": "code",
   "execution_count": 124,
   "metadata": {},
   "outputs": [],
   "source": [
    "class AnnualCostSummary:\n",
    "    \"\"\"Class for summarizing annual costs.\"\"\"\n",
    "\n",
    "    def __init__(\n",
    "        self,\n",
    "        ops_cost: OutsideAirVentilationCost,\n",
    "        filt_cost: IndoorAirFiltrationCost,\n",
    "        clean_cost: AirCleanerCost,\n",
    "    ):\n",
    "        self.oa_vent_cost = (\n",
    "            ops_cost.annual_cooling_oa_cost() + ops_cost.annual_heating_oa_cost()\n",
    "        )\n",
    "        self.filter_energy_maint_cost = filt_cost.annual_total_cost()\n",
    "        self.cleaner_energy_maint_cost = clean_cost.annual_total_cost()\n",
    "\n",
    "        self.total_annual_cost = (\n",
    "            self.oa_vent_cost\n",
    "            + self.filter_energy_maint_cost\n",
    "            + self.cleaner_energy_maint_cost\n",
    "        )"
   ]
  },
  {
   "cell_type": "code",
   "execution_count": 125,
   "metadata": {},
   "outputs": [],
   "source": [
    "class AnnualCarbonEmissions:\n",
    "    \"\"\"Class to calculate carbon emissions from building operations.\"\"\"\n",
    "\n",
    "    # NOTE: The enVerid spreadsheet makes a mistake here!\n",
    "    # The electricity emission factor they use is 7.09E-4 t CO2 / kWh.\n",
    "    # That factor is for electricity reductions!\n",
    "    # We are concerned with emissions associated with consumption, not reduction.\n",
    "    # See https://www.epa.gov/energy/greenhouse-gases-equivalencies-calculator-calculations-and-references\n",
    "\n",
    "    # NOTE: they are using a blanket emission factor for the entire USA. Ideally, a weather file would be associated\n",
    "    # with an emission factor\n",
    "\n",
    "    # TODO: It would be ideal to have the ability to use other emission factors based on location.\n",
    "\n",
    "    ELECTRICITY_EMISSION_FACTOR = 4.33e-4  # t CO2e / kWh\n",
    "    NG_EMISSION_FACTOR = 0.0053  # t CO2e / therm\n",
    "    STEAM_EMISSION_FACTOR = 0.053  # t CO2e / mmBTU  (assumes perfect efficiency)\n",
    "\n",
    "    def __init__(\n",
    "        self,\n",
    "        ops: VentilationEnergyInputs,\n",
    "        ops_cost: OutsideAirVentilationCost,\n",
    "        filt_cost: IndoorAirFiltrationCost,\n",
    "        clean_cost: AirCleanerCost,\n",
    "    ):\n",
    "        self.ops = ops\n",
    "        self.ops_cost = ops_cost\n",
    "        self.annual_filt_energy = filt_cost.annual_fan_energy()\n",
    "        self.annual_cleaner_energy = clean_cost.annual_energy()\n",
    "\n",
    "    def cooling_co2_tons(self) -> float:\n",
    "        \"\"\"Calculate metric tons of CO2e produced annually from cooling.\"\"\"\n",
    "        return self.ops_cost.cooling_oa_energy() * self.ELECTRICITY_EMISSION_FACTOR\n",
    "\n",
    "    def heating_co2_tons(self) -> float:\n",
    "        \"\"\"Calculate metric tons of CO2e produced annually from heating.\"\"\"\n",
    "        match self.ops.oa_heating_src:\n",
    "            case \"Electricity\":\n",
    "                return (\n",
    "                    self.ops_cost.heating_oa_energy()[0]\n",
    "                    * self.ELECTRICITY_EMISSION_FACTOR\n",
    "                )\n",
    "            case \"Gas\":\n",
    "                return self.ops_cost.heating_oa_energy()[0] * self.NG_EMISSION_FACTOR\n",
    "            case \"Steam\":\n",
    "                return self.ops_cost.heating_oa_energy()[0] * self.STEAM_EMISSION_FACTOR\n",
    "\n",
    "    def oa_ventilation_tons(self) -> float:\n",
    "        \"\"\"Calculate metric tons of CO2e produced annually from heating and cooling.\"\"\"\n",
    "        return self.cooling_co2_tons() + self.heating_co2_tons()\n",
    "\n",
    "    def filter_fan_energy_tons(self) -> float:\n",
    "        \"\"\"Calculate metric tons of CO2e produced annually from filtration fan.\"\"\"\n",
    "        return self.annual_filt_energy * self.ELECTRICITY_EMISSION_FACTOR\n",
    "\n",
    "    def air_cleaner_energy_tons(self) -> float:\n",
    "        \"\"\"Calculate metric tons of CO2e produced annually from air cleaners.\"\"\"\n",
    "        return self.annual_cleaner_energy * self.ELECTRICITY_EMISSION_FACTOR\n",
    "\n",
    "    def total_emission_tons(self) -> float:\n",
    "        \"\"\"Calculate metric tons of CO2e produced annually from all sources.\"\"\"\n",
    "        return (\n",
    "            self.oa_ventilation_tons()\n",
    "            + self.filter_fan_energy_tons()\n",
    "            + self.air_cleaner_energy_tons()\n",
    "        )"
   ]
  },
  {
   "cell_type": "markdown",
   "metadata": {},
   "source": [
    "## Inputs Section\n",
    "\n",
    "This section of the Notebook displays the interactive options and the calculated outputs.\n",
    "\n",
    "All this code just handles setting up these interactive elements; it is not important to understand.\n",
    "\n",
    "If possible, \"collapse\" the code blocks so that just the interactive elements are displayed."
   ]
  },
  {
   "cell_type": "code",
   "execution_count": 126,
   "metadata": {},
   "outputs": [],
   "source": [
    "from autocalc.autocalc import Var\n",
    "from IPython.display import display\n",
    "import ipywidgets as widgets\n",
    "\n",
    "class BoundedFloatText(widgets.BoundedFloatText):\n",
    "    \"\"\"Class to override the default BoundedFloatText with a fixed width.\"\"\"\n",
    "\n",
    "    def __init__(self, value=None, **kwargs):\n",
    "        super().__init__(value, **kwargs)\n",
    "        self.style = {\"description_width\": \"initial\"}\n",
    "        self.layout = widgets.Layout(width=\"auto\")"
   ]
  },
  {
   "cell_type": "markdown",
   "metadata": {},
   "source": [
    "### General Inputs"
   ]
  },
  {
   "cell_type": "code",
   "execution_count": 127,
   "metadata": {},
   "outputs": [],
   "source": [
    "city_input = Var(\n",
    "    \"Representative City\",\n",
    "    widget=widgets.Dropdown(options=operation_info_126.index.values),\n",
    "    initial_value=\"Raleigh, NC\",\n",
    ")\n",
    "\n",
    "space_input = Var(\n",
    "    \"Space Type\",\n",
    "    widget=widgets.Dropdown(options=oa_rates.index.values),\n",
    "    initial_value=\"Office space\",\n",
    ")\n",
    "\n",
    "floor_area_input = Var(\n",
    "    initial_value=50_000,\n",
    "    widget=BoundedFloatText(min=0, max=1e7, description=\"Floor area (sq ft)\"),\n",
    ")\n",
    "\n",
    "avg_height_input = Var(\n",
    "    initial_value=10,\n",
    "    widget=BoundedFloatText(min=8, max=100, description=\"Average ceiling height (ft)\"),\n",
    ")\n",
    "\n",
    "occupancy_input = Var(\n",
    "    initial_value=250,\n",
    "    widget=BoundedFloatText(min=1, max=1e5, description=\"Occupancy\"),\n",
    ")\n",
    "\n",
    "total_cfm_input = Var(\n",
    "    initial_value=floor_area_input.get(),\n",
    "    widget=BoundedFloatText(\n",
    "        min=1,\n",
    "        max=1e7,\n",
    "        description=\"Total Supply CFMs\",\n",
    "        tooltip=\"If you don't know, assume 1 CFM per sq ft.\",\n",
    "    ),\n",
    ")\n",
    "\n",
    "sys_vent_eff_input = Var(\n",
    "    initial_value=0.75,\n",
    "    widget=BoundedFloatText(\n",
    "        min=0,\n",
    "        max=1,\n",
    "        description=\"System Ventilation Efficiency\",\n",
    "        step=0.05,\n",
    "    ),\n",
    ")\n",
    "\n",
    "oa_calc_method_input = Var(\n",
    "    \"OA Calculation\",\n",
    "    widget=widgets.Dropdown(options=[\"VRP\", \"VRP+30%\", \"IAQP\", \"100% OA\", \"Other\"]),\n",
    "    initial_value=\"VRP\",\n",
    ")"
   ]
  },
  {
   "cell_type": "code",
   "execution_count": 128,
   "metadata": {},
   "outputs": [
    {
     "data": {
      "application/vnd.jupyter.widget-view+json": {
       "model_id": "2ad6d6a612734ae286a7ce95ef6240c2",
       "version_major": 2,
       "version_minor": 0
      },
      "text/plain": [
       "HBox(children=(Button(description='Representative City', disabled=True, style=ButtonStyle(button_color='lightg…"
      ]
     },
     "metadata": {},
     "output_type": "display_data"
    },
    {
     "data": {
      "application/vnd.jupyter.widget-view+json": {
       "model_id": "2c581bebc9984c3396d0db05e6ba5a27",
       "version_major": 2,
       "version_minor": 0
      },
      "text/plain": [
       "HBox(children=(Button(description='Space Type', disabled=True, style=ButtonStyle(button_color='lightgreen')), …"
      ]
     },
     "metadata": {},
     "output_type": "display_data"
    },
    {
     "data": {
      "application/vnd.jupyter.widget-view+json": {
       "model_id": "81dcf19dd1714dcb88f776b8bf11183d",
       "version_major": 2,
       "version_minor": 0
      },
      "text/plain": [
       "BoundedFloatText(value=50000.0, description='Floor area (sq ft)', layout=Layout(width='auto'), max=10000000.0,…"
      ]
     },
     "metadata": {},
     "output_type": "display_data"
    },
    {
     "data": {
      "application/vnd.jupyter.widget-view+json": {
       "model_id": "52f68d8d5fb54311878c51f61c92f062",
       "version_major": 2,
       "version_minor": 0
      },
      "text/plain": [
       "BoundedFloatText(value=10.0, description='Average ceiling height (ft)', layout=Layout(width='auto'), min=8.0, …"
      ]
     },
     "metadata": {},
     "output_type": "display_data"
    },
    {
     "data": {
      "application/vnd.jupyter.widget-view+json": {
       "model_id": "fde7e47d7e95492a814c5816b06ef750",
       "version_major": 2,
       "version_minor": 0
      },
      "text/plain": [
       "BoundedFloatText(value=250.0, description='Occupancy', layout=Layout(width='auto'), max=100000.0, min=1.0, sty…"
      ]
     },
     "metadata": {},
     "output_type": "display_data"
    },
    {
     "data": {
      "application/vnd.jupyter.widget-view+json": {
       "model_id": "79ceba6e65af4a61a6cd0c509adf8668",
       "version_major": 2,
       "version_minor": 0
      },
      "text/plain": [
       "BoundedFloatText(value=50000.0, description='Total Supply CFMs', layout=Layout(width='auto'), max=10000000.0, …"
      ]
     },
     "metadata": {},
     "output_type": "display_data"
    },
    {
     "data": {
      "application/vnd.jupyter.widget-view+json": {
       "model_id": "dcb23ccc768f46568306043ade28f14a",
       "version_major": 2,
       "version_minor": 0
      },
      "text/plain": [
       "BoundedFloatText(value=0.75, description='System Ventilation Efficiency', layout=Layout(width='auto'), max=1.0…"
      ]
     },
     "metadata": {},
     "output_type": "display_data"
    },
    {
     "data": {
      "application/vnd.jupyter.widget-view+json": {
       "model_id": "a6b1aff1e0364d1b9dff7bb14f48b7da",
       "version_major": 2,
       "version_minor": 0
      },
      "text/plain": [
       "HBox(children=(Button(description='OA Calculation', disabled=True, style=ButtonStyle(button_color='lightgreen'…"
      ]
     },
     "metadata": {},
     "output_type": "display_data"
    },
    {
     "data": {
      "application/vnd.jupyter.widget-view+json": {
       "model_id": "feeefa4d15b041f3a96fce01664eab38",
       "version_major": 2,
       "version_minor": 0
      },
      "text/plain": [
       "HBox(children=(Button(description='Outside airflow', disabled=True, style=ButtonStyle(button_color='lightgreen…"
      ]
     },
     "metadata": {},
     "output_type": "display_data"
    },
    {
     "data": {
      "application/vnd.jupyter.widget-view+json": {
       "model_id": "f690549aa3df4cbfafaa9d6a3ba3a5d3",
       "version_major": 2,
       "version_minor": 0
      },
      "text/plain": [
       "HBox(children=(Button(description='Outside air ACH', disabled=True, style=ButtonStyle(button_color='lightgreen…"
      ]
     },
     "metadata": {},
     "output_type": "display_data"
    }
   ],
   "source": [
    "general_input_var = Var(\n",
    "    inputs=[\n",
    "        city_input,\n",
    "        space_input,\n",
    "        floor_area_input,\n",
    "        avg_height_input,\n",
    "        occupancy_input,\n",
    "        total_cfm_input,\n",
    "        sys_vent_eff_input,\n",
    "        oa_calc_method_input,\n",
    "    ],\n",
    "    fun=GeneralInputs,\n",
    "    initial_value=GeneralInputs(\n",
    "        city_input.get(),\n",
    "        space_input.get(),\n",
    "        floor_area_input.get(),\n",
    "        avg_height_input.get(),\n",
    "        occupancy_input.get(),\n",
    "        total_cfm_input.get(),\n",
    "        sys_vent_eff_input.get(),\n",
    "        oa_calc_method_input.get(),\n",
    "    ),\n",
    ")\n",
    "\n",
    "# TODO: allow custom set value if Other is selected.\n",
    "outside_airflow_out = Var(\n",
    "    \"Outside airflow\",\n",
    "    inputs=[general_input_var],\n",
    "    fun=GeneralInputs.outside_airflow,\n",
    "    read_only=True,\n",
    "    initial_value=general_input_var.get().outside_airflow(),\n",
    "    widget=widgets.FloatText(),\n",
    ")\n",
    "\n",
    "outside_air_ach_out = Var(\n",
    "    \"Outside air ACH\",\n",
    "    inputs=[general_input_var],\n",
    "    fun=GeneralInputs.outside_ach,\n",
    "    read_only=True,\n",
    "    initial_value=general_input_var.get().outside_ach(),\n",
    "    widget=widgets.FloatText(),\n",
    ")\n",
    "\n",
    "display(\n",
    "    city_input,\n",
    "    space_input,\n",
    "    floor_area_input.widget,\n",
    "    avg_height_input.widget,\n",
    "    occupancy_input.widget,\n",
    "    total_cfm_input.widget,\n",
    "    sys_vent_eff_input.widget,\n",
    "    oa_calc_method_input,\n",
    "    outside_airflow_out,\n",
    "    outside_air_ach_out,\n",
    ")"
   ]
  },
  {
   "cell_type": "markdown",
   "metadata": {},
   "source": [
    "### Outside Air Ventilation Energy & Operating Costs Inputs"
   ]
  },
  {
   "cell_type": "code",
   "execution_count": 129,
   "metadata": {},
   "outputs": [
    {
     "data": {
      "application/vnd.jupyter.widget-view+json": {
       "model_id": "9bae574b81404933af1a88cc4b3387f7",
       "version_major": 2,
       "version_minor": 0
      },
      "text/plain": [
       "HBox(children=(Button(description='OA Cooling Source', disabled=True, style=ButtonStyle(button_color='lightgre…"
      ]
     },
     "metadata": {},
     "output_type": "display_data"
    },
    {
     "data": {
      "application/vnd.jupyter.widget-view+json": {
       "model_id": "238a7b3c24a14cabbdc791830c7ed65b",
       "version_major": 2,
       "version_minor": 0
      },
      "text/plain": [
       "HBox(children=(Button(description='OA Heating Source', disabled=True, style=ButtonStyle(button_color='lightgre…"
      ]
     },
     "metadata": {},
     "output_type": "display_data"
    },
    {
     "data": {
      "application/vnd.jupyter.widget-view+json": {
       "model_id": "5c268b00239848e28a887e82ad491680",
       "version_major": 2,
       "version_minor": 0
      },
      "text/plain": [
       "HBox(children=(Button(description='Hours / Day Ops', disabled=True, style=ButtonStyle(button_color='lightgreen…"
      ]
     },
     "metadata": {},
     "output_type": "display_data"
    },
    {
     "data": {
      "application/vnd.jupyter.widget-view+json": {
       "model_id": "2c75c06859594bdebf1142b60f745ad8",
       "version_major": 2,
       "version_minor": 0
      },
      "text/plain": [
       "HBox(children=(Button(description='Days / Week Ops', disabled=True, style=ButtonStyle(button_color='lightgreen…"
      ]
     },
     "metadata": {},
     "output_type": "display_data"
    },
    {
     "data": {
      "application/vnd.jupyter.widget-view+json": {
       "model_id": "75993e9a057e4fbab117fd6e4d893522",
       "version_major": 2,
       "version_minor": 0
      },
      "text/plain": [
       "HBox(children=(Button(description='COP', disabled=True, style=ButtonStyle(button_color='lightgreen')), Bounded…"
      ]
     },
     "metadata": {},
     "output_type": "display_data"
    },
    {
     "data": {
      "application/vnd.jupyter.widget-view+json": {
       "model_id": "78aca009b70d4d7ca3a300dfe80a1c86",
       "version_major": 2,
       "version_minor": 0
      },
      "text/plain": [
       "HBox(children=(Button(description='Heating Efficiency', disabled=True, style=ButtonStyle(button_color='lightgr…"
      ]
     },
     "metadata": {},
     "output_type": "display_data"
    },
    {
     "data": {
      "application/vnd.jupyter.widget-view+json": {
       "model_id": "876c079023f247c295ea73d25f1dbe41",
       "version_major": 2,
       "version_minor": 0
      },
      "text/plain": [
       "HBox(children=(Button(description='Electricity Rate', disabled=True, style=ButtonStyle(button_color='lightgree…"
      ]
     },
     "metadata": {},
     "output_type": "display_data"
    },
    {
     "data": {
      "application/vnd.jupyter.widget-view+json": {
       "model_id": "b3939d19dc484793a01894a14d76e018",
       "version_major": 2,
       "version_minor": 0
      },
      "text/plain": [
       "HBox(children=(Button(description='Heating Energy Rate', disabled=True, style=ButtonStyle(button_color='lightg…"
      ]
     },
     "metadata": {},
     "output_type": "display_data"
    }
   ],
   "source": [
    "oa_cool_src_input = Var(\n",
    "    \"OA Cooling Source\",\n",
    "    initial_value=\"Electricity\",\n",
    "    widget=widgets.Dropdown(options=[\"Electricity\"]),\n",
    ")\n",
    "\n",
    "oa_heat_src_input = Var(\n",
    "    \"OA Heating Source\",\n",
    "    initial_value=\"Electricity\",\n",
    "    widget=widgets.Dropdown(options=[\"Electricity\", \"Gas\", \"Steam\"]),\n",
    ")\n",
    "\n",
    "hrs_per_day_input = Var(\n",
    "    \"Hours / Day Ops\", initial_value=12.0, widget=widgets.IntSlider(min=1, max=24)\n",
    ")\n",
    "\n",
    "days_per_wk_input = Var(\n",
    "    \"Days / Week Ops\", initial_value=6.0, widget=widgets.IntSlider(min=1, max=7)\n",
    ")\n",
    "\n",
    "cop_input = Var(\n",
    "    \"COP\", initial_value=3, widget=widgets.BoundedFloatText(min=0, max=6, step=0.05)\n",
    ")\n",
    "\n",
    "heating_eff_input = Var(\n",
    "    \"Heating Efficiency\",\n",
    "    initial_value=0.9,\n",
    "    widget=widgets.BoundedFloatText(min=0, max=1, step=0.05),\n",
    ")\n",
    "\n",
    "electricity_rate_out = Var(\n",
    "    \"Electricity Rate\",\n",
    "    inputs=[general_input_var],\n",
    "    initial_value=f\"{general_input_var.get().electricity_rate():.2f} $/kWh (blended)\",\n",
    "    fun=lambda g: f\"{g.electricity_rate():.2f} $/kWh (blended)\",\n",
    "    widget=widgets.Text(),\n",
    "    read_only=True,\n",
    ")\n",
    "\n",
    "vent_energy_var = Var(\n",
    "    inputs=[\n",
    "        oa_heat_src_input,\n",
    "        hrs_per_day_input,\n",
    "        days_per_wk_input,\n",
    "        cop_input,\n",
    "        heating_eff_input,\n",
    "    ],\n",
    "    fun=VentilationEnergyInputs,\n",
    "    initial_value=VentilationEnergyInputs(\n",
    "        oa_heat_src_input.get(),\n",
    "        hrs_per_day_input.get(),\n",
    "        days_per_wk_input.get(),\n",
    "        cop_input.get(),\n",
    "        heating_eff_input.get(),\n",
    "    ),\n",
    ")\n",
    "\n",
    "heating_energy_out = Var(\n",
    "    \"Heating Energy Rate\",\n",
    "    inputs=[vent_energy_var, general_input_var],\n",
    "    initial_value=\"{0:.2f} {1}\".format(\n",
    "        *vent_energy_var.get().heating_energy_rate(general_input_var.get())\n",
    "    ),\n",
    "    fun=lambda v, g: \"{0:.2f} {1}\".format(*v.heating_energy_rate(g)),\n",
    "    widget=widgets.Text(),\n",
    "    read_only=True,\n",
    ")\n",
    "\n",
    "display(\n",
    "    oa_cool_src_input,\n",
    "    oa_heat_src_input,\n",
    "    hrs_per_day_input,\n",
    "    days_per_wk_input,\n",
    "    cop_input,\n",
    "    heating_eff_input,\n",
    "    electricity_rate_out,\n",
    "    heating_energy_out,\n",
    ")"
   ]
  },
  {
   "cell_type": "markdown",
   "metadata": {},
   "source": [
    "### Energy Recovery Inputs"
   ]
  },
  {
   "cell_type": "code",
   "execution_count": 130,
   "metadata": {},
   "outputs": [
    {
     "data": {
      "application/vnd.jupyter.widget-view+json": {
       "model_id": "b233577b3f4b4b04acabb6488282cc5a",
       "version_major": 2,
       "version_minor": 0
      },
      "text/plain": [
       "HBox(children=(Button(description='Energy Recovery?', disabled=True, style=ButtonStyle(button_color='lightgree…"
      ]
     },
     "metadata": {},
     "output_type": "display_data"
    },
    {
     "data": {
      "application/vnd.jupyter.widget-view+json": {
       "model_id": "181873c93a904600bafa76471189820a",
       "version_major": 2,
       "version_minor": 0
      },
      "text/plain": [
       "Output()"
      ]
     },
     "metadata": {},
     "output_type": "display_data"
    }
   ],
   "source": [
    "erv_used_input = Var(\"Energy Recovery?\", initial_value=False, widget=widgets.Checkbox())\n",
    "\n",
    "summer_recov_eff_input = Var(\n",
    "    \"Summer Efficiency\",\n",
    "    initial_value=0,\n",
    "    widget=widgets.FloatSlider(min=0, max=1, step=0.01),\n",
    ")\n",
    "\n",
    "winter_recov_eff_input = Var(\n",
    "    \"Winter Efficiency\",\n",
    "    initial_value=0,\n",
    "    widget=widgets.FloatSlider(min=0, max=1, step=0.01),\n",
    ")\n",
    "\n",
    "energy_recov_out = widgets.Output()\n",
    "\n",
    "\n",
    "def on_erv_used_change(_):\n",
    "    with energy_recov_out:\n",
    "        if erv_used_input.get():\n",
    "            display(summer_recov_eff_input, winter_recov_eff_input)\n",
    "        else:\n",
    "            energy_recov_out.clear_output()\n",
    "\n",
    "\n",
    "display(erv_used_input, energy_recov_out)\n",
    "erv_used_input.widget_set.children[1].observe(on_erv_used_change, \"value\")"
   ]
  },
  {
   "cell_type": "code",
   "execution_count": 131,
   "metadata": {},
   "outputs": [],
   "source": [
    "# Auto-updating variable to track energy recovery inputs.\n",
    "energy_recov_var = Var(\n",
    "    inputs=[erv_used_input, summer_recov_eff_input, winter_recov_eff_input],\n",
    "    fun=EnergyRecoveryInputs,\n",
    "    initial_value=EnergyRecoveryInputs(erv_used_input.get(), 0, 0),\n",
    ")"
   ]
  },
  {
   "cell_type": "markdown",
   "metadata": {},
   "source": [
    "### Indoor Air Filtration Operating Costs and First Costs Inputs"
   ]
  },
  {
   "cell_type": "code",
   "execution_count": 132,
   "metadata": {},
   "outputs": [],
   "source": [
    "filt_used_input = Var(\n",
    "    \"Filt Recirc\",  # TODO: edit this widget to be able to display more text\n",
    "    description=\"Is filtration being used to clean recirculated air?\",\n",
    "    initial_value=False,\n",
    "    widget=widgets.Checkbox(),\n",
    ")\n",
    "\n",
    "merv_input = Var(\n",
    "    \"Filtration MERV\",\n",
    "    initial_value=\"HEPA\",\n",
    "    widget=widgets.Dropdown(options=filters.index.values),\n",
    ")\n",
    "\n",
    "fan_eff_input = Var(\n",
    "    \"Fan Efficiency\",\n",
    "    initial_value=0.85,\n",
    "    widget=widgets.FloatSlider(min=0, max=1, step=0.01),\n",
    ")\n",
    "\n",
    "mtr_eff_input = Var(\n",
    "    \"Motor Efficiency\",\n",
    "    initial_value=0.85,\n",
    "    widget=widgets.FloatSlider(min=0, max=1, step=0.01),\n",
    ")\n",
    "\n",
    "max_airspeed_input = Var(\n",
    "    \"Max Filter Airspeed\",\n",
    "    initial_value=500,\n",
    "    widget=widgets.BoundedFloatText(min=0, max=1e6),\n",
    ")\n",
    "\n",
    "filt_est_lifespan_input = Var(\n",
    "    initial_value=12,\n",
    "    widget=BoundedFloatText(\n",
    "        min=0, max=1e6, description=\"Estimated lifespan before maintenance (months)\"\n",
    "    ),\n",
    ")\n",
    "\n",
    "filt_maint_cost_input = Var(\n",
    "    initial_value=17.00,\n",
    "    widget=BoundedFloatText(\n",
    "        min=0,\n",
    "        max=1e6,\n",
    "        description=\"Cost of replacing a filter ($/filter)\",\n",
    "        tooltip=\"This includes the cost of labor and materials for each filter.\",\n",
    "    ),\n",
    ")"
   ]
  },
  {
   "cell_type": "code",
   "execution_count": 133,
   "metadata": {},
   "outputs": [
    {
     "data": {
      "application/vnd.jupyter.widget-view+json": {
       "model_id": "7b156de7a1a2431ab3b383835396c6b5",
       "version_major": 2,
       "version_minor": 0
      },
      "text/plain": [
       "HBox(children=(Button(description='Filt Recirc (?)', disabled=True, style=ButtonStyle(button_color='lightgreen…"
      ]
     },
     "metadata": {},
     "output_type": "display_data"
    },
    {
     "data": {
      "application/vnd.jupyter.widget-view+json": {
       "model_id": "6fe7b7b2ed2a4d59af982a93d72e97fc",
       "version_major": 2,
       "version_minor": 0
      },
      "text/plain": [
       "Output()"
      ]
     },
     "metadata": {},
     "output_type": "display_data"
    }
   ],
   "source": [
    "# Auto-updating variable containing state of filtration inputs\n",
    "filtration_inputs_var = Var(\n",
    "    inputs=[\n",
    "        filt_used_input,\n",
    "        merv_input,\n",
    "        fan_eff_input,\n",
    "        mtr_eff_input,\n",
    "        max_airspeed_input,\n",
    "        filt_maint_cost_input,\n",
    "    ],\n",
    "    fun=IndoorAirFiltrationInputs,\n",
    "    initial_value=IndoorAirFiltrationInputs(\n",
    "        filt_used_input.get(),\n",
    "        merv_input.get(),\n",
    "        fan_eff_input.get(),\n",
    "        mtr_eff_input.get(),\n",
    "        max_airspeed_input.get(),\n",
    "        filt_maint_cost_input.get(),\n",
    "    ),\n",
    ")\n",
    "\n",
    "avg_press_drop_out = Var(\n",
    "    \"Avg Filt Press Drop\",\n",
    "    inputs=[filtration_inputs_var],\n",
    "    fun=IndoorAirFiltrationInputs.avg_pressure_drop,\n",
    "    initial_value=filtration_inputs_var.get().avg_pressure_drop(),\n",
    "    read_only=True,\n",
    "    widget=widgets.FloatText(),\n",
    ")\n",
    "\n",
    "filt_ach_out = Var(\n",
    "    \"Filtration ACH\",\n",
    "    inputs=[filtration_inputs_var, general_input_var],\n",
    "    fun=IndoorAirFiltrationInputs.filtration_ach,\n",
    "    initial_value=filtration_inputs_var.get().filtration_ach(general_input_var.get()),\n",
    "    read_only=True,\n",
    "    widget=widgets.FloatText(),\n",
    ")\n",
    "\n",
    "filt_out = widgets.Output()\n",
    "\n",
    "\n",
    "def on_filt_used_change(_):\n",
    "    with filt_out:\n",
    "        if filt_used_input.get():\n",
    "            display(\n",
    "                merv_input,\n",
    "                avg_press_drop_out,\n",
    "                filt_ach_out,\n",
    "                fan_eff_input,\n",
    "                mtr_eff_input,\n",
    "                max_airspeed_input,\n",
    "                filt_est_lifespan_input.widget,\n",
    "                filt_maint_cost_input.widget,\n",
    "            )\n",
    "        else:\n",
    "            filt_out.clear_output()\n",
    "\n",
    "\n",
    "filt_used_input.widget_set.children[1].observe(on_filt_used_change, \"value\")\n",
    "display(filt_used_input, filt_out)"
   ]
  },
  {
   "cell_type": "code",
   "execution_count": 134,
   "metadata": {},
   "outputs": [],
   "source": [
    "air_cleaner_used_input = Var(\n",
    "    \"Air Cleaners Used\",\n",
    "    description=(\n",
    "        \"Are air cleaners being utilized to clean additional recirculated air?\"\n",
    "    ),\n",
    "    widget=widgets.Checkbox(),\n",
    "    initial_value=False,\n",
    ")"
   ]
  },
  {
   "cell_type": "code",
   "execution_count": 135,
   "metadata": {},
   "outputs": [],
   "source": [
    "cleaner_quant_input = Var(\n",
    "    \"Quantity\", initial_value=50, widget=widgets.BoundedIntText(min=0, max=1_000_000)\n",
    ")\n",
    "\n",
    "cleaner_supply_air_input = Var(\n",
    "    \"Supply Air / Cleaner\",\n",
    "    initial_value=200,\n",
    "    widget=widgets.BoundedFloatText(min=0, max=1e6),\n",
    ")\n",
    "\n",
    "cleaner_cadr_input = Var(\n",
    "    \"CADR / Air Cleaner\", initial_value=200, widget=BoundedFloatText(min=0, max=1e6)\n",
    ")\n",
    "\n",
    "cleaner_first_cost_input = Var(\n",
    "    \"First Cost / Cleaner\", initial_value=2200, widget=BoundedFloatText(min=0, max=1e6)\n",
    ")\n",
    "\n",
    "cleaner_power_input = Var(\n",
    "    \"Air Cleaner Power\",\n",
    "    initial_value=cleaner_supply_air_input.get() * 0.0003,  # kW / unit\n",
    "    widget=BoundedFloatText(min=0, max=1e6),\n",
    ")\n",
    "\n",
    "cleaner_est_lifespan_input = Var(\n",
    "    \"Est. Maint. Lifetime\", initial_value=12, widget=BoundedFloatText(min=1, max=12)\n",
    ")\n",
    "\n",
    "cleaner_labor_cost_input = Var(\n",
    "    \"Maint. labor cost\", initial_value=40, widget=BoundedFloatText(min=0, max=1e6)\n",
    ")\n",
    "\n",
    "cleaner_matrl_cost_input = Var(\n",
    "    \"Maint. Matrl. Cost\", initial_value=150, widget=BoundedFloatText(min=0, max=1e6)\n",
    ")"
   ]
  },
  {
   "cell_type": "code",
   "execution_count": 136,
   "metadata": {},
   "outputs": [],
   "source": [
    "# Auto-updating variable storing state of air cleaner inputs.\n",
    "air_cleaner_input_var = Var(\n",
    "    inputs=[\n",
    "        air_cleaner_used_input,\n",
    "        cleaner_quant_input,\n",
    "        cleaner_supply_air_input,\n",
    "        cleaner_cadr_input,\n",
    "        cleaner_first_cost_input,\n",
    "        cleaner_power_input,\n",
    "        cleaner_est_lifespan_input,\n",
    "        cleaner_labor_cost_input,\n",
    "        cleaner_matrl_cost_input,\n",
    "    ],\n",
    "    initial_value=AirCleanerInputs(\n",
    "        air_cleaner_used_input.get(),\n",
    "        cleaner_quant_input.get(),\n",
    "        cleaner_supply_air_input.get(),\n",
    "        cleaner_cadr_input.get(),\n",
    "        cleaner_first_cost_input.get(),\n",
    "        cleaner_power_input.get(),\n",
    "        cleaner_est_lifespan_input.get(),\n",
    "        cleaner_labor_cost_input.get(),\n",
    "        cleaner_matrl_cost_input.get(),\n",
    "    ),\n",
    "    fun=AirCleanerInputs,\n",
    ")"
   ]
  },
  {
   "cell_type": "code",
   "execution_count": 137,
   "metadata": {},
   "outputs": [],
   "source": [
    "additional_ach_out = Var(\n",
    "    \"Additional ACH\",\n",
    "    inputs=[air_cleaner_input_var, general_input_var],\n",
    "    fun=AirCleanerInputs.additional_ach,\n",
    "    initial_value=air_cleaner_input_var.get().additional_ach(general_input_var.get()),\n",
    "    widget=widgets.FloatText(),\n",
    "    read_only=True,\n",
    ")"
   ]
  },
  {
   "cell_type": "code",
   "execution_count": 138,
   "metadata": {},
   "outputs": [
    {
     "data": {
      "application/vnd.jupyter.widget-view+json": {
       "model_id": "4778ccad1d5d4871a1fe7f24955b954f",
       "version_major": 2,
       "version_minor": 0
      },
      "text/plain": [
       "HBox(children=(Button(description='Air Cleaners Used (?)', disabled=True, style=ButtonStyle(button_color='ligh…"
      ]
     },
     "metadata": {},
     "output_type": "display_data"
    },
    {
     "data": {
      "application/vnd.jupyter.widget-view+json": {
       "model_id": "44a7c9d8f18b41f993e0283072dd114f",
       "version_major": 2,
       "version_minor": 0
      },
      "text/plain": [
       "Output()"
      ]
     },
     "metadata": {},
     "output_type": "display_data"
    }
   ],
   "source": [
    "air_cleaner_out = widgets.Output()\n",
    "\n",
    "\n",
    "def on_air_cleaner_used_changed(_):\n",
    "    with air_cleaner_out:\n",
    "        if air_cleaner_used_input.get():\n",
    "            display(\n",
    "                cleaner_quant_input,\n",
    "                cleaner_supply_air_input,\n",
    "                cleaner_cadr_input,\n",
    "                additional_ach_out,\n",
    "                cleaner_first_cost_input,\n",
    "                cleaner_power_input,\n",
    "                cleaner_est_lifespan_input,\n",
    "                cleaner_labor_cost_input,\n",
    "                cleaner_matrl_cost_input,\n",
    "            )\n",
    "        else:\n",
    "            air_cleaner_out.clear_output()\n",
    "\n",
    "\n",
    "air_cleaner_used_input.widget_set.children[1].observe(\n",
    "    on_air_cleaner_used_changed, \"value\"\n",
    ")\n",
    "\n",
    "display(air_cleaner_used_input, air_cleaner_out)"
   ]
  },
  {
   "cell_type": "markdown",
   "metadata": {},
   "source": [
    "## Outputs Section\n",
    "### Outside Air Ventilation Energy Consumption and Cost"
   ]
  },
  {
   "cell_type": "code",
   "execution_count": 139,
   "metadata": {},
   "outputs": [
    {
     "data": {
      "application/vnd.jupyter.widget-view+json": {
       "model_id": "803b520ae0c64e528c8af6c26f6756dd",
       "version_major": 2,
       "version_minor": 0
      },
      "text/plain": [
       "HBox(children=(Button(description='Cooling OA Energy', disabled=True, style=ButtonStyle(button_color='lightgre…"
      ]
     },
     "metadata": {},
     "output_type": "display_data"
    },
    {
     "data": {
      "application/vnd.jupyter.widget-view+json": {
       "model_id": "828fde947c374319ba6e72388492d075",
       "version_major": 2,
       "version_minor": 0
      },
      "text/plain": [
       "HBox(children=(Button(description='Cooling OA Cost', disabled=True, style=ButtonStyle(button_color='lightgreen…"
      ]
     },
     "metadata": {},
     "output_type": "display_data"
    },
    {
     "data": {
      "application/vnd.jupyter.widget-view+json": {
       "model_id": "383f970e3adb4adbb69aa984f423b5c9",
       "version_major": 2,
       "version_minor": 0
      },
      "text/plain": [
       "HBox(children=(Button(description='Heating OA Cost', disabled=True, style=ButtonStyle(button_color='lightgreen…"
      ]
     },
     "metadata": {},
     "output_type": "display_data"
    },
    {
     "data": {
      "application/vnd.jupyter.widget-view+json": {
       "model_id": "82654493657b49e1bc1f19fba01169fd",
       "version_major": 2,
       "version_minor": 0
      },
      "text/plain": [
       "HBox(children=(Button(description='Heating OA Cost', disabled=True, style=ButtonStyle(button_color='lightgreen…"
      ]
     },
     "metadata": {},
     "output_type": "display_data"
    }
   ],
   "source": [
    "oa_ventilation_cost_var = Var(\n",
    "    inputs=[general_input_var, vent_energy_var, energy_recov_var],\n",
    "    fun=OutsideAirVentilationCost,\n",
    "    initial_value=OutsideAirVentilationCost(\n",
    "        general_input_var.get(), vent_energy_var.get(), energy_recov_var.get()\n",
    "    ),\n",
    ")\n",
    "\n",
    "cooling_oa_vent_energy_out = Var(\n",
    "    \"Cooling OA Energy\",\n",
    "    inputs=[oa_ventilation_cost_var],\n",
    "    fun=OutsideAirVentilationCost.cooling_oa_energy,\n",
    "    initial_value=oa_ventilation_cost_var.get().cooling_oa_energy(),\n",
    "    widget=widgets.FloatText(),\n",
    "    read_only=True,\n",
    ")\n",
    "\n",
    "cooling_oa_vent_cost_out = Var(\n",
    "    \"Cooling OA Cost\",\n",
    "    inputs=[oa_ventilation_cost_var],\n",
    "    fun=OutsideAirVentilationCost.annual_cooling_oa_cost,\n",
    "    initial_value=oa_ventilation_cost_var.get().annual_cooling_oa_cost(),\n",
    "    widget=widgets.FloatText(),\n",
    "    read_only=True,\n",
    ")\n",
    "\n",
    "heating_oa_vent_energy_out = Var(\n",
    "    \"Heating OA Cost\",\n",
    "    inputs=[oa_ventilation_cost_var],\n",
    "    initial_value=\"{0:.2f} {1}\".format(\n",
    "        *oa_ventilation_cost_var.get().heating_oa_energy()\n",
    "    ),\n",
    "    fun=lambda v: \"{0:.2f} {1}\".format(*v.heating_oa_energy()),\n",
    "    widget=widgets.Text(),\n",
    "    read_only=True,\n",
    ")\n",
    "\n",
    "heating_oa_vent_cost_out = Var(\n",
    "    \"Heating OA Cost\",\n",
    "    inputs=[oa_ventilation_cost_var],\n",
    "    initial_value=oa_ventilation_cost_var.get().annual_heating_oa_cost(),\n",
    "    fun=OutsideAirVentilationCost.annual_heating_oa_cost,\n",
    "    widget=widgets.FloatText(),\n",
    "    read_only=True,\n",
    ")\n",
    "\n",
    "display(\n",
    "    cooling_oa_vent_energy_out,\n",
    "    cooling_oa_vent_cost_out,\n",
    "    heating_oa_vent_energy_out,\n",
    "    heating_oa_vent_cost_out,\n",
    ")"
   ]
  },
  {
   "cell_type": "markdown",
   "metadata": {},
   "source": [
    "### Indoor Air Filtration Energy Consumption and Cost"
   ]
  },
  {
   "cell_type": "code",
   "execution_count": 140,
   "metadata": {},
   "outputs": [],
   "source": [
    "air_filtration_cost_var = Var(\n",
    "    inputs=[general_input_var, vent_energy_var, filtration_inputs_var],\n",
    "    fun=IndoorAirFiltrationCost,\n",
    "    initial_value=IndoorAirFiltrationCost(\n",
    "        general_input_var.get(), vent_energy_var.get(), filtration_inputs_var.get()\n",
    "    ),\n",
    ")"
   ]
  },
  {
   "cell_type": "code",
   "execution_count": 141,
   "metadata": {},
   "outputs": [
    {
     "data": {
      "application/vnd.jupyter.widget-view+json": {
       "model_id": "88a3299f9d654c45af6fbf322f8dfef2",
       "version_major": 2,
       "version_minor": 0
      },
      "text/plain": [
       "HBox(children=(Button(description='Filt. Fan Load (kW)', disabled=True, style=ButtonStyle(button_color='lightg…"
      ]
     },
     "metadata": {},
     "output_type": "display_data"
    }
   ],
   "source": [
    "Var(\n",
    "    \"Filt. Fan Load (kW)\",\n",
    "    inputs=[air_filtration_cost_var],\n",
    "    initial_value=air_filtration_cost_var.get().filtration_fan_energy_load(),\n",
    "    fun=IndoorAirFiltrationCost.filtration_fan_energy_load,\n",
    "    widget=widgets.FloatText(),\n",
    "    read_only=True\n",
    ")"
   ]
  },
  {
   "cell_type": "code",
   "execution_count": 142,
   "metadata": {},
   "outputs": [
    {
     "data": {
      "application/vnd.jupyter.widget-view+json": {
       "model_id": "6fb4c47d472845499885893813352d61",
       "version_major": 2,
       "version_minor": 0
      },
      "text/plain": [
       "HBox(children=(Button(description='Energy Cost ($/yr)', disabled=True, style=ButtonStyle(button_color='lightgr…"
      ]
     },
     "metadata": {},
     "output_type": "display_data"
    }
   ],
   "source": [
    "Var(\n",
    "    \"Energy Cost ($/yr)\",\n",
    "    inputs=[air_filtration_cost_var],\n",
    "    initial_value=air_filtration_cost_var.get().annual_fan_energy_cost(),\n",
    "    fun=IndoorAirFiltrationCost.annual_fan_energy_cost,\n",
    "    widget=widgets.FloatText(),\n",
    "    read_only=True\n",
    ")"
   ]
  },
  {
   "cell_type": "code",
   "execution_count": 143,
   "metadata": {},
   "outputs": [
    {
     "data": {
      "application/vnd.jupyter.widget-view+json": {
       "model_id": "a2fcd509e78d4b3793b3462a5fd7d39e",
       "version_major": 2,
       "version_minor": 0
      },
      "text/plain": [
       "HBox(children=(Button(description='Material Cost ($/yr)', disabled=True, style=ButtonStyle(button_color='light…"
      ]
     },
     "metadata": {},
     "output_type": "display_data"
    }
   ],
   "source": [
    "Var(\n",
    "    \"Material Cost ($/yr)\",\n",
    "    inputs=[air_filtration_cost_var],\n",
    "    initial_value=air_filtration_cost_var.get().annual_material_cost(),\n",
    "    fun=IndoorAirFiltrationCost.annual_material_cost,\n",
    "    widget=widgets.FloatText(),\n",
    "    read_only=True\n",
    ")"
   ]
  },
  {
   "cell_type": "code",
   "execution_count": 144,
   "metadata": {},
   "outputs": [
    {
     "data": {
      "application/vnd.jupyter.widget-view+json": {
       "model_id": "d321d38b593046a9b30965c84c08c491",
       "version_major": 2,
       "version_minor": 0
      },
      "text/plain": [
       "HBox(children=(Button(description='Labor Cost ($/yr)', disabled=True, style=ButtonStyle(button_color='lightgre…"
      ]
     },
     "metadata": {},
     "output_type": "display_data"
    }
   ],
   "source": [
    "Var(\n",
    "    \"Labor Cost ($/yr)\",\n",
    "    inputs=[air_filtration_cost_var],\n",
    "    initial_value=air_filtration_cost_var.get().annual_labor_cost(),\n",
    "    fun=IndoorAirFiltrationCost.annual_labor_cost,\n",
    "    widget=widgets.FloatText(),\n",
    "    read_only=True\n",
    ")"
   ]
  },
  {
   "cell_type": "code",
   "execution_count": 145,
   "metadata": {},
   "outputs": [
    {
     "data": {
      "application/vnd.jupyter.widget-view+json": {
       "model_id": "ab9b31e3daae4494abfe0eb4624b6864",
       "version_major": 2,
       "version_minor": 0
      },
      "text/plain": [
       "HBox(children=(Button(description='Total Cost ($/yr)', disabled=True, style=ButtonStyle(button_color='lightgre…"
      ]
     },
     "metadata": {},
     "output_type": "display_data"
    }
   ],
   "source": [
    "Var(\n",
    "    \"Total Cost ($/yr)\",\n",
    "    inputs=[air_filtration_cost_var],\n",
    "    initial_value=round(air_filtration_cost_var.get().annual_total_cost(), 2),\n",
    "    fun=lambda i: round(i.annual_total_cost(), 2),\n",
    "    widget=widgets.FloatText(),\n",
    "    read_only=True,\n",
    ")"
   ]
  },
  {
   "cell_type": "markdown",
   "metadata": {},
   "source": [
    "### Air Cleaner Operating Cost and First Cost Outputs"
   ]
  },
  {
   "cell_type": "code",
   "execution_count": 146,
   "metadata": {},
   "outputs": [],
   "source": [
    "air_cleaner_cost_var = Var(\n",
    "    inputs=[general_input_var, vent_energy_var, air_cleaner_input_var],\n",
    "    initial_value=AirCleanerCost(\n",
    "        general_input_var.get(), vent_energy_var.get(), air_cleaner_input_var.get()\n",
    "    ),\n",
    "    fun=AirCleanerCost,\n",
    ")"
   ]
  },
  {
   "cell_type": "code",
   "execution_count": 147,
   "metadata": {},
   "outputs": [
    {
     "data": {
      "application/vnd.jupyter.widget-view+json": {
       "model_id": "7e0031d8d76e49efa69f224697966e9b",
       "version_major": 2,
       "version_minor": 0
      },
      "text/plain": [
       "HBox(children=(Button(description='Ann. Energy (kWh/yr)', disabled=True, style=ButtonStyle(button_color='light…"
      ]
     },
     "metadata": {},
     "output_type": "display_data"
    }
   ],
   "source": [
    "Var(\n",
    "    \"Ann. Energy (kWh/yr)\",\n",
    "    inputs=[air_cleaner_cost_var],\n",
    "    initial_value=air_cleaner_cost_var.get().annual_energy(),\n",
    "    fun=AirCleanerCost.annual_energy,\n",
    "    widget=widgets.FloatText(),\n",
    "    read_only=True\n",
    ")"
   ]
  },
  {
   "cell_type": "code",
   "execution_count": 148,
   "metadata": {},
   "outputs": [
    {
     "data": {
      "application/vnd.jupyter.widget-view+json": {
       "model_id": "a53caa7979814a7c8c11b48ba23e88e3",
       "version_major": 2,
       "version_minor": 0
      },
      "text/plain": [
       "HBox(children=(Button(description='Energy Cost ($/yr)', disabled=True, style=ButtonStyle(button_color='lightgr…"
      ]
     },
     "metadata": {},
     "output_type": "display_data"
    }
   ],
   "source": [
    "Var(\n",
    "    \"Energy Cost ($/yr)\",\n",
    "    inputs=[air_cleaner_cost_var],\n",
    "    initial_value=round(air_cleaner_cost_var.get().annual_energy_cost()),\n",
    "    fun=lambda a: round(a.annual_energy_cost()),\n",
    "    widget=widgets.FloatText(),\n",
    "    read_only=True\n",
    ")"
   ]
  },
  {
   "cell_type": "code",
   "execution_count": 149,
   "metadata": {},
   "outputs": [
    {
     "data": {
      "application/vnd.jupyter.widget-view+json": {
       "model_id": "217fd6a70c7d4856ace146a421205841",
       "version_major": 2,
       "version_minor": 0
      },
      "text/plain": [
       "HBox(children=(Button(description='Material Cost ($/yr)', disabled=True, style=ButtonStyle(button_color='light…"
      ]
     },
     "metadata": {},
     "output_type": "display_data"
    }
   ],
   "source": [
    "Var(\n",
    "    \"Material Cost ($/yr)\",\n",
    "    inputs=[air_cleaner_cost_var],\n",
    "    initial_value=round(air_cleaner_cost_var.get().annual_material_cost()),\n",
    "    fun=lambda a: round(a.annual_material_cost()),\n",
    "    widget=widgets.FloatText(),\n",
    "    read_only=True\n",
    ")"
   ]
  },
  {
   "cell_type": "code",
   "execution_count": 150,
   "metadata": {},
   "outputs": [
    {
     "data": {
      "application/vnd.jupyter.widget-view+json": {
       "model_id": "3fb0c66412144a388c377040e2afd9a0",
       "version_major": 2,
       "version_minor": 0
      },
      "text/plain": [
       "HBox(children=(Button(description='Labor Cost ($/yr)', disabled=True, style=ButtonStyle(button_color='lightgre…"
      ]
     },
     "metadata": {},
     "output_type": "display_data"
    }
   ],
   "source": [
    "Var(\n",
    "    \"Labor Cost ($/yr)\",\n",
    "    inputs=[air_cleaner_cost_var],\n",
    "    initial_value=round(air_cleaner_cost_var.get().annual_labor_cost()),\n",
    "    fun=lambda a: round(a.annual_labor_cost()),\n",
    "    widget=widgets.FloatText(),\n",
    "    read_only=True\n",
    ")"
   ]
  },
  {
   "cell_type": "code",
   "execution_count": 151,
   "metadata": {},
   "outputs": [
    {
     "data": {
      "application/vnd.jupyter.widget-view+json": {
       "model_id": "31da2644eae6486b8551f698817e526d",
       "version_major": 2,
       "version_minor": 0
      },
      "text/plain": [
       "HBox(children=(Button(description='Ann. Total Cost ($/yr)', disabled=True, style=ButtonStyle(button_color='lig…"
      ]
     },
     "metadata": {},
     "output_type": "display_data"
    }
   ],
   "source": [
    "Var(\n",
    "    \"Ann. Total Cost ($/yr)\",\n",
    "    inputs=[air_cleaner_cost_var],\n",
    "    initial_value=round(air_cleaner_cost_var.get().annual_total_cost()),\n",
    "    fun=lambda a: round(a.annual_total_cost()),\n",
    "    widget=widgets.FloatText(),\n",
    "    read_only=True\n",
    ")"
   ]
  },
  {
   "cell_type": "code",
   "execution_count": 152,
   "metadata": {},
   "outputs": [
    {
     "data": {
      "application/vnd.jupyter.widget-view+json": {
       "model_id": "0a5961c987104276b94923c0c9ac54a8",
       "version_major": 2,
       "version_minor": 0
      },
      "text/plain": [
       "HBox(children=(Button(description='First Cost ($)', disabled=True, style=ButtonStyle(button_color='lightgreen'…"
      ]
     },
     "metadata": {},
     "output_type": "display_data"
    }
   ],
   "source": [
    "Var(\n",
    "    \"First Cost ($)\",\n",
    "    inputs=[air_cleaner_cost_var],\n",
    "    initial_value=round(air_cleaner_cost_var.get().first_cost()),\n",
    "    fun=lambda a: round(a.first_cost()),\n",
    "    widget=widgets.FloatText(),\n",
    "    read_only=True\n",
    ")"
   ]
  },
  {
   "cell_type": "markdown",
   "metadata": {},
   "source": [
    "### Effective Air Changes per Hour (eACH)"
   ]
  },
  {
   "cell_type": "code",
   "execution_count": 153,
   "metadata": {},
   "outputs": [],
   "source": [
    "effective_ach_out_var = Var(\n",
    "    inputs=[general_input_var, filtration_inputs_var, air_cleaner_input_var],\n",
    "    initial_value=EffectiveACH(\n",
    "        general_input_var.get(),\n",
    "        filtration_inputs_var.get(),\n",
    "        air_cleaner_input_var.get(),\n",
    "    ),\n",
    "    fun=EffectiveACH,\n",
    ")"
   ]
  },
  {
   "cell_type": "code",
   "execution_count": 154,
   "metadata": {},
   "outputs": [
    {
     "data": {
      "application/vnd.jupyter.widget-view+json": {
       "model_id": "9df83a577ff446448cf1eb11d4e40b68",
       "version_major": 2,
       "version_minor": 0
      },
      "text/plain": [
       "HBox(children=(Button(description='Outside air ACH (/h)', disabled=True, style=ButtonStyle(button_color='light…"
      ]
     },
     "metadata": {},
     "output_type": "display_data"
    }
   ],
   "source": [
    "Var(\n",
    "    \"Outside air ACH (/h)\",\n",
    "    inputs=[effective_ach_out_var],\n",
    "    initial_value=effective_ach_out_var.get().get_oa_ach(),\n",
    "    fun=EffectiveACH.get_oa_ach,\n",
    "    widget=widgets.FloatText(),\n",
    "    read_only=True\n",
    ")"
   ]
  },
  {
   "cell_type": "code",
   "execution_count": 155,
   "metadata": {},
   "outputs": [
    {
     "data": {
      "application/vnd.jupyter.widget-view+json": {
       "model_id": "6e3374f8613f49de813a63a89f582f43",
       "version_major": 2,
       "version_minor": 0
      },
      "text/plain": [
       "HBox(children=(Button(description='Filtration ACH (/h)', disabled=True, style=ButtonStyle(button_color='lightg…"
      ]
     },
     "metadata": {},
     "output_type": "display_data"
    }
   ],
   "source": [
    "Var(\n",
    "    \"Filtration ACH (/h)\",\n",
    "    inputs=[effective_ach_out_var],\n",
    "    initial_value=effective_ach_out_var.get().get_filt_ach(),\n",
    "    fun=EffectiveACH.get_filt_ach,\n",
    "    widget=widgets.FloatText(),\n",
    "    read_only=True\n",
    ")"
   ]
  },
  {
   "cell_type": "code",
   "execution_count": 156,
   "metadata": {},
   "outputs": [
    {
     "data": {
      "application/vnd.jupyter.widget-view+json": {
       "model_id": "02d82b1032a04a2da1d14a7a32c450e1",
       "version_major": 2,
       "version_minor": 0
      },
      "text/plain": [
       "HBox(children=(Button(description='Additional ACH (/h)', disabled=True, style=ButtonStyle(button_color='lightg…"
      ]
     },
     "metadata": {},
     "output_type": "display_data"
    }
   ],
   "source": [
    "Var(\n",
    "    \"Additional ACH (/h)\",\n",
    "    inputs=[effective_ach_out_var],\n",
    "    initial_value=effective_ach_out_var.get().get_add_ach(),\n",
    "    fun=EffectiveACH.get_add_ach,\n",
    "    widget=widgets.FloatText(),\n",
    "    read_only=True\n",
    ")"
   ]
  },
  {
   "cell_type": "code",
   "execution_count": 157,
   "metadata": {},
   "outputs": [
    {
     "data": {
      "application/vnd.jupyter.widget-view+json": {
       "model_id": "7349bfa0c95243798ba32b8b000203c1",
       "version_major": 2,
       "version_minor": 0
      },
      "text/plain": [
       "HBox(children=(Button(description='Effective ACH (/h)', disabled=True, style=ButtonStyle(button_color='lightgr…"
      ]
     },
     "metadata": {},
     "output_type": "display_data"
    }
   ],
   "source": [
    "Var(\n",
    "    \"Effective ACH (/h)\",\n",
    "    inputs=[effective_ach_out_var],\n",
    "    initial_value=effective_ach_out_var.get().get_effective_ach(),\n",
    "    fun=EffectiveACH.get_effective_ach,\n",
    "    widget=widgets.FloatText(),\n",
    "    read_only=True\n",
    ")"
   ]
  },
  {
   "cell_type": "markdown",
   "metadata": {},
   "source": [
    "## Annual Cost Summary"
   ]
  },
  {
   "cell_type": "code",
   "execution_count": 158,
   "metadata": {},
   "outputs": [],
   "source": [
    "annual_cost_out_var = Var(\n",
    "    inputs=[oa_ventilation_cost_var, air_filtration_cost_var, air_cleaner_cost_var],\n",
    "    initial_value=AnnualCostSummary(\n",
    "        oa_ventilation_cost_var.get(),\n",
    "        air_filtration_cost_var.get(),\n",
    "        air_cleaner_cost_var.get(),\n",
    "    ),\n",
    "    fun=AnnualCostSummary\n",
    ")"
   ]
  },
  {
   "cell_type": "code",
   "execution_count": 159,
   "metadata": {},
   "outputs": [
    {
     "data": {
      "application/vnd.jupyter.widget-view+json": {
       "model_id": "2c2ab39a88bf48d3b90bec815bdc5f86",
       "version_major": 2,
       "version_minor": 0
      },
      "text/plain": [
       "HBox(children=(Button(description='Ann. OA Vent. Cost', disabled=True, style=ButtonStyle(button_color='lightgr…"
      ]
     },
     "metadata": {},
     "output_type": "display_data"
    }
   ],
   "source": [
    "Var(\n",
    "    \"Ann. OA Vent. Cost\",\n",
    "    inputs=[annual_cost_out_var],\n",
    "    initial_value=round(annual_cost_out_var.get().oa_vent_cost),\n",
    "    fun=lambda annual_cost: round(annual_cost.oa_vent_cost),\n",
    "    widget=widgets.FloatText(),\n",
    "    read_only=True\n",
    ")"
   ]
  },
  {
   "cell_type": "code",
   "execution_count": 160,
   "metadata": {},
   "outputs": [
    {
     "data": {
      "application/vnd.jupyter.widget-view+json": {
       "model_id": "d6fbb3fffc5e4742b91abeca9e600b8e",
       "version_major": 2,
       "version_minor": 0
      },
      "text/plain": [
       "HBox(children=(Button(description='Indoor Air Filt. Cost', disabled=True, style=ButtonStyle(button_color='ligh…"
      ]
     },
     "metadata": {},
     "output_type": "display_data"
    }
   ],
   "source": [
    "Var(\n",
    "    \"Indoor Air Filt. Cost\",\n",
    "    inputs=[annual_cost_out_var],\n",
    "    initial_value=f\"{round(annual_cost_out_var.get().filter_energy_maint_cost)} $/yr\",\n",
    "    fun=lambda annual_cost: f\"{round(annual_cost.filter_energy_maint_cost)} $/yr\",\n",
    "    widget=widgets.Text(),\n",
    "    read_only=True,\n",
    ")"
   ]
  },
  {
   "cell_type": "code",
   "execution_count": 161,
   "metadata": {},
   "outputs": [
    {
     "data": {
      "application/vnd.jupyter.widget-view+json": {
       "model_id": "12946324a6ed41dd86cf5ee6946bc666",
       "version_major": 2,
       "version_minor": 0
      },
      "text/plain": [
       "HBox(children=(Button(description='Air Cleaner Cost', disabled=True, style=ButtonStyle(button_color='lightgree…"
      ]
     },
     "metadata": {},
     "output_type": "display_data"
    }
   ],
   "source": [
    "Var(\n",
    "    \"Air Cleaner Cost\",\n",
    "    inputs=[annual_cost_out_var],\n",
    "    initial_value=f\"{round(annual_cost_out_var.get().cleaner_energy_maint_cost)} $/yr\",\n",
    "    fun=lambda annual_cost: f\"{round(annual_cost.cleaner_energy_maint_cost)} $/yr\",\n",
    "    widget=widgets.Text(),\n",
    "    read_only=True,\n",
    ")"
   ]
  },
  {
   "cell_type": "code",
   "execution_count": 162,
   "metadata": {},
   "outputs": [
    {
     "data": {
      "application/vnd.jupyter.widget-view+json": {
       "model_id": "818c843158044a2d9e45eb2d0b4367cd",
       "version_major": 2,
       "version_minor": 0
      },
      "text/plain": [
       "HBox(children=(Button(description='Total Annual Costs', disabled=True, style=ButtonStyle(button_color='lightgr…"
      ]
     },
     "metadata": {},
     "output_type": "display_data"
    }
   ],
   "source": [
    "Var(\n",
    "    \"Total Annual Costs\",\n",
    "    inputs=[annual_cost_out_var],\n",
    "    initial_value=f\"{round(annual_cost_out_var.get().total_annual_cost)} $/yr\",\n",
    "    fun=lambda annual_cost: f\"{round(annual_cost.total_annual_cost)} $/yr\",\n",
    "    widget=widgets.Text(),\n",
    "    read_only=True,\n",
    ")"
   ]
  },
  {
   "cell_type": "markdown",
   "metadata": {},
   "source": [
    "## Annual Carbon Emissions"
   ]
  },
  {
   "cell_type": "code",
   "execution_count": 163,
   "metadata": {},
   "outputs": [],
   "source": [
    "annual_carbon_emissions_out_var = Var(\n",
    "    inputs=[\n",
    "        vent_energy_var,\n",
    "        oa_ventilation_cost_var,\n",
    "        air_filtration_cost_var,\n",
    "        air_cleaner_cost_var,\n",
    "    ],\n",
    "    initial_value=AnnualCarbonEmissions(\n",
    "        vent_energy_var.get(),\n",
    "        oa_ventilation_cost_var.get(),\n",
    "        air_filtration_cost_var.get(),\n",
    "        air_cleaner_cost_var.get(),\n",
    "    ),\n",
    "    fun=AnnualCarbonEmissions\n",
    ")"
   ]
  },
  {
   "cell_type": "code",
   "execution_count": 164,
   "metadata": {},
   "outputs": [
    {
     "data": {
      "application/vnd.jupyter.widget-view+json": {
       "model_id": "915ac7903fa04c268f6cc1cbc13a8f19",
       "version_major": 2,
       "version_minor": 0
      },
      "text/plain": [
       "HBox(children=(Button(description='Outside Air eCO2', disabled=True, style=ButtonStyle(button_color='lightgree…"
      ]
     },
     "metadata": {},
     "output_type": "display_data"
    }
   ],
   "source": [
    "Var(\n",
    "    \"Outside Air eCO2\",\n",
    "    inputs=[annual_carbon_emissions_out_var],\n",
    "    initial_value=annual_carbon_emissions_out_var.get().oa_ventilation_tons(),\n",
    "    fun=AnnualCarbonEmissions.oa_ventilation_tons,\n",
    "    widget=widgets.FloatText(),\n",
    "    read_only=True,\n",
    ")"
   ]
  },
  {
   "cell_type": "code",
   "execution_count": 165,
   "metadata": {},
   "outputs": [
    {
     "data": {
      "application/vnd.jupyter.widget-view+json": {
       "model_id": "a4ba26ba5fff401d98c0905fb069789f",
       "version_major": 2,
       "version_minor": 0
      },
      "text/plain": [
       "HBox(children=(Button(description='Filtration Fan eCO2', disabled=True, style=ButtonStyle(button_color='lightg…"
      ]
     },
     "metadata": {},
     "output_type": "display_data"
    }
   ],
   "source": [
    "Var(\n",
    "    \"Filtration Fan eCO2\",\n",
    "    inputs=[annual_carbon_emissions_out_var],\n",
    "    initial_value=annual_carbon_emissions_out_var.get().filter_fan_energy_tons(),\n",
    "    fun=AnnualCarbonEmissions.filter_fan_energy_tons,\n",
    "    widget=widgets.FloatText(),\n",
    "    read_only=True,\n",
    ")"
   ]
  },
  {
   "cell_type": "code",
   "execution_count": 166,
   "metadata": {},
   "outputs": [
    {
     "data": {
      "application/vnd.jupyter.widget-view+json": {
       "model_id": "4df590136ca942ad93120e86aea9cf8a",
       "version_major": 2,
       "version_minor": 0
      },
      "text/plain": [
       "HBox(children=(Button(description='Air Cleaner eCO2', disabled=True, style=ButtonStyle(button_color='lightgree…"
      ]
     },
     "metadata": {},
     "output_type": "display_data"
    }
   ],
   "source": [
    "Var(\n",
    "    \"Air Cleaner eCO2\",\n",
    "    inputs=[annual_carbon_emissions_out_var],\n",
    "    initial_value=annual_carbon_emissions_out_var.get().air_cleaner_energy_tons(),\n",
    "    fun=AnnualCarbonEmissions.air_cleaner_energy_tons,\n",
    "    widget=widgets.FloatText(),\n",
    "    read_only=True,\n",
    ")"
   ]
  },
  {
   "cell_type": "code",
   "execution_count": 167,
   "metadata": {},
   "outputs": [
    {
     "data": {
      "application/vnd.jupyter.widget-view+json": {
       "model_id": "b8649dac39fd40f1871208fd1f2884cc",
       "version_major": 2,
       "version_minor": 0
      },
      "text/plain": [
       "HBox(children=(Button(description='Total Carbon Emissions', disabled=True, style=ButtonStyle(button_color='lig…"
      ]
     },
     "metadata": {},
     "output_type": "display_data"
    }
   ],
   "source": [
    "Var(\n",
    "    \"Total Carbon Emissions\",\n",
    "    inputs=[annual_carbon_emissions_out_var],\n",
    "    initial_value=\"{0:.2f} metric tons of CO2/yr\".format(\n",
    "        annual_carbon_emissions_out_var.get().total_emission_tons()\n",
    "    ),\n",
    "    fun=lambda carbon_emissions: \"{0:.2f} metric tons of CO2/yr\".format(\n",
    "        carbon_emissions.total_emission_tons()\n",
    "    ),\n",
    "    widget=widgets.Text(),\n",
    "    read_only=True,\n",
    ")"
   ]
  },
  {
   "cell_type": "markdown",
   "metadata": {},
   "source": [
    "## Scenario Comparison"
   ]
  },
  {
   "cell_type": "markdown",
   "metadata": {},
   "source": [
    "This section is meant to graph a comparison of selections like the spreadsheet does. I did not get this far, and it is probably not worth the time."
   ]
  },
  {
   "cell_type": "code",
   "execution_count": 168,
   "metadata": {},
   "outputs": [
    {
     "data": {
      "image/png": "[encoded data removed]",
      "text/plain": [
       "<Figure size 1200x700 with 4 Axes>"
      ]
     },
     "metadata": {},
     "output_type": "display_data"
    }
   ],
   "source": [
    "import matplotlib.pyplot as plt\n",
    "\n",
    "fig, axs = plt.subplots(2, 2, figsize=(12, 7))\n",
    "\n"
   ]
  }
 ],
 "metadata": {
  "kernelspec": {
   "display_name": "Python 3 (ipykernel)",
   "language": "python",
   "name": "python3"
  },
  "language_info": {
   "codemirror_mode": {
    "name": "ipython",
    "version": 3
   },
   "file_extension": ".py",
   "mimetype": "text/x-python",
   "name": "python",
   "nbconvert_exporter": "python",
   "pygments_lexer": "ipython3",
   "version": "3.11.6"
  }
 },
 "nbformat": 4,
 "nbformat_minor": 2
}
