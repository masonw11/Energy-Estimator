{
 "cells": [
  {
   "cell_type": "markdown",
   "metadata": {},
   "source": [
    "# Energy Estimator Tool\n",
    "## Introduction\n",
    "This is a port of the enVerid COVID-19 Energy Estimator 2 Excel Spreadsheet to a Jupyter Notebook to better understand the calculation methods the spreadsheet uses.\n",
    "\n",
    "The spreadsheet must be present in the same folder folder as this file for the reference tables to be read.\n",
    "\n",
    "### Dependencies\n",
    "- [pandas](https://pypi.org/project/pandas/)\n",
    "- [openpyxl](https://pypi.org/project/openpyxl/)\n",
    "- [ipywidgets](https://pypi.org/project/ipywidgets/)\n",
    "- [tabulate](https://pypi.org/project/tabulate/)"
   ]
  },
  {
   "cell_type": "markdown",
   "metadata": {},
   "source": [
    "## Reference Tables\n",
    "The same reference tables are used in this notebook.\n",
    "\n",
    "The following code imports the reference tables. Run it once before any other cell."
   ]
  },
  {
   "cell_type": "code",
   "execution_count": 2,
   "metadata": {},
   "outputs": [],
   "source": [
    "import pandas as pd\n",
    "\n",
    "SPREADSHEET_PATH = \"enVerid COVID-19 Energy Estimator 2.xlsx\"\n",
    "\n",
    "filters = pd.read_excel(\n",
    "    SPREADSHEET_PATH, \"Table 2 - Filtration Info\", skiprows=2, skipfooter=4, index_col=1\n",
    ").dropna(axis=\"columns\")\n",
    "\n",
    "# ASHRAE 62.1 2016 Outdoor Air rates (ref. table 6-1)\n",
    "# TODO: update to ASHRAE 62.1 2022\n",
    "oa_rates = pd.read_excel(\n",
    "    SPREADSHEET_PATH,\n",
    "    \"Table 3 - ASHRAE 62.1 OA Rates\",\n",
    "    header=1,\n",
    "    index_col=0,\n",
    "    names=[\"RPeople\", \"RArea\"],\n",
    ")\n",
    "\n",
    "# TODO: replace this with custom data for any city\n",
    "operation_info_126 = pd.read_excel(\n",
    "    SPREADSHEET_PATH, \"Table 1 - Operational Info\", header=3, nrows=21, index_col=1\n",
    ")\n",
    "\n",
    "operation_info_247 = pd.read_excel(\n",
    "    SPREADSHEET_PATH, \"Table 1 - Operational Info\", header=27, nrows=21, index_col=1\n",
    ")"
   ]
  },
  {
   "cell_type": "markdown",
   "metadata": {},
   "source": [
    "## General Inputs"
   ]
  },
  {
   "cell_type": "code",
   "execution_count": 5,
   "metadata": {
    "tags": [
     "hide-input"
    ]
   },
   "outputs": [
    {
     "data": {
      "application/vnd.jupyter.widget-view+json": {
       "model_id": "ce8064f7abef4aec808c110e13832fed",
       "version_major": 2,
       "version_minor": 0
      },
      "text/plain": [
       "interactive(children=(Dropdown(description='x', options=('Atlanta, GA', 'Baltimore, MD', 'Boston, MA', 'Chicag…"
      ]
     },
     "metadata": {},
     "output_type": "display_data"
    },
    {
     "data": {
      "application/vnd.jupyter.widget-view+json": {
       "model_id": "ff2b34cb8d044ece90dc863c24b549a5",
       "version_major": 2,
       "version_minor": 0
      },
      "text/plain": [
       "interactive(children=(Dropdown(description='x', index=52, options=('Art classroom', 'Auditorium seating area',…"
      ]
     },
     "metadata": {},
     "output_type": "display_data"
    },
    {
     "data": {
      "application/vnd.jupyter.widget-view+json": {
       "model_id": "3132d0bd409744b3b3035321efd54a64",
       "version_major": 2,
       "version_minor": 0
      },
      "text/plain": [
       "interactive(children=(IntSlider(value=50000, description='x', max=100000, min=100, step=100), Output()), _dom_…"
      ]
     },
     "metadata": {},
     "output_type": "display_data"
    },
    {
     "data": {
      "application/vnd.jupyter.widget-view+json": {
       "model_id": "699d9d238f144cbb95f1ea282f0a10cc",
       "version_major": 2,
       "version_minor": 0
      },
      "text/plain": [
       "interactive(children=(FloatSlider(value=8.0, description='x', max=50.0, min=7.5, step=0.25), Output()), _dom_c…"
      ]
     },
     "metadata": {},
     "output_type": "display_data"
    },
    {
     "data": {
      "application/vnd.jupyter.widget-view+json": {
       "model_id": "2c66f0111d19413b94b5d0ac46efd4cc",
       "version_major": 2,
       "version_minor": 0
      },
      "text/plain": [
       "interactive(children=(IntSlider(value=250, description='x', max=5000, min=1), Output()), _dom_classes=('widget…"
      ]
     },
     "metadata": {},
     "output_type": "display_data"
    },
    {
     "data": {
      "application/vnd.jupyter.widget-view+json": {
       "model_id": "8eb643865087416d8ba8971651174eda",
       "version_major": 2,
       "version_minor": 0
      },
      "text/plain": [
       "interactive(children=(IntSlider(value=50000, description='x', max=200000, min=200), Output()), _dom_classes=('…"
      ]
     },
     "metadata": {},
     "output_type": "display_data"
    },
    {
     "data": {
      "application/vnd.jupyter.widget-view+json": {
       "model_id": "95d48f62a0794a5cab0118e04aaa43fe",
       "version_major": 2,
       "version_minor": 0
      },
      "text/plain": [
       "interactive(children=(FloatSlider(value=0.75, description='x', max=1.0, step=0.01), Output()), _dom_classes=('…"
      ]
     },
     "metadata": {},
     "output_type": "display_data"
    },
    {
     "data": {
      "text/html": [
       "<hr>"
      ],
      "text/plain": [
       "<IPython.core.display.HTML object>"
      ]
     },
     "metadata": {},
     "output_type": "display_data"
    },
    {
     "data": {
      "application/vnd.jupyter.widget-view+json": {
       "model_id": "7af721cae0b74cf9a8223859fd71716d",
       "version_major": 2,
       "version_minor": 0
      },
      "text/plain": [
       "interactive(children=(Dropdown(description='x', options=('VRP', 'VRP+30%', 'IAQP', '100% OA'), value='VRP'), O…"
      ]
     },
     "metadata": {},
     "output_type": "display_data"
    }
   ],
   "source": [
    "from ipywidgets import widgets, interact\n",
    "from IPython.display import display, HTML\n",
    "\n",
    "repr_city = None\n",
    "space_type = None\n",
    "floor_area = None  # ft^2\n",
    "avg_ceil_hgt = None  # ft\n",
    "occupancy = None  # number occupants\n",
    "oa_calc_method = None\n",
    "total_supply_airflow = None  # CFM\n",
    "vent_efficiency = None\n",
    "\n",
    "\n",
    "# Display Representative city dropdown widget\n",
    "def set_repr_city(x):\n",
    "    global repr_city\n",
    "    repr_city = x\n",
    "\n",
    "\n",
    "repr_city_select = interact(set_repr_city, x=operation_info_126.index.values)\n",
    "repr_city_select.widget.children[0].description = \"Representative city\"\n",
    "repr_city_select.widget.children[0].style = {\n",
    "    \"description_width\": \"initial\"\n",
    "}  # Don't cut off text\n",
    "\n",
    "\n",
    "# Display Space Type selection dropdown widget\n",
    "def set_space_type(x=\"Office space\"):\n",
    "    global space_type\n",
    "    space_type = x\n",
    "\n",
    "\n",
    "space_select = interact(set_space_type, x=oa_rates.index.values)\n",
    "space_select.widget.children[0].description = \"Space type\"\n",
    "\n",
    "# Display floor area slider widget\n",
    "MIN_FLOOR_AREA = 100\n",
    "MAX_FLOOR_AREA = 100_000\n",
    "FLOOR_STEP = 100\n",
    "\n",
    "\n",
    "def set_floor_area(x=50000):\n",
    "    global floor_area\n",
    "    floor_area = x\n",
    "\n",
    "\n",
    "floor_slider = interact(set_floor_area, x=(MIN_FLOOR_AREA, MAX_FLOOR_AREA, FLOOR_STEP))\n",
    "floor_slider.widget.children[0].description = \"Floor area (ft^2)\"\n",
    "floor_slider.widget.children[0].style = {\"description_width\": \"initial\"}\n",
    "\n",
    "\n",
    "# Display average ceiling height slider widget\n",
    "MIN_CEIL_HT = 7.5\n",
    "MAX_CEIL_HT = 50\n",
    "CEIL_STEP = 0.25\n",
    "\n",
    "\n",
    "def set_ceil_height(x=8):\n",
    "    global avg_ceil_hgt\n",
    "    avg_ceil_hgt = x\n",
    "\n",
    "\n",
    "ceil_ht_slider = interact(set_ceil_height, x=(MIN_CEIL_HT, MAX_CEIL_HT, CEIL_STEP))\n",
    "ceil_ht_slider.widget.children[0].description = \"Avg. ceiling height (ft)\"\n",
    "ceil_ht_slider.widget.children[0].style = {\"description_width\": \"initial\"}\n",
    "\n",
    "# Display occupancy slider widget\n",
    "MIN_OCC = 1\n",
    "MAX_OCC = 5000\n",
    "\n",
    "\n",
    "def set_occupancy(x=250):\n",
    "    global occupancy\n",
    "    occupancy = x\n",
    "\n",
    "\n",
    "occ_slider = interact(set_occupancy, x=(MIN_OCC, MAX_OCC))\n",
    "occ_slider.widget.children[0].description = \"Occupancy (occupants)\"\n",
    "occ_slider.widget.children[0].style = {\"description_width\": \"initial\"}\n",
    "\n",
    "\n",
    "# Display total supply airflow slider widget\n",
    "MIN_AIRFLOW = 200\n",
    "MAX_AIRFLOW = 200_000\n",
    "\n",
    "\n",
    "def set_total_sup_airflow(x=50_000):\n",
    "    global total_supply_airflow\n",
    "    total_supply_airflow = x\n",
    "\n",
    "\n",
    "total_sup_airflow_slider = interact(set_total_sup_airflow, x=(MIN_AIRFLOW, MAX_AIRFLOW))\n",
    "total_sup_airflow_slider.widget.children[0].description = \"Total supply airflow (CFM)\"\n",
    "total_sup_airflow_slider.widget.children[0].style = {\"description_width\": \"initial\"}\n",
    "\n",
    "\n",
    "# Display OA calculation method dropdown widget\n",
    "def set_ventilation_efficency(x=0.75):\n",
    "    global vent_efficiency\n",
    "    vent_efficiency = x\n",
    "\n",
    "\n",
    "vent_efficiency_slider = interact(set_ventilation_efficency, x=(0, 1.0, 0.01))\n",
    "vent_efficiency_slider.widget.children[0].description = \"System ventilation efficency\"\n",
    "vent_efficiency_slider.widget.children[0].style = {\"description_width\": \"initial\"}\n",
    "\n",
    "# Horizontal separator\n",
    "display(HTML(\"<hr>\"))\n",
    "\n",
    "\n",
    "# Display ventilation efficency slider widget\n",
    "def set_ventilation_calc(x):\n",
    "    global oa_calc_method\n",
    "    oa_calc_method = x\n",
    "\n",
    "\n",
    "CALC_METHODS = [\"VRP\", \"VRP+30%\", \"IAQP\", \"100% OA\"]\n",
    "oa_calc_dropdown = interact(set_ventilation_calc, x=CALC_METHODS)\n",
    "oa_calc_dropdown.widget.children[0].description = \"OA Calculation Method\"\n",
    "oa_calc_dropdown.widget.children[0].style = {\"description_width\": \"initial\"}"
   ]
  },
  {
   "cell_type": "markdown",
   "metadata": {},
   "source": [
    "### Results"
   ]
  },
  {
   "cell_type": "code",
   "execution_count": null,
   "metadata": {},
   "outputs": [],
   "source": [
    "from tabulate import tabulate\n",
    "\n",
    "\n",
    "def vrp_calc():\n",
    "    occupancy_component = occupancy * oa_rates[\"RPeople\"].loc[space_type]  # CFM\n",
    "    area_component = floor_area * oa_rates[\"RArea\"].loc[space_type]  # CFM\n",
    "    return (occupancy_component + area_component) / vent_efficiency  # CFM\n",
    "\n",
    "\n",
    "if oa_calc_method == \"VRP\":\n",
    "    outside_airflow = vrp_calc()  # CFM\n",
    "elif oa_calc_method == \"VRP+30%\":\n",
    "    outside_airflow = vrp_calc() * 1.3\n",
    "elif oa_calc_method == \"IAQP\":\n",
    "    outside_airflow = floor_area * 0.05  # TODO: find out why this 5% factor\n",
    "elif oa_calc_method == \"100% OA\":\n",
    "    outside_airflow = total_supply_airflow\n",
    "else:\n",
    "    outside_airflow = int(input(\"Input a value for outside airflow.\"))\n",
    "\n",
    "avg_volume = avg_ceil_hgt * floor_area  # ft^3\n",
    "outside_air_ach = outside_airflow / avg_volume * 60  # /h\n",
    "\n",
    "# TODO: add means for outside airflow to be overwritten\n",
    "\n",
    "disp_table = [\n",
    "    [\"Outside airflow (CFM)\", outside_airflow],\n",
    "    [\"Outside air ACH (/h)\", outside_air_ach],\n",
    "]\n",
    "tabulate(disp_table, floatfmt=\",.2f\", tablefmt=\"html\")"
   ]
  },
  {
   "cell_type": "markdown",
   "metadata": {},
   "source": [
    "## Outside air ventilation Energy & Operating Costs\n"
   ]
  },
  {
   "cell_type": "code",
   "execution_count": null,
   "metadata": {},
   "outputs": [],
   "source": [
    "oa_cooling_src = \"Electricity\"  # TODO: dropdown\n",
    "oa_heating_src = \"Gas\"  # TODO: dropdown\n",
    "\n",
    "HRS_PER_DAY_BLDG_OPERATION = 12\n",
    "DAYS_PER_WK_BLDG_OPERATION = 6\n",
    "COP = 3\n",
    "HEATING_EFFICIENCY = 1.00\n",
    "\n",
    "operating_hrs_per_wk = HRS_PER_DAY_BLDG_OPERATION * DAYS_PER_WK_BLDG_OPERATION\n",
    "elec_rate = operation_info_126[\"Estimated Blended Electricity Rate ($/kWh)\"].loc[\n",
    "    repr_city\n",
    "]\n",
    "\n",
    "if oa_heating_src == \"Electricity\":\n",
    "    heating_energy_rate = elec_rate\n",
    "    unit = \"$/kWh (blended)\"\n",
    "elif oa_heating_src == \"Gas\":\n",
    "    heating_energy_rate = operation_info_126[\"Gas Rate ($/therm)\"].loc[repr_city]\n",
    "    unit = \"$/therm\"\n",
    "elif oa_heating_src == \"Steam\":\n",
    "    heating_energy_rate = operation_info_126[\"Steam Rate ($/Mlb)\"].loc[repr_city]\n",
    "    unit = \"$/mmBTU\"\n",
    "\n",
    "disp_table = [\n",
    "    [\"Electricity rate\", elec_rate, \"$/kWh (blended)\"],\n",
    "    [\"Heating energy rate\", heating_energy_rate, unit],\n",
    "]\n",
    "\n",
    "tabulate(disp_table, floatfmt=\".2f\", tablefmt=\"html\")"
   ]
  },
  {
   "cell_type": "markdown",
   "metadata": {},
   "source": [
    "## Energy Recovery Inputs (optional)"
   ]
  },
  {
   "cell_type": "code",
   "execution_count": null,
   "metadata": {},
   "outputs": [],
   "source": [
    "ENERGY_RECOVERY = False\n",
    "\n",
    "\n",
    "if ENERGY_RECOVERY:\n",
    "    # TODO: sliders that only appear if checkbox for energy recovery ticked\n",
    "    summer_recovery_eff = float(input(\"Summer energy recovery effectiveness (0-1.0): \"))\n",
    "    winter_recovery_eff = float(input(\"Winter energy recovery effectivness (0-1.0): \"))\n",
    "else:\n",
    "    summer_recovery_eff = 0\n",
    "    winter_recovery_eff = 0"
   ]
  },
  {
   "cell_type": "markdown",
   "metadata": {},
   "source": [
    "## Indoor Air Filtration Operating Cost & First Cost Inputs"
   ]
  },
  {
   "cell_type": "code",
   "execution_count": null,
   "metadata": {},
   "outputs": [],
   "source": [
    "RECIRC_FILTRATION = True\n",
    "MERV = \"MERV 11\"  # TODO: dropdown for filter types\n",
    "\n",
    "avg_press_drop = filters[\"average pressure drop (in.w.c.)\"].loc[MERV]  # in. wc\n",
    "fan_eff = 0.85\n",
    "mtr_eff = 0.85\n",
    "max_filter_airspeed = 500  # fpm\n",
    "est_filter_lifespan = filters[\"filter lifespan (months)\"].loc[MERV]  # months\n",
    "filter_replace_labor_cost = 5  # $/filter\n",
    "filtration_ach = 5  # /hr"
   ]
  },
  {
   "cell_type": "markdown",
   "metadata": {},
   "source": [
    "## Air Cleaner Operating Cost & First Cost Inputs"
   ]
  },
  {
   "cell_type": "code",
   "execution_count": null,
   "metadata": {},
   "outputs": [],
   "source": [
    "AIR_CLEANERS = False\n",
    "\n",
    "air_cleaner_quant = 50\n",
    "air_cleaner_supply_air = 200  # CFM per air cleaner\n",
    "air_cleaner_cadr = 200  # CFM per air cleaner\n",
    "\n",
    "additional_ach = air_cleaner_cadr * air_cleaner_quant / avg_volume * 60\n",
    "\n",
    "first_cost = 2200  # $ per air cleaner. Includes hardware + install cost\n",
    "air_cleaner_pwr = air_cleaner_supply_air * 0.0003  # kW per air cleaner\n",
    "est_lifetime_before_maint = 12  # months\n",
    "maint_labor_cost = 50  # $ per unit\n",
    "main_material_cost = 150  # $ per unit"
   ]
  },
  {
   "cell_type": "markdown",
   "metadata": {},
   "source": [
    "## Outside Air Ventilation Energy Consumption & Cost"
   ]
  },
  {
   "cell_type": "code",
   "execution_count": null,
   "metadata": {},
   "outputs": [],
   "source": [
    "if operating_hrs_per_wk < (24 * 7):\n",
    "    ops_info = operation_info_126\n",
    "    op_hours_baseline = 72  # Operations info based on operating 12/6\n",
    "else:\n",
    "    ops_info = operation_info_247\n",
    "    op_hours_baseline = 168  # Operations info based on operating 24/7\n",
    "\n",
    "cooling_oa_ventilation_energy = (\n",
    "    outside_airflow\n",
    "    * ops_info[\"Cooling energy (kWh/cfm)\"].loc[repr_city]\n",
    "    * (1 - summer_recovery_eff)\n",
    "    / (COP / 3)\n",
    "    * (operating_hrs_per_wk / op_hours_baseline)\n",
    ")  # kWh / yr\n",
    "\n",
    "oa_cooling_cost = cooling_oa_ventilation_energy * elec_rate  # $/yr\n",
    "\n",
    "if oa_heating_src == \"Electricity\":\n",
    "    heating_energy = ops_info[\"Heating energy (kWh/cfm)\"]\n",
    "    unit = \"kWh/yr\"\n",
    "elif oa_heating_src == \"Steam\":\n",
    "    heating_energy = ops_info[\"Heating energy (mmBTU/cfm)\"]\n",
    "    unit = \"mmBTU/yr\"\n",
    "elif oa_heating_src == \"Gas\":\n",
    "    heating_energy = ops_info[\"Heating energy (therms/cfm)\"]\n",
    "    unit = \"therm/yr\"\n",
    "\n",
    "heating_oa_ventilation_energy = (\n",
    "    outside_airflow\n",
    "    * heating_energy.loc[repr_city]\n",
    "    * (1 - winter_recovery_eff)\n",
    "    / HEATING_EFFICIENCY\n",
    "    * (operating_hrs_per_wk / op_hours_baseline)\n",
    ")  # (kWh | mmBTU | therm)/yr\n",
    "\n",
    "oa_heating_cost = heating_oa_ventilation_energy * heating_energy_rate  # $/yr\n",
    "\n",
    "disp_table = [\n",
    "    [\"Cooling Outside Air Ventilation Energy\", cooling_oa_ventilation_energy, \"kWh/yr\"],\n",
    "    [\"Cooling Outside Air Energy Cost\", oa_cooling_cost, \"$/yr\"],\n",
    "    [\"Heating Outside Air Ventilation Energy\", heating_oa_ventilation_energy, unit],\n",
    "    [\"Heating Outside Air Energy Cost\", oa_heating_cost, \"$/yr\"],\n",
    "]\n",
    "\n",
    "tabulate(disp_table, floatfmt=\",.2f\", tablefmt=\"html\")"
   ]
  },
  {
   "cell_type": "markdown",
   "metadata": {},
   "source": [
    "## Indoor Air Filtration Energy Consumption and Cost"
   ]
  },
  {
   "cell_type": "code",
   "execution_count": null,
   "metadata": {},
   "outputs": [],
   "source": [
    "from math import ceil\n",
    "\n",
    "CUBIC_METER_PER_HOUR_PER_CFM = 1.699\n",
    "PASCAL_PER_INCH_WATER = 248.84\n",
    "METER_PER_SECOND_PER_FPM = 1 / 196.85\n",
    "SQ_FT_PER_SQ_METER = 10.7639\n",
    "\n",
    "# Determine cost of running the fan to filter air\n",
    "if not RECIRC_FILTRATION:\n",
    "    recirc_airflow = 0\n",
    "    indoor_air_filt_fan_load = 0  # kW\n",
    "else:\n",
    "    recirc_airflow = total_supply_airflow - outside_airflow  # CFM\n",
    "    recirc_airflow_m3_per_h = recirc_airflow * CUBIC_METER_PER_HOUR_PER_CFM  # m^3/h\n",
    "    recirc_airflow_m3_per_s = recirc_airflow_m3_per_h / 60 / 60  # m^3/s\n",
    "\n",
    "    avg_press_drop_pa = avg_press_drop * PASCAL_PER_INCH_WATER  # Pa\n",
    "    fan_load = recirc_airflow_m3_per_s * avg_press_drop_pa / (fan_eff * mtr_eff)  # W\n",
    "    indoor_air_filt_fan_load = fan_load / 1000  # kW\n",
    "\n",
    "annual_filtration_energy = indoor_air_filt_fan_load * operating_hrs_per_wk * 52  # kW/yr\n",
    "annual_filt_energy_cost = annual_filtration_energy * elec_rate  # $/yr\n",
    "\n",
    "# Determine the cost of replacing filters\n",
    "baseline_filter_changes_per_year = 12 / filters[\"filter lifespan (months)\"].loc[MERV]\n",
    "max_filter_airspeed_m_per_s = max_filter_airspeed * METER_PER_SECOND_PER_FPM  # m/s\n",
    "min_filter_area_m2 = recirc_airflow_m3_per_s / max_filter_airspeed_m_per_s  # m^2\n",
    "min_filter_area = ceil(\n",
    "    min_filter_area_m2 * SQ_FT_PER_SQ_METER\n",
    ")  # ft^2  (TODO: is this actually removal rate?)\n",
    "material_cost_filt_replacement = (\n",
    "    baseline_filter_changes_per_year * filters[\"cost\"].loc[MERV] * min_filter_area\n",
    ")  # $/yr\n",
    "# TODO: understand this calculation. Is the filter cost the cost per square foot?\n",
    "# TODO: understand https://www.ncbi.nlm.nih.gov/pmc/articles/PMC7127325/. Cost per unit removal rate?\n",
    "labor_cost_filt_replacement = (\n",
    "    baseline_filter_changes_per_year * filter_replace_labor_cost * min_filter_area\n",
    ")\n",
    "\n",
    "annual_filter_cost = (\n",
    "    annual_filt_energy_cost\n",
    "    + material_cost_filt_replacement\n",
    "    + labor_cost_filt_replacement\n",
    ")"
   ]
  }
 ],
 "metadata": {
  "kernelspec": {
   "display_name": "Python 3 (ipykernel)",
   "language": "python",
   "name": "python3"
  },
  "language_info": {
   "codemirror_mode": {
    "name": "ipython",
    "version": 3
   },
   "file_extension": ".py",
   "mimetype": "text/x-python",
   "name": "python",
   "nbconvert_exporter": "python",
   "pygments_lexer": "ipython3",
   "version": "3.11.4"
  }
 },
 "nbformat": 4,
 "nbformat_minor": 2
}
