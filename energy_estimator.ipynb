{
 "cells": [
  {
   "cell_type": "markdown",
   "metadata": {},
   "source": [
    "# Energy Estimator Tool\n",
    "## Introduction\n",
    "This is a port of the enVerid COVID-19 Energy Estimator 2 Excel Spreadsheet to a Jupyter Notebook to better understand the calculation methods the spreadsheet uses.\n",
    "\n",
    "The spreadsheet must be present in the same folder folder as this file for the reference tables to be read.\n",
    "\n",
    "### Dependencies\n",
    "- [pandas](https://pypi.org/project/pandas/)\n",
    "- [openpyxl](https://pypi.org/project/openpyxl/)\n",
    "- [ipywidgets](https://pypi.org/project/ipywidgets/)\n",
    "- [tabulate](https://pypi.org/project/tabulate/)"
   ]
  },
  {
   "cell_type": "markdown",
   "metadata": {},
   "source": [
    "## Reference Tables\n",
    "The same reference tables are used in this notebook.\n",
    "\n",
    "The following code imports the reference tables. Run it once before any other cell."
   ]
  },
  {
   "cell_type": "code",
   "execution_count": 1,
   "metadata": {},
   "outputs": [],
   "source": [
    "import pandas as pd\n",
    "\n",
    "SPREADSHEET_PATH = \"enVerid COVID-19 Energy Estimator 2.xlsx\"\n",
    "\n",
    "filters = pd.read_excel(\n",
    "    SPREADSHEET_PATH, \"Table 2 - Filtration Info\", skiprows=2, skipfooter=4, index_col=1\n",
    ").dropna(axis=\"columns\")\n",
    "\n",
    "# ASHRAE 62.1 2016 Outdoor Air rates (ref. table 6-1)\n",
    "# TODO: update to ASHRAE 62.1 2022\n",
    "oa_rates = pd.read_excel(\n",
    "    SPREADSHEET_PATH,\n",
    "    \"Table 3 - ASHRAE 62.1 OA Rates\",\n",
    "    header=1,\n",
    "    index_col=0,\n",
    "    names=[\"RPeople\", \"RArea\"],\n",
    ")\n",
    "\n",
    "# TODO: replace this with custom data for any city\n",
    "operation_info_126 = pd.read_excel(\n",
    "    SPREADSHEET_PATH, \"Table 1 - Operational Info\", header=3, nrows=21, index_col=1\n",
    ")\n",
    "\n",
    "operation_info_247 = pd.read_excel(\n",
    "    SPREADSHEET_PATH, \"Table 1 - Operational Info\", header=27, nrows=21, index_col=1\n",
    ")"
   ]
  },
  {
   "cell_type": "markdown",
   "metadata": {},
   "source": [
    "## Calculation Classes\n",
    "\n",
    "The following classes receive user inputs and calculate appropriate outputs. These classes summarize the calculations performed by the enVerid COVID Energy Estimator spreadsheet."
   ]
  },
  {
   "cell_type": "code",
   "execution_count": 2,
   "metadata": {},
   "outputs": [],
   "source": [
    "from dataclasses import dataclass\n",
    "\n",
    "\n",
    "@dataclass\n",
    "class GeneralInputs:\n",
    "    \"\"\"Class for keeping track of general inputs of building parameters.\"\"\"\n",
    "\n",
    "    city: str\n",
    "    space_type: str\n",
    "    floor_area: float  # sq ft\n",
    "    avg_ceil_ht: float  # ft\n",
    "    occupancy: float\n",
    "    sys_vent_efficiency: float\n",
    "    oa_calc_method: str\n",
    "    outside_airflow_override = None\n",
    "\n",
    "    def __post_init__(self):\n",
    "        # Approximate supply airflow with floor area. Overwrite if needed.\n",
    "        self.total_supply_airflow = self.floor_area  # CFM\n",
    "        self.volume = self.floor_area * self.avg_ceil_ht  # cu ft\n",
    "\n",
    "    def vrp(self) -> float:\n",
    "        \"\"\"Calculate required airflow in CFM according to VRP.\"\"\"\n",
    "        occ_component = self.occupancy * oa_rates[\"RPeople\"].loc[self.space_type]  # CFM\n",
    "        area_component = self.floor_area * oa_rates[\"RArea\"].loc[self.space_type]  # CFM\n",
    "        return (occ_component + area_component) / self.sys_vent_efficiency\n",
    "\n",
    "    def outside_airflow(self) -> float:\n",
    "        \"\"\"Calculate required outside airflow (CFM) given the OA calculation method.\"\"\"\n",
    "        match self.oa_calc_method:\n",
    "            case \"VRP\":\n",
    "                return self.vrp()\n",
    "            case \"VRP+30%\":\n",
    "                return self.vrp() * 1.3\n",
    "            case \"IAQP\":\n",
    "                return self.floor_area * 0.05  # 0.05 CFM required for each square foot?\n",
    "            case \"100% OA\":\n",
    "                return self.total_supply_airflow\n",
    "            case \"Other\":\n",
    "                return self.outside_airflow_override\n",
    "\n",
    "    def outside_ach(self) -> float:\n",
    "        \"\"\"Calculate the outside air changes per hour.\"\"\"\n",
    "        air_changes_per_min = self.outside_airflow() / self.volume  # /min.\n",
    "        return air_changes_per_min * 60  # /h\n",
    "\n",
    "    def electricity_rate(self) -> float:\n",
    "        return operation_info_126[\"Estimated Blended Electricity Rate ($/kWh)\"].loc[\n",
    "            self.city\n",
    "        ]"
   ]
  },
  {
   "cell_type": "code",
   "execution_count": 3,
   "metadata": {},
   "outputs": [],
   "source": [
    "@dataclass\n",
    "class VentilationEnergyInputs:\n",
    "    \"\"\"Class for keeping track of ventilation energy inputs and costs.\"\"\"\n",
    "\n",
    "    oa_cooling_src = \"Electricity\"  # TODO: add chilled water cooling\n",
    "    oa_heating_src: str\n",
    "    hrs_per_day_operation: float\n",
    "    days_per_wk_operation: float\n",
    "    cop = 3.0\n",
    "    heating_efficiency = 1.0\n",
    "\n",
    "    def hrs_per_wk_operation(self) -> float:\n",
    "        \"\"\"Calculate the hours per week the building in operation.\"\"\"\n",
    "        return self.hrs_per_day_operation * self.days_per_wk_operation\n",
    "\n",
    "    def heating_energy_rate(self, gen: GeneralInputs) -> tuple[float | str, str]:\n",
    "        \"\"\"Calculate the cost of heating and a string of the pricing unit.\"\"\"\n",
    "        match self.oa_heating_src:\n",
    "            case \"Electricity\":\n",
    "                return gen.electricity_rate(), \"$/kWh (blended)\"\n",
    "            case \"Gas\":\n",
    "                heating_rate = operation_info_126[\"Gas Rate ($/therm)\"].loc[gen.city]\n",
    "                return heating_rate, \"$/therm\"\n",
    "            case \"Steam\":\n",
    "                heating_rate = operation_info_126[\"Steam Rate ($/Mlb)\"].loc[gen.city]\n",
    "                return heating_rate, \"$/mmBTU\""
   ]
  },
  {
   "cell_type": "code",
   "execution_count": 4,
   "metadata": {},
   "outputs": [],
   "source": [
    "@dataclass\n",
    "class EnergyRecoveryInputs:\n",
    "    \"\"\"Class to keep track of the energy recovery usage.\"\"\"\n",
    "\n",
    "    is_used: bool\n",
    "    summer_effectiveness: float\n",
    "    winter_effectiveness: float\n",
    "\n",
    "    def __post_init__(self):\n",
    "        \"\"\"Fix recovery effectivness to 0 if energy recovery is not used.\"\"\"\n",
    "        if not self.is_used:\n",
    "            self.summer_effectiveness = 0\n",
    "            self.winter_effectiveness = 0"
   ]
  },
  {
   "cell_type": "code",
   "execution_count": 5,
   "metadata": {},
   "outputs": [],
   "source": [
    "@dataclass\n",
    "class IndoorAirFiltrationInputs:\n",
    "    \"\"\"Class to keep track of indoor air filtration inputs and costs.\"\"\"\n",
    "\n",
    "    is_used: bool\n",
    "    merv: str\n",
    "    fan_efficiency = 0.85\n",
    "    mtr_efficiency = 0.85\n",
    "    max_filt_airspeed = 500.0  # fpm\n",
    "    filt_change_labor_cost = 17.00  # $  ($12 install + $5 disposal)\n",
    "\n",
    "    def avg_pressure_drop(self) -> float:\n",
    "        \"\"\"Return the average pressure drop across the filter in inches water.\"\"\"\n",
    "        return filters[\"average pressure drop (in.w.c.)\"].loc[self.merv]\n",
    "\n",
    "    def est_filter_lifespan(self) -> float:\n",
    "        \"\"\"Return the average lifespan of the filter in months.\"\"\"\n",
    "        return filters[\"filter lifespan (months)\"].loc[self.merv]\n",
    "\n",
    "    def est_filter_cost(self) -> float:\n",
    "        \"\"\"Return the estimated cost ($) of a 24in. by 24in. filter.\"\"\"\n",
    "        return filters[\"cost\"].loc[self.merv]\n",
    "\n",
    "    def filtration_ach(self, bldg: GeneralInputs) -> float:\n",
    "        \"\"\"Return the air changes per hour supplied with recirculated air.\"\"\"\n",
    "        if self.is_used:\n",
    "            recirc_airflow = bldg.total_supply_airflow - bldg.outside_airflow()  # CFM\n",
    "        else:\n",
    "            return 0\n",
    "        filt_eff = filters[\"Filter Efficiency (%)\"].loc[self.merv]\n",
    "        return recirc_airflow / (bldg.volume) * filt_eff * 60  # /h"
   ]
  },
  {
   "cell_type": "code",
   "execution_count": 6,
   "metadata": {},
   "outputs": [],
   "source": [
    "@dataclass\n",
    "class AirCleanerInputs:\n",
    "    \"\"\"Class to keep track of air cleaner usage inputs and costs.\"\"\"\n",
    "\n",
    "    is_used: bool\n",
    "    quantity: int  # Spreadsheet has 1 air cleaner per every 1000 sq ft\n",
    "    supply_air_per_cleaner: float\n",
    "    cadr_per_cleaner: float\n",
    "    first_cost_per_cleaner: float  # Includes hardware + installation cost\n",
    "    est_lifespan_before_maint = 12.  # months\n",
    "    labor_cost_maintenance = 40.00  # $/unit\n",
    "    matrl_cost_maintenance = 150.00  # $/unit\n",
    "\n",
    "    def __post_init__(self):\n",
    "        \"\"\"Set air cleaning power and zero values if air cleaning not used.\"\"\"\n",
    "        self.power = self.supply_air_per_cleaner * 0.0003  # kW / unit\n",
    "\n",
    "        if not self.is_used:\n",
    "            self.quantity = 0\n",
    "            self.supply_air_per_cleaner = 0\n",
    "            self.cadr_per_cleaner = 0\n",
    "\n",
    "    def additional_ach(self, bldg: GeneralInputs) -> float:\n",
    "        \"\"\"Calculate additional air changes per hour provided by air cleaners.\"\"\"\n",
    "        return self.cadr_per_cleaner * self.quantity / bldg.volume * 60"
   ]
  },
  {
   "cell_type": "code",
   "execution_count": 7,
   "metadata": {},
   "outputs": [],
   "source": [
    "class OutsideAirVentilationCost:\n",
    "    \"\"\"Class to calculate annual cost and energy use from conditioning OA.\"\"\"\n",
    "\n",
    "    def __init__(\n",
    "        self,\n",
    "        bldg: GeneralInputs,\n",
    "        ops: VentilationEnergyInputs,\n",
    "        erv: EnergyRecoveryInputs,\n",
    "    ):\n",
    "        self.bldg = bldg\n",
    "        self.ops = ops\n",
    "        self.erv = erv\n",
    "\n",
    "        if self.ops.hrs_per_wk_operation() < (24 * 7):\n",
    "            # 12 hrs per day, 6 days per week weather data used\n",
    "            self.ops_info = operation_info_126\n",
    "            self.weekly_op_hours_baseline = 72\n",
    "        else:\n",
    "            # Use special weather data for 24/7 operation\n",
    "            self.ops_info = operation_info_247\n",
    "            self.weekly_op_hours_baseline = 168\n",
    "\n",
    "    def cooling_oa_energy(self) -> float:\n",
    "        \"\"\"Calculate energy to cool outside air in kWh/yr.\"\"\"\n",
    "        # NOTE: The units for cooling energy data from operations table are truly kWh/cfm/yr.\n",
    "        return (\n",
    "            self.bldg.outside_airflow()\n",
    "            * self.ops_info[\"Cooling energy (kWh/cfm)\"].loc[self.bldg.city]\n",
    "            * (1 - self.erv.summer_effectiveness)\n",
    "            / (self.ops.cop / 3)  # TODO: Why is COP divided by 3 for energy usage?\n",
    "            * (self.ops.hrs_per_wk_operation() / self.weekly_op_hours_baseline)\n",
    "        )\n",
    "\n",
    "    def annual_cooling_oa_cost(self) -> float:\n",
    "        \"\"\"Calculate cost to cool outside air in $/yr.\"\"\"\n",
    "        return self.cooling_oa_energy() * self.ops.electricity_rate(self.bldg.city)\n",
    "\n",
    "    def heating_oa_energy(self) -> tuple[float, str]:\n",
    "        \"\"\"Calculate energy to heat outside air in appropriate energy units per year.\"\"\"\n",
    "        match self.ops.oa_heating_src:\n",
    "            case \"Electricity\":\n",
    "                heating_energy = self.ops_info[\"Heating energy (kWh/cfm)\"]\n",
    "                unit = \"kWh/yr\"\n",
    "            case \"Gas\":\n",
    "                heating_energy = self.ops_info[\"Heating energy (therms/cfm)\"]\n",
    "                unit = \"therm/yr\"\n",
    "            case \"Steam\":\n",
    "                heating_energy = self.ops_info[\"Heating energy (mmBTU/cfm)\"]\n",
    "                unit = \"mmBTU/yr\"\n",
    "\n",
    "        return (\n",
    "            self.bldg.outside_airflow()\n",
    "            * heating_energy.loc[self.bldg.city]\n",
    "            * (1 - self.erv.winter_effectiveness)\n",
    "            / self.ops.heating_efficiency\n",
    "            * (self.ops.hrs_per_wk_operation() / self.weekly_op_hours_baseline),\n",
    "            unit,\n",
    "        )\n",
    "\n",
    "    def annual_heating_oa_cost(self) -> tuple[float, str]:\n",
    "        \"\"\"Calculate cost to heat outside air in $/yr.\"\"\"\n",
    "        energy_rate, _ = self.ops.heating_energy_rate()\n",
    "        return self.heating_oa_energy() * energy_rate"
   ]
  },
  {
   "cell_type": "code",
   "execution_count": 8,
   "metadata": {},
   "outputs": [],
   "source": [
    "from math import ceil\n",
    "\n",
    "\n",
    "class IndoorAirFiltrationCost:\n",
    "    \"\"\"Class to calculate annual cost and energy use from filtering indoor air.\"\"\"\n",
    "\n",
    "    def __init__(\n",
    "        self,\n",
    "        bldg: GeneralInputs,\n",
    "        ops: VentilationEnergyInputs,\n",
    "        filt: IndoorAirFiltrationInputs,\n",
    "    ):\n",
    "        self.bldg = bldg\n",
    "        if filt.is_used:\n",
    "            self.recirc_airflow = bldg.total_supply_airflow - bldg.outside_airflow()\n",
    "        else:\n",
    "            self.recirc_airflow = 0\n",
    "        self.ops = ops\n",
    "        self.filt = filt\n",
    "\n",
    "    def filtration_fan_energy_load(self) -> float:\n",
    "        \"\"\"Calculate power load on the indoor air filtration fan in kW.\"\"\"\n",
    "        if not self.filt.is_used:\n",
    "            return 0\n",
    "        recirc_airflow_m3_per_h = self.recirc_airflow * 1.699\n",
    "        recirc_airflow_m3_per_s = recirc_airflow_m3_per_h / 3600\n",
    "        avg_press_drop_pa = self.filt.avg_pressure_drop() * 248.84\n",
    "        fan_load = (\n",
    "            recirc_airflow_m3_per_s\n",
    "            * avg_press_drop_pa\n",
    "            / (self.filt.fan_efficiency * self.filt.mtr_efficiency)  # W\n",
    "        )\n",
    "        return fan_load / 1000  # kW\n",
    "\n",
    "    def annual_fan_energy(self) -> float:\n",
    "        \"\"\"Calculate energy use by filtration fan in kWh/yr.\"\"\"\n",
    "        return self.filtration_fan_energy_load() * self.ops.hrs_per_wk_operation() * 52\n",
    "\n",
    "    def annual_fan_energy_cost(self) -> float:\n",
    "        \"\"\"Calculate cost due to energy used by the filtration fan in $/yr.\"\"\"\n",
    "        return self.annual_fan_energy() * self.ops.electricity_rate(self.bldg.city)\n",
    "\n",
    "    def required_filter_quantity(self, filter_area_ft2) -> int:\n",
    "        \"\"\"Calculate number of filters needed with a given filter area in sq ft.\"\"\"\n",
    "        max_filt_airspeed_m_per_s = self.filt.max_filt_airspeed / 196.85\n",
    "        recirc_airflow_m3_per_s = self.recirc_airflow * 1.699 / 3600\n",
    "        req_filt_area_m2 = recirc_airflow_m3_per_s / max_filt_airspeed_m_per_s\n",
    "        req_filt_area = req_filt_area_m2 * 10.7639  # sq ft\n",
    "\n",
    "        # NOTE: The spreadsheet neglects this calculation, but the paper it references\n",
    "        # (doi: 10.1016/j.buildenv.2013.08.025) says this is the procedure. As a result,\n",
    "        # the spreadsheet costs are 4x higher than they should be for filter replacement costs!\n",
    "        return ceil(req_filt_area / filter_area_ft2)\n",
    "\n",
    "    def annual_material_cost(self) -> float:\n",
    "        \"\"\"Calculate cost due to replacing filters in $/yr.\"\"\"\n",
    "        changes_per_year = 12 / self.filt.est_filter_lifespan()\n",
    "        # NOTE: Filter cost table uses 24\" x 24\" filters (4 sq ft)\n",
    "        req_filters = self.required_filter_quantity(4)\n",
    "        return changes_per_year * self.filt.est_filter_cost() * req_filters\n",
    "\n",
    "    def annual_labor_cost(self) -> float:\n",
    "        \"\"\"Calculate cost due to labor involved in filter replacements in $/yr.\"\"\"\n",
    "        changes_per_year = 12 / self.filt.est_filter_lifespan()\n",
    "        req_filters = self.required_filter_quantity(4)\n",
    "\n",
    "        return changes_per_year * self.filt.filt_change_labor_cost * req_filters\n",
    "\n",
    "    def annual_total_cost(self) -> float:\n",
    "        \"\"\"Calculate total cost of operating indoor air filtration in $/yr.\"\"\"\n",
    "        return (\n",
    "            self.annual_fan_energy_cost()\n",
    "            + self.annual_material_cost()\n",
    "            + self.annual_labor_cost()\n",
    "        )"
   ]
  },
  {
   "cell_type": "code",
   "execution_count": 9,
   "metadata": {},
   "outputs": [],
   "source": [
    "class AirCleanerCost:\n",
    "    \"\"\"Class to calculate annual cost and energy consumption from air cleaners.\"\"\"\n",
    "\n",
    "    def __init__(\n",
    "        self, bldg: GeneralInputs, ops: VentilationEnergyInputs, clean: AirCleanerInputs\n",
    "    ):\n",
    "        self.bldg = bldg\n",
    "        self.ops = ops\n",
    "        self.clean = clean\n",
    "\n",
    "    def annual_energy(self) -> float:\n",
    "        \"\"\"Calculate the energy consumption of air cleaners in kWh/yr.\"\"\"\n",
    "        return (\n",
    "            self.clean.power\n",
    "            * self.clean.quantity\n",
    "            * (self.ops.hrs_per_wk_operation() * 52)\n",
    "        )\n",
    "\n",
    "    def annual_energy_cost(self) -> float:\n",
    "        \"\"\"Calculate cost of air cleaner energy use in $/yr.\"\"\"\n",
    "        return self.annual_energy() * self.ops.electricity_rate(self.bldg.city)\n",
    "\n",
    "    def annual_material_cost(self) -> float:\n",
    "        \"\"\"Calculate cost of air cleaner maintenance materials in $/yr.\"\"\"\n",
    "        return (\n",
    "            (12 / self.clean.est_lifespan_before_maint)\n",
    "            * self.clean.matrl_cost_maintenance\n",
    "            * self.clean.quantity\n",
    "        )\n",
    "\n",
    "    def annual_labor_cost(self) -> float:\n",
    "        \"\"\"Calcaulate cost of air clean maintenance labor in $/yr.\"\"\"\n",
    "        return (\n",
    "            (12 / self.clean.est_lifespan_before_maint)\n",
    "            * self.clean.labor_cost_maintenance\n",
    "            * self.clean.quantity\n",
    "        )\n",
    "\n",
    "    def annual_total_cost(self) -> float:\n",
    "        \"\"\"Calculate total cost of operating air cleaners in $/yr.\"\"\"\n",
    "        return (\n",
    "            self.annual_energy_cost()\n",
    "            + self.annual_material_cost()\n",
    "            + self.annual_labor_cost()\n",
    "        )"
   ]
  },
  {
   "cell_type": "code",
   "execution_count": 10,
   "metadata": {},
   "outputs": [],
   "source": [
    "class EffectiveACH:\n",
    "    \"\"\"Class for calculating the combined effects of air changes.\"\"\"\n",
    "\n",
    "    def __init__(\n",
    "        self,\n",
    "        bldg: GeneralInputs,\n",
    "        filt: IndoorAirFiltrationInputs,\n",
    "        clean: AirCleanerInputs,\n",
    "    ):\n",
    "        self.oa_ach = bldg.outside_ach()\n",
    "        self.filt_ach = filt.filtration_ach()\n",
    "        self.additional_ach = clean.additional_ach()"
   ]
  },
  {
   "cell_type": "code",
   "execution_count": 11,
   "metadata": {},
   "outputs": [],
   "source": [
    "class AnnualCostSummary:\n",
    "    \"\"\"Class for summarizing annual costs.\"\"\"\n",
    "\n",
    "    def __init__(\n",
    "        self,\n",
    "        ops_cost: OutsideAirVentilationCost,\n",
    "        filt_cost: IndoorAirFiltrationCost,\n",
    "        clean_cost: AirCleanerCost,\n",
    "    ):\n",
    "        self.oa_vent_cost = (\n",
    "            ops_cost.annual_cooling_oa_cost() + ops_cost.annual_heating_oa_cost()\n",
    "        )\n",
    "        self.filter_energy_maint_cost = filt_cost.annual_total_cost()\n",
    "        self.cleaner_energy_maint_cost = clean_cost.annual_total_cost()\n",
    "\n",
    "        self.total_annual_cost = (\n",
    "            self.oa_vent_cost\n",
    "            + self.filter_energy_maint_cost\n",
    "            + self.cleaner_energy_maint_cost\n",
    "        )"
   ]
  },
  {
   "cell_type": "code",
   "execution_count": 12,
   "metadata": {},
   "outputs": [],
   "source": [
    "class AnnualCarbonEmissions:\n",
    "    \"\"\"Class to calculate carbon emissions from building operations.\"\"\"\n",
    "\n",
    "    # NOTE: The enVerid spreadsheet makes a mistake here!\n",
    "    # The electricity emission factor they use is 7.09E-4 t CO2 / kWh.\n",
    "    # That factor is for electricity reductions!\n",
    "    # We are concerned with emissions associated with consumption, not reduction.\n",
    "    # See https://www.epa.gov/energy/greenhouse-gases-equivalencies-calculator-calculations-and-references\n",
    "\n",
    "    ELECTRICITY_EMISSION_FACTOR = 4.33e-4  # t CO2e / kWh\n",
    "    NG_EMISSION_FACTOR = 0.0053  # t CO2e / therm\n",
    "    STEAM_EMISSION_FACTOR = 0.053  # t CO2e / mmBTU  (assumes perfect efficiency)\n",
    "\n",
    "    def __init__(\n",
    "        self,\n",
    "        ops: VentilationEnergyInputs,\n",
    "        ops_cost: OutsideAirVentilationCost,\n",
    "        filt_cost: IndoorAirFiltrationCost,\n",
    "        clean_cost: AirCleanerCost,\n",
    "    ):\n",
    "        self.ops = ops\n",
    "        self.ops_cost = ops_cost\n",
    "        self.annual_filt_energy = filt_cost.annual_fan_energy()\n",
    "        self.annual_cleaner_energy = clean_cost.annual_energy()\n",
    "\n",
    "    def cooling_co2_tons(self) -> float:\n",
    "        \"\"\"Calculate metric tons of CO2e produced annually from cooling.\"\"\"\n",
    "        return self.ops_cost.cooling_oa_energy() * self.ELECTRICITY_EMISSION_FACTOR\n",
    "\n",
    "    def heating_co2_tons(self) -> float:\n",
    "        \"\"\"Calculate metric tons of CO2e produced annually from heating.\"\"\"\n",
    "        match self.ops.oa_heating_src:\n",
    "            case \"Electricity\":\n",
    "                return (\n",
    "                    self.ops_cost.heating_oa_energy()[0]\n",
    "                    * self.ELECTRICITY_EMISSION_FACTOR\n",
    "                )\n",
    "            case \"Gas\":\n",
    "                return self.ops_cost.heating_oa_energy()[0] * self.NG_EMISSION_FACTOR\n",
    "            case \"Steam\":\n",
    "                return self.ops_cost.heating_oa_energy()[0] * self.STEAM_EMISSION_FACTOR\n",
    "\n",
    "    def oa_ventilation_tons(self) -> float:\n",
    "        \"\"\"Calculate metric tons of CO2e produced annually from heating and cooling.\"\"\"\n",
    "        return self.cooling_co2_tons() + self.heating_co2_tons()\n",
    "\n",
    "    def filter_fan_energy_tons(self) -> float:\n",
    "        \"\"\"Calculate metric tons of CO2e produced annually from filtration fan.\"\"\"\n",
    "        return self.annual_filt_energy * self.ELECTRICITY_EMISSION_FACTOR\n",
    "\n",
    "    def air_cleaner_energy_tons(self) -> float:\n",
    "        \"\"\"Calculate metric tons of CO2e produced annually from air cleaners.\"\"\"\n",
    "        return self.annual_cleaner_energy * self.ELECTRICITY_EMISSION_FACTOR\n",
    "\n",
    "    def total_emission_tons(self) -> float:\n",
    "        \"\"\"Calculate metric tons of CO2e produced annually from all sources.\"\"\"\n",
    "        return (\n",
    "            self.oa_ventilation_tons()\n",
    "            + self.filter_fan_energy_tons()\n",
    "            + self.air_cleaner_energy_tons()\n",
    "        )"
   ]
  },
  {
   "cell_type": "markdown",
   "metadata": {},
   "source": [
    "## Inputs Section"
   ]
  },
  {
   "cell_type": "code",
   "execution_count": 13,
   "metadata": {},
   "outputs": [
    {
     "data": {
      "application/vnd.jupyter.widget-view+json": {
       "model_id": "76ddedc5dca04ebdad6adb0327fd7fc1",
       "version_major": 2,
       "version_minor": 0
      },
      "text/plain": [
       "Dropdown(description='Representative City:', index=13, layout=Layout(width='auto'), options=('Atlanta, GA', 'B…"
      ]
     },
     "metadata": {},
     "output_type": "display_data"
    },
    {
     "data": {
      "application/vnd.jupyter.widget-view+json": {
       "model_id": "6f68625826af408ba2c1478fa6088529",
       "version_major": 2,
       "version_minor": 0
      },
      "text/plain": [
       "Dropdown(description='Space type:', index=52, layout=Layout(width='auto'), options=('Art classroom', 'Auditori…"
      ]
     },
     "metadata": {},
     "output_type": "display_data"
    },
    {
     "data": {
      "application/vnd.jupyter.widget-view+json": {
       "model_id": "3e3da5d959594a198c01548bf7714423",
       "version_major": 2,
       "version_minor": 0
      },
      "text/plain": [
       "BoundedFloatText(value=50000.0, description='Floor area (sq ft):', layout=Layout(width='auto'), max=10000000.0…"
      ]
     },
     "metadata": {},
     "output_type": "display_data"
    },
    {
     "data": {
      "application/vnd.jupyter.widget-view+json": {
       "model_id": "d557b232e90a4461a878da64f6a1ae71",
       "version_major": 2,
       "version_minor": 0
      },
      "text/plain": [
       "BoundedFloatText(value=10.0, description='Average ceiling height (ft):', layout=Layout(width='auto'), min=8.0,…"
      ]
     },
     "metadata": {},
     "output_type": "display_data"
    },
    {
     "data": {
      "application/vnd.jupyter.widget-view+json": {
       "model_id": "2f919b25c9574046b037cec818888a99",
       "version_major": 2,
       "version_minor": 0
      },
      "text/plain": [
       "BoundedIntText(value=250, description='Occupancy:', layout=Layout(width='auto'), max=10000, min=10, style=Desc…"
      ]
     },
     "metadata": {},
     "output_type": "display_data"
    },
    {
     "data": {
      "application/vnd.jupyter.widget-view+json": {
       "model_id": "d92cc5a3ac7249608695a35e752229c6",
       "version_major": 2,
       "version_minor": 0
      },
      "text/plain": [
       "HBox(children=(BoundedFloatText(value=50000.0, description='Total supply airflow (CFM):', max=10000000.0, min=…"
      ]
     },
     "metadata": {},
     "output_type": "display_data"
    },
    {
     "data": {
      "application/vnd.jupyter.widget-view+json": {
       "model_id": "3381976334fa41c298966896c44bb4ad",
       "version_major": 2,
       "version_minor": 0
      },
      "text/plain": [
       "FloatSlider(value=0.75, description='System ventilation efficiency:', layout=Layout(width='auto'), max=1.0, st…"
      ]
     },
     "metadata": {},
     "output_type": "display_data"
    },
    {
     "data": {
      "application/vnd.jupyter.widget-view+json": {
       "model_id": "7c6208d393084c8790c6df3c52451eda",
       "version_major": 2,
       "version_minor": 0
      },
      "text/plain": [
       "Dropdown(description='OA Calculation Method:', layout=Layout(width='auto'), options=('VRP', 'VRP+30%', 'IAQP',…"
      ]
     },
     "metadata": {},
     "output_type": "display_data"
    }
   ],
   "source": [
    "from ipywidgets import *\n",
    "from IPython.display import display\n",
    "\n",
    "\n",
    "def apply_scaling(*args):\n",
    "    \"\"\"Applies desired style to widgets passed in.\"\"\"\n",
    "    for w in args:\n",
    "        w.style = {\"description_width\": \"initial\"}\n",
    "        w.layout = Layout(width=\"auto\")\n",
    "\n",
    "\n",
    "city_list = Dropdown(\n",
    "    options=operation_info_126.index.values,\n",
    "    value=\"Raleigh, NC\",\n",
    "    description=\"Representative City:\",\n",
    ")\n",
    "space_list = Dropdown(\n",
    "    options=oa_rates.index.values, value=\"Office space\", description=\"Space type:\"\n",
    ")\n",
    "floor_area_input = BoundedFloatText(\n",
    "    value=50000, description=\"Floor area (sq ft):\", max=1e7, min=1000\n",
    ")\n",
    "avg_height_input = BoundedFloatText(\n",
    "    value=10, description=\"Average ceiling height (ft):\", max=100, min=8\n",
    ")\n",
    "occupant_input = BoundedIntText(value=250, description=\"Occupancy:\", min=10, max=1e4)\n",
    "supply_air_input = HBox(\n",
    "    [\n",
    "        BoundedFloatText(\n",
    "            value=50000,\n",
    "            max=1e7,\n",
    "            min=150,\n",
    "            description=\"Total supply airflow (CFM):\",\n",
    "            style={\"description_width\": \"initial\"},\n",
    "        ),\n",
    "        Label(\" If you don't know, assume 1 CFM per sq ft.\"),\n",
    "    ]\n",
    ")\n",
    "efficiency_input = FloatSlider(\n",
    "    value=0.75, description=\"System ventilation efficiency:\", min=0, max=1.0, step=0.01\n",
    ")\n",
    "method_input = Dropdown(\n",
    "    options=[\"VRP\", \"VRP+30%\", \"IAQP\", \"100% OA\", \"Other\"],\n",
    "    description=\"OA Calculation Method:\",\n",
    ")\n",
    "\n",
    "widget_list = [\n",
    "    city_list,\n",
    "    space_list,\n",
    "    floor_area_input,\n",
    "    avg_height_input,\n",
    "    occupant_input,\n",
    "    supply_air_input,\n",
    "    efficiency_input,\n",
    "    method_input,\n",
    "]\n",
    "\n",
    "apply_scaling(*widget_list)\n",
    "display(*widget_list)"
   ]
  },
  {
   "cell_type": "code",
   "execution_count": 14,
   "metadata": {},
   "outputs": [
    {
     "data": {
      "application/vnd.jupyter.widget-view+json": {
       "model_id": "fd7192c8cddb47ef9f48fbb0ec174056",
       "version_major": 2,
       "version_minor": 0
      },
      "text/plain": [
       "interactive(children=(FloatText(value=5666.666666666667, description='Outside Airflow (CFM):', disabled=True),…"
      ]
     },
     "metadata": {},
     "output_type": "display_data"
    }
   ],
   "source": [
    "general_input = GeneralInputs(\n",
    "    city_list.value,\n",
    "    space_list.value,\n",
    "    floor_area_input.value,\n",
    "    avg_height_input.value,\n",
    "    occupant_input.value,\n",
    "    efficiency_input.value,\n",
    "    method_input.value,\n",
    ")\n",
    "\n",
    "outside_air_input = FloatText(\n",
    "    value=general_input.outside_airflow(),\n",
    "    description=\"Outside Airflow (CFM):\",\n",
    "    disabled=method_input.value != \"Other\",\n",
    ")\n",
    "\n",
    "\n",
    "@interact(x=outside_air_input, g=fixed(general_input))\n",
    "def set_outside_air(x, g: GeneralInputs):\n",
    "    g.outside_airflow_override = x\n",
    "    out_widget = FloatText(\n",
    "        g.outside_ach(), description=\"Outside air ACH (/h):\", disabled=True\n",
    "    )\n",
    "    apply_scaling(out_widget)\n",
    "    return out_widget\n",
    "\n",
    "\n",
    "apply_scaling(outside_air_input)"
   ]
  },
  {
   "cell_type": "code",
   "execution_count": 15,
   "metadata": {},
   "outputs": [
    {
     "data": {
      "application/vnd.jupyter.widget-view+json": {
       "model_id": "c7d3b5ed53534d569c2d74f201288a35",
       "version_major": 2,
       "version_minor": 0
      },
      "text/plain": [
       "interactive(children=(Dropdown(description='OA Ventilation Cooling Source', options=('Electricity',), value='E…"
      ]
     },
     "metadata": {},
     "output_type": "display_data"
    },
    {
     "data": {
      "application/vnd.jupyter.widget-view+json": {
       "model_id": "830b0dd1b85a47ffa7be62dc6336cf21",
       "version_major": 2,
       "version_minor": 0
      },
      "text/plain": [
       "interactive(children=(Dropdown(description='OA Ventilation Heating Source', options=('Electricity', 'Gas', 'St…"
      ]
     },
     "metadata": {},
     "output_type": "display_data"
    },
    {
     "data": {
      "application/vnd.jupyter.widget-view+json": {
       "model_id": "1da192e602094918b20588659caab1e6",
       "version_major": 2,
       "version_minor": 0
      },
      "text/plain": [
       "interactive(children=(BoundedFloatText(value=12.0, description='Hours per day of building operation', max=24.0…"
      ]
     },
     "metadata": {},
     "output_type": "display_data"
    },
    {
     "data": {
      "application/vnd.jupyter.widget-view+json": {
       "model_id": "2de40d0dabff4c6c8674cba55e2ea7e4",
       "version_major": 2,
       "version_minor": 0
      },
      "text/plain": [
       "interactive(children=(BoundedIntText(value=6, description='Days per week of building operation', max=7, min=1)…"
      ]
     },
     "metadata": {},
     "output_type": "display_data"
    },
    {
     "data": {
      "application/vnd.jupyter.widget-view+json": {
       "model_id": "fd354fa4aaae46a4aecf6746dae16ba7",
       "version_major": 2,
       "version_minor": 0
      },
      "text/plain": [
       "interactive(children=(FloatSlider(value=3.0, description='COP', max=5.0), Output()), _dom_classes=('widget-int…"
      ]
     },
     "metadata": {},
     "output_type": "display_data"
    },
    {
     "data": {
      "application/vnd.jupyter.widget-view+json": {
       "model_id": "0f4d60bb27a8498f91855149c7ea027c",
       "version_major": 2,
       "version_minor": 0
      },
      "text/plain": [
       "interactive(children=(FloatSlider(value=1.0, description='Heating Efficiency', max=1.0, min=0.01, step=0.01), …"
      ]
     },
     "metadata": {},
     "output_type": "display_data"
    },
    {
     "data": {
      "application/vnd.jupyter.widget-view+json": {
       "model_id": "07123437579e4ca4a52e13ce9e0c5fb7",
       "version_major": 2,
       "version_minor": 0
      },
      "text/plain": [
       "FloatText(value=0.09, description='Blended Electricity Rate ($/kWh):', disabled=True)"
      ]
     },
     "metadata": {},
     "output_type": "display_data"
    },
    {
     "data": {
      "application/vnd.jupyter.widget-view+json": {
       "model_id": "3bf84c72abf246e6a5f87a99d85c4768",
       "version_major": 2,
       "version_minor": 0
      },
      "text/plain": [
       "Text(value='0.09', description='Heating energy rate ($/kWh (blended))', disabled=True)"
      ]
     },
     "metadata": {},
     "output_type": "display_data"
    }
   ],
   "source": [
    "ventilation_inputs = VentilationEnergyInputs(None, 12, 6)\n",
    "\n",
    "oa_cool_src_dropdown = Dropdown(\n",
    "    options=[\"Electricity\"], description=\"OA Ventilation Cooling Source\"\n",
    ")\n",
    "oa_heat_src_dropdown = Dropdown(\n",
    "    options=[\"Electricity\", \"Gas\", \"Steam\"], description=\"OA Ventilation Heating Source\"\n",
    ")\n",
    "hrs_per_day_input = BoundedFloatText(\n",
    "    12.0, description=\"Hours per day of building operation\", max=24, min=1\n",
    ")\n",
    "days_per_wk_input = BoundedIntText(\n",
    "    6, description=\"Days per week of building operation\", max=7, min=1\n",
    ")\n",
    "cop_input = FloatSlider(3.0, description=\"COP\", max=5, min=0)\n",
    "heat_eff_input = FloatSlider(\n",
    "    1.0, description=\"Heating Efficiency\", max=1, min=0.01, step=0.01\n",
    ")\n",
    "\n",
    "\n",
    "@interact(src=oa_cool_src_dropdown, vent=fixed(ventilation_inputs))\n",
    "def set_oa_cool_source(src: str, vent: VentilationEnergyInputs):\n",
    "    vent.oa_cooling_src = src\n",
    "\n",
    "\n",
    "@interact(src=oa_heat_src_dropdown, vent=fixed(ventilation_inputs))\n",
    "def set_oa_heat_source(src: str, vent: VentilationEnergyInputs):\n",
    "    vent.oa_heating_src = src\n",
    "\n",
    "\n",
    "@interact(hrs=hrs_per_day_input, vent=fixed(ventilation_inputs))\n",
    "def set_hrs_per_day(hrs: float, vent: VentilationEnergyInputs):\n",
    "    vent.hrs_per_day_operation = hrs\n",
    "\n",
    "\n",
    "@interact(days=days_per_wk_input, vent=fixed(ventilation_inputs))\n",
    "def set_days_per_wk(days: int, vent: VentilationEnergyInputs):\n",
    "    vent.days_per_wk_operation = float(days)\n",
    "\n",
    "\n",
    "@interact(cop=cop_input, vent=fixed(ventilation_inputs))\n",
    "def set_cop(cop: float, vent: VentilationEnergyInputs):\n",
    "    vent.cop = cop\n",
    "\n",
    "\n",
    "@interact(heat_eff=heat_eff_input, vent=fixed(ventilation_inputs))\n",
    "def set_heat_eff(heat_eff: float, vent: VentilationEnergyInputs):\n",
    "    vent.heating_efficiency = heat_eff\n",
    "\n",
    "\n",
    "elec_rate_disp = FloatText(\n",
    "    round(general_input.electricity_rate(), 2),\n",
    "    description=\"Blended Electricity Rate ($/kWh):\",\n",
    "    disabled=True,\n",
    ")\n",
    "\n",
    "(heat_rate, heat_unit) = ventilation_inputs.heating_energy_rate(general_input)\n",
    "heat_rate_disp = Text(\n",
    "    f\"{heat_rate:.2f}\",\n",
    "    description=f\"Heating energy rate ({heat_unit})\",\n",
    "    disabled=True,\n",
    ")\n",
    "\n",
    "\n",
    "def on_heat_src_change(_):\n",
    "    \"\"\"Update the value of the heating energy cost field.\"\"\"\n",
    "    heat_rate, heat_unit = ventilation_inputs.heating_energy_rate(general_input)\n",
    "    if type(heat_rate) is not str:\n",
    "        heat_rate = f\"{heat_rate:.2f}\"\n",
    "\n",
    "    heat_rate_disp.value = heat_rate\n",
    "    heat_rate_disp.description = f\"Heating energy rate ({heat_unit})\"\n",
    "\n",
    "\n",
    "oa_heat_src_dropdown.observe(on_heat_src_change, names=\"value\")\n",
    "display(elec_rate_disp, heat_rate_disp)\n",
    "\n",
    "apply_scaling(\n",
    "    oa_cool_src_dropdown,\n",
    "    oa_heat_src_dropdown,\n",
    "    hrs_per_day_input,\n",
    "    days_per_wk_input,\n",
    "    cop_input,\n",
    "    heat_eff_input,\n",
    "    elec_rate_disp,\n",
    "    heat_rate_disp,\n",
    ")"
   ]
  },
  {
   "cell_type": "markdown",
   "metadata": {},
   "source": [
    "## Energy Recovery Inputs"
   ]
  },
  {
   "cell_type": "code",
   "execution_count": 52,
   "metadata": {},
   "outputs": [
    {
     "data": {
      "application/vnd.jupyter.widget-view+json": {
       "model_id": "33dd3b746bb1415c8f4ea4d9cc32ddda",
       "version_major": 2,
       "version_minor": 0
      },
      "text/plain": [
       "interactive(children=(Checkbox(value=False, description='Is energy recovery being used in this building?'), Ou…"
      ]
     },
     "metadata": {},
     "output_type": "display_data"
    },
    {
     "data": {
      "application/vnd.jupyter.widget-view+json": {
       "model_id": "d8e1140a67ec4890a7797d22eecafde8",
       "version_major": 2,
       "version_minor": 0
      },
      "text/plain": [
       "Output()"
      ]
     },
     "metadata": {},
     "output_type": "display_data"
    }
   ],
   "source": [
    "energy_recov_input = EnergyRecoveryInputs(False, 0.75, 0.6)\n",
    "\n",
    "recov_use_input = Checkbox(\n",
    "    value=False, description=\"Is energy recovery being used in this building?\"\n",
    ")\n",
    "\n",
    "summer_eff_input = BoundedFloatText(\n",
    "    None,\n",
    "    description=\"Summer energy recovery effectiveness\",\n",
    "    min=0,\n",
    "    max=1,\n",
    "    step=0.1,\n",
    "    layout=Layout(display=\"none\"),\n",
    ")\n",
    "\n",
    "winter_eff_input = BoundedFloatText(\n",
    "    None,\n",
    "    description=\"Winter energy recovery effectiveness\",\n",
    "    min=0,\n",
    "    max=1,\n",
    "    step=0.1,\n",
    "    layout=Layout(visibility=\"hidden\"),\n",
    ")\n",
    "\n",
    "\n",
    "@interact(use=recov_use_input, erv=fixed(energy_recov_input))\n",
    "def set_recov_use(use: bool, erv: EnergyRecoveryInputs):\n",
    "    erv.is_used = use\n",
    "\n",
    "\n",
    "merv_out = Output()\n",
    "\n",
    "\n",
    "def on_recov_use_change(_):\n",
    "    with merv_out:\n",
    "        if recov_use_input.value:\n",
    "            energy_recov_input.summer_effectiveness = summer_eff_input.value\n",
    "            energy_recov_input.winter_effectiveness = winter_eff_input.value\n",
    "            display(summer_eff_input, winter_eff_input)\n",
    "        else:\n",
    "            merv_out.clear_output()\n",
    "\n",
    "\n",
    "recov_use_input.observe(on_recov_use_change, \"value\")\n",
    "\n",
    "display(merv_out)\n",
    "apply_scaling(recov_use_input, summer_eff_input, winter_eff_input)"
   ]
  },
  {
   "cell_type": "markdown",
   "metadata": {},
   "source": [
    "## Indoor Air Filtration Inputs"
   ]
  },
  {
   "cell_type": "code",
   "execution_count": 83,
   "metadata": {},
   "outputs": [
    {
     "data": {
      "application/vnd.jupyter.widget-view+json": {
       "model_id": "ea604234b0ff4e68b24380cb6a96dfec",
       "version_major": 2,
       "version_minor": 0
      },
      "text/plain": [
       "interactive(children=(Checkbox(value=False, description='Is filtration being used to clean recirculated air?')…"
      ]
     },
     "metadata": {},
     "output_type": "display_data"
    },
    {
     "data": {
      "application/vnd.jupyter.widget-view+json": {
       "model_id": "d192ffc6c2ca46f9809c7ef483cbe6a0",
       "version_major": 2,
       "version_minor": 0
      },
      "text/plain": [
       "Output()"
      ]
     },
     "metadata": {},
     "output_type": "display_data"
    },
    {
     "data": {
      "application/vnd.jupyter.widget-view+json": {
       "model_id": "86865612ac4a420ea0edf06ec0b06872",
       "version_major": 2,
       "version_minor": 0
      },
      "text/plain": [
       "Output()"
      ]
     },
     "metadata": {},
     "output_type": "display_data"
    }
   ],
   "source": [
    "filt_input = IndoorAirFiltrationInputs(False, \"HEPA\")\n",
    "\n",
    "recirc_use_input = Checkbox(\n",
    "    value=False, description=\"Is filtration being utilized to clean recirculated air?\"\n",
    ")\n",
    "\n",
    "\n",
    "@interact(use=recirc_use_input, filt=fixed(filt_input))\n",
    "def set_recirc_use(use: bool, filt: IndoorAirFiltrationInputs):\n",
    "    filt.is_used = use\n",
    "\n",
    "\n",
    "merv_select_input = Dropdown(\n",
    "    options=filters.index.values,\n",
    "    value=\"HEPA\",\n",
    "    description=\"Indoor Air Filtration MERV\",\n",
    ")\n",
    "\n",
    "fan_eff_input = BoundedFloatText(\n",
    "    value=filt_input.fan_efficiency,\n",
    "    min=0,\n",
    "    max=1,\n",
    "    step=0.1,\n",
    "    description=\"Fan Efficiency:\",\n",
    ")\n",
    "mtr_eff_input = BoundedFloatText(\n",
    "    value=filt_input.mtr_efficiency,\n",
    "    min=0,\n",
    "    max=1,\n",
    "    step=0.1,\n",
    "    description=\"Motor Efficiency:\",\n",
    ")\n",
    "max_airspeed_input = BoundedFloatText(\n",
    "    value=filt_input.max_filt_airspeed,\n",
    "    min=0,\n",
    "    step=50,\n",
    "    description=\"Maximum allowable filter airspeed (fpm)\",\n",
    ")\n",
    "filt_labor_cost_input = BoundedFloatText(\n",
    "    value=filt_input.filt_change_labor_cost,\n",
    "    min=0,\n",
    "    step=1,\n",
    "    description=\"Labor cost of replacing a filter ($/filter)\",\n",
    ")\n",
    "\n",
    "selection_display_out = Output()\n",
    "stats_out = Output()\n",
    "\n",
    "\n",
    "def update_stats_out():\n",
    "    stats_out.clear_output()\n",
    "    with stats_out:\n",
    "        display(\n",
    "            f\"Average pressure drop across filter: {filt_input.avg_pressure_drop():.3f} in. w.g.\"\n",
    "        )\n",
    "        display(f\"Estimated filter lifespan: {filt_input.est_filter_lifespan()} months\")\n",
    "        display(f\"Filtration ACH {filt_input.filtration_ach(general_input)} /h\")\n",
    "\n",
    "\n",
    "def on_recirc_use_change(_):\n",
    "    \"\"\"Show or hide the filtration parameters depending on if filtration is used.\"\"\"\n",
    "    filt_input.is_used = recirc_use_input.value\n",
    "    with selection_display_out:\n",
    "        if recirc_use_input.value:\n",
    "            display(\n",
    "                merv_select_input,\n",
    "                fan_eff_input,\n",
    "                mtr_eff_input,\n",
    "                max_airspeed_input,\n",
    "                filt_labor_cost_input,\n",
    "            )\n",
    "            update_stats_out()\n",
    "        else:\n",
    "            selection_display_out.clear_output()\n",
    "            stats_out.clear_output()\n",
    "\n",
    "\n",
    "def on_merv_change(_):\n",
    "    \"\"\"Update the values of the filtration inputs when any value changes.\"\"\"\n",
    "    filt_input.merv = merv_select_input.value\n",
    "    with stats_out:\n",
    "        update_stats_out()\n",
    "\n",
    "\n",
    "def on_param_change(_):\n",
    "    \"\"\"Update the values of filtration inputs for non-MERV changes.\"\"\"\n",
    "    filt_input.fan_efficiency = fan_eff_input.value\n",
    "    filt_input.mtr_efficiency = mtr_eff_input.value\n",
    "    filt_input.max_filt_airspeed = max_airspeed_input.value\n",
    "    filt_input.filt_change_labor_cost = filt_labor_cost_input.value\n",
    "\n",
    "\n",
    "# Have each filtration input watch for changes in value.\n",
    "recirc_use_input.observe(on_recirc_use_change, \"value\")\n",
    "merv_select_input.observe(on_merv_change, \"value\")\n",
    "fan_eff_input.observe(on_param_change, \"value\")\n",
    "mtr_eff_input.observe(on_param_change, \"value\")\n",
    "max_airspeed_input.observe(on_param_change, \"value\")\n",
    "filt_labor_cost_input.observe(on_param_change, \"value\")\n",
    "\n",
    "display(selection_display_out, stats_out)\n",
    "apply_scaling(\n",
    "    recirc_use_input,\n",
    "    merv_select_input,\n",
    "    fan_eff_input,\n",
    "    mtr_eff_input,\n",
    "    max_airspeed_input,\n",
    "    filt_labor_cost_input,\n",
    ")"
   ]
  },
  {
   "cell_type": "markdown",
   "metadata": {},
   "source": [
    "## Air Cleaner Inputs"
   ]
  },
  {
   "cell_type": "code",
   "execution_count": 88,
   "metadata": {},
   "outputs": [
    {
     "data": {
      "application/vnd.jupyter.widget-view+json": {
       "model_id": "de5161d4b4784200b62780f1d1c28ba6",
       "version_major": 2,
       "version_minor": 0
      },
      "text/plain": [
       "interactive(children=(Checkbox(value=False, description='Are air cleaners being used to clean additional recir…"
      ]
     },
     "metadata": {},
     "output_type": "display_data"
    }
   ],
   "source": [
    "clean_input = AirCleanerInputs(False, 50, 0, 0, 0)\n",
    "\n",
    "clean_use_input = Checkbox(\n",
    "    value=False,\n",
    "    description=\"Are air cleaners being utilized to clean additional recirculated air?\",\n",
    ")\n",
    "\n",
    "\n",
    "@interact(use=clean_use_input, clean=fixed(clean_input))\n",
    "def set_clean_use(use: bool, clean: AirCleanerInputs):\n",
    "    clean.is_used = use\n",
    "\n",
    "\n",
    "quant_input = BoundedIntText(\n",
    "    value=clean_input.quantity, min=1, step=1, description=\"Quantity of air cleaners\"\n",
    ")\n",
    "supply_air_input = BoundedFloatText(\n",
    "    value=clean_input.supply_air_per_cleaner,\n",
    "    min=0,\n",
    "    description=\"Air cleaner supply per air cleaner (CFM)\",\n",
    ")\n",
    "cadr_input = BoundedFloatText(\n",
    "    value=clean_input.cadr_per_cleaner,\n",
    "    min=0,\n",
    "    description=\"CADR per air cleaner (CFM)\"\n",
    ")\n",
    "_ = jslink((supply_air_input, \"value\"), (cadr_input, \"max\"))  # CADR <= airflow value\n",
    "first_cost_input = BoundedFloatText(\n",
    "    value=clean_input.first_cost_per_cleaner,\n",
    "    min=0,\n",
    "    description=\"First cost per air cleaner\"\n",
    ")\n",
    "power_input = BoundedFloatText(\n",
    "    value=clean_input.power,\n",
    "    min=0,\n",
    "    description=\"Air cleaner power (kW/unit)\"\n",
    ")\n",
    "lifespan_input = BoundedFloatText(\n",
    "    value=clean_input.est_lifespan_before_maint,\n",
    "    min=1,\n",
    "    description=\"Estimated lifespan before maintenance (months)\"\n",
    ")\n",
    "clean_labor_cost_input = BoundedFloatText(\n",
    "    value=clean_input.labor_cost_maintenance,\n",
    "    min=0,\n",
    "    description=\"Labor cost of maintenance ($/unit)\"\n",
    ")\n",
    "clean_matrl_cost_input = BoundedFloatText(\n",
    "    value=clean_input.matrl_cost_maintenance,\n",
    "    min=0,\n",
    "    description=\"Material cost of maintenance ($/unit)\"\n",
    ")\n",
    "\n",
    "selection_display_out = Output()\n",
    "stats_out = Output()\n",
    "\n",
    "apply_scaling(clean_use_input)"
   ]
  },
  {
   "cell_type": "code",
   "execution_count": null,
   "metadata": {},
   "outputs": [],
   "source": []
  },
  {
   "cell_type": "markdown",
   "metadata": {},
   "source": [
    "### General Inputs"
   ]
  },
  {
   "cell_type": "code",
   "execution_count": null,
   "metadata": {},
   "outputs": [],
   "source": []
  },
  {
   "cell_type": "code",
   "execution_count": 74,
   "metadata": {},
   "outputs": [
    {
     "data": {
      "application/vnd.jupyter.widget-view+json": {
       "model_id": "3e231cf59410427fb7a18a0e7950ab9c",
       "version_major": 2,
       "version_minor": 0
      },
      "text/plain": [
       "interactive(children=(IntSlider(value=50000, description='x', max=100000, min=1000, step=100), FloatSlider(val…"
      ]
     },
     "metadata": {},
     "output_type": "display_data"
    },
    {
     "ename": "NameError",
     "evalue": "name 'apply_layout' is not defined",
     "output_type": "error",
     "traceback": [
      "\u001b[1;31m---------------------------------------------------------------------------\u001b[0m",
      "\u001b[1;31mNameError\u001b[0m                                 Traceback (most recent call last)",
      "Cell \u001b[1;32mIn[74], line 12\u001b[0m\n\u001b[0;32m      8\u001b[0m     ceil_height \u001b[39m=\u001b[39m y\n\u001b[0;32m     11\u001b[0m vol_slider \u001b[39m=\u001b[39m interact(set_dimensions, x\u001b[39m=\u001b[39m(\u001b[39m1000\u001b[39m, \u001b[39m100_000\u001b[39m, \u001b[39m100\u001b[39m), y\u001b[39m=\u001b[39m(\u001b[39m7.5\u001b[39m, \u001b[39m20\u001b[39m, \u001b[39m0.25\u001b[39m))\n\u001b[1;32m---> 12\u001b[0m apply_layout(vol_slider, \u001b[39m\"\u001b[39m\u001b[39mFloor Area (sq ft)\u001b[39m\u001b[39m\"\u001b[39m, \u001b[39m0\u001b[39m)\n\u001b[0;32m     13\u001b[0m apply_layout(vol_slider, \u001b[39m\"\u001b[39m\u001b[39mAvg ceiling height (ft)\u001b[39m\u001b[39m\"\u001b[39m, \u001b[39m1\u001b[39m)\n",
      "\u001b[1;31mNameError\u001b[0m: name 'apply_layout' is not defined"
     ]
    }
   ],
   "source": [
    "floor_area: float\n",
    "ceil_height: float\n",
    "\n",
    "\n",
    "def set_dimensions(x=50_000, y=10):\n",
    "    global floor_area, ceil_height\n",
    "    floor_area = x\n",
    "    ceil_height = y\n",
    "\n",
    "\n",
    "vol_slider = interact(set_dimensions, x=(1000, 100_000, 100), y=(7.5, 20, 0.25))\n",
    "apply_layout(vol_slider, \"Floor Area (sq ft)\", 0)\n",
    "apply_layout(vol_slider, \"Avg ceiling height (ft)\", 1)"
   ]
  },
  {
   "cell_type": "code",
   "execution_count": null,
   "metadata": {},
   "outputs": [],
   "source": [
    "supply_airflow: float\n",
    "vent_efficiency: float\n",
    "oa_calc_method: str\n",
    "\n",
    "CALC_METHODS = [\"VRP\", \"VRP+30%\", \"IAQP\", \"100% OA\", \"Other\"]\n",
    "\n",
    "\n",
    "def set_supply_airflow(q=floor_area, n=0.75, calc=\"VRP\"):\n",
    "    global supply_airflow, vent_efficiency\n",
    "    global oa_calc_method\n",
    "    supply_airflow = q\n",
    "    vent_efficiency = n\n",
    "    oa_calc_method = calc\n",
    "\n",
    "\n",
    "supply_airflow_slider = interact(\n",
    "    set_supply_airflow, q=(150, 200_000), n=(0, 1.0, 0.01), calc=CALC_METHODS\n",
    ")\n",
    "apply_layout(supply_airflow_slider, \"Total Supply Airflow\", 0)\n",
    "apply_layout(supply_airflow_slider, \"Ventilation Efficiency\", 1)\n",
    "apply_layout(supply_airflow_slider, \"OA Calculation Method\", 2)"
   ]
  },
  {
   "cell_type": "code",
   "execution_count": null,
   "metadata": {},
   "outputs": [],
   "source": [
    "gen_inputs = GeneralInputs(\n",
    "    repr_city,\n",
    "    space_type,\n",
    "    floor_area,\n",
    "    ceil_height,\n",
    "    occupancy,\n",
    "    vent_efficiency,\n",
    "    oa_calc_method,\n",
    ")\n",
    "\n",
    "\n",
    "def set_outside_airflow(q=gen_inputs.outside_airflow()):\n",
    "    global gen_inputs\n",
    "    if gen_inputs.oa_calc_method == \"Other\":\n",
    "        gen_inputs.outside_airflow_override = q\n",
    "    return \"Outside Air ACH\", round(gen_inputs.outside_ach(), 2)\n",
    "\n",
    "\n",
    "airflow_slider = interact(set_outside_airflow, q=(150, 200_000, 1))\n",
    "apply_layout(airflow_slider, \"Outside Airflow (CFM)\")\n",
    "if gen_inputs.oa_calc_method != \"Other\":\n",
    "    airflow_slider.widget.children[0].disabled = True"
   ]
  },
  {
   "cell_type": "markdown",
   "metadata": {},
   "source": [
    "### Results"
   ]
  },
  {
   "cell_type": "markdown",
   "metadata": {},
   "source": [
    "Calculate required outside airflow"
   ]
  },
  {
   "cell_type": "code",
   "execution_count": null,
   "metadata": {},
   "outputs": [],
   "source": [
    "from tabulate import tabulate\n",
    "\n",
    "\n",
    "def vrp_calc():\n",
    "    \"\"\"Calculate required airflow according to the Ventilation Rate Procedure.\"\"\"\n",
    "    occupancy_component = occupancy * oa_rates[\"RPeople\"].loc[space_type]  # CFM\n",
    "    area_component = floor_area * oa_rates[\"RArea\"].loc[space_type]  # CFM\n",
    "    return (occupancy_component + area_component) / vent_efficiency  # CFM\n",
    "\n",
    "\n",
    "if oa_calc_method == \"VRP\":\n",
    "    outside_airflow = vrp_calc()  # CFM\n",
    "elif oa_calc_method == \"VRP+30%\":\n",
    "    outside_airflow = vrp_calc() * 1.3\n",
    "elif oa_calc_method == \"IAQP\":\n",
    "    outside_airflow = floor_area * 0.05  # TODO: find out why this 5% factor\n",
    "elif oa_calc_method == \"100% OA\":\n",
    "    outside_airflow = total_supply_airflow\n",
    "else:\n",
    "    outside_airflow = int(input(\"Input a value for outside airflow.\"))\n",
    "\n",
    "print(f\"Outside airflow: {outside_airflow:.2f} CFM\")"
   ]
  },
  {
   "cell_type": "markdown",
   "metadata": {},
   "source": [
    "Calculate outside air changes per hour"
   ]
  },
  {
   "cell_type": "code",
   "execution_count": null,
   "metadata": {},
   "outputs": [],
   "source": [
    "avg_volume = avg_ceil_hgt * floor_area  # ft^3\n",
    "outside_air_ach = outside_airflow / avg_volume * 60  # /h\n",
    "print(f\"Ouside air ACH: {outside_air_ach:.2f} /h\")"
   ]
  },
  {
   "cell_type": "markdown",
   "metadata": {},
   "source": [
    "## Outside air ventilation Energy & Operating Costs\n"
   ]
  },
  {
   "cell_type": "code",
   "execution_count": null,
   "metadata": {},
   "outputs": [],
   "source": [
    "oa_cooling_src = None\n",
    "oa_heating_src = None\n",
    "\n",
    "\n",
    "def set_oa_cooling_src(x):\n",
    "    global oa_cooling_src\n",
    "    oa_cooling_src = x\n",
    "\n",
    "\n",
    "def set_oa_heating_src(x):\n",
    "    global oa_heating_src\n",
    "    oa_heating_src = x\n",
    "\n",
    "\n",
    "COOLING_SRCS = [\"Electricity\"]\n",
    "oa_cool_dropdown = interact(set_oa_cooling_src, x=COOLING_SRCS)\n",
    "oa_cool_dropdown.widget.children[0].description = \"OA Ventilation Cooling Source\"\n",
    "oa_cool_dropdown.widget.children[0].style = {\"description_width\": \"initial\"}\n",
    "\n",
    "HEATING_SRCS = [\"Electricity\", \"Gas\", \"Steam\"]\n",
    "oa_heat_dropdown = interact(set_oa_heating_src, x=HEATING_SRCS)\n",
    "oa_heat_dropdown.widget.children[0].description = \"OA Ventilation Heating Source\"\n",
    "oa_heat_dropdown.widget.children[0].style = {\"description_width\": \"initial\"}"
   ]
  },
  {
   "cell_type": "code",
   "execution_count": null,
   "metadata": {},
   "outputs": [],
   "source": [
    "hrs_per_day_bldg_operation = None\n",
    "days_per_wk_bldg_operation = None\n",
    "\n",
    "\n",
    "def set_hrs_per_day(x=12):\n",
    "    global hrs_per_day_bldg_operation\n",
    "    hrs_per_day_bldg_operation = x\n",
    "\n",
    "\n",
    "def set_days_per_week(x=6):\n",
    "    global days_per_wk_bldg_operation\n",
    "    days_per_wk_bldg_operation = x\n",
    "\n",
    "\n",
    "hrs_per_day_slider = interact(set_hrs_per_day, x=(8, 24))\n",
    "hrs_per_day_slider.widget.children[\n",
    "    0\n",
    "].description = \"Hours per day of building operation\"\n",
    "hrs_per_day_slider.widget.children[0].style = {\"description_width\": \"initial\"}\n",
    "\n",
    "days_per_wk_slider = interact(set_days_per_week, x=(1, 7))\n",
    "days_per_wk_slider.widget.children[\n",
    "    0\n",
    "].description = \"Days per week of building operation\"\n",
    "days_per_wk_slider.widget.children[0].style = {\"description_width\": \"initial\"}"
   ]
  },
  {
   "cell_type": "code",
   "execution_count": null,
   "metadata": {},
   "outputs": [],
   "source": [
    "COP = 3\n",
    "HEATING_EFFICIENCY = 1.00\n",
    "\n",
    "operating_hrs_per_wk = hrs_per_day_bldg_operation * days_per_wk_bldg_operation\n",
    "elec_rate_disp = operation_info_126[\"Estimated Blended Electricity Rate ($/kWh)\"].loc[\n",
    "    repr_city\n",
    "]\n",
    "\n",
    "if oa_heating_src == \"Electricity\":\n",
    "    heating_energy_rate = elec_rate_disp\n",
    "    unit = \"$/kWh (blended)\"\n",
    "elif oa_heating_src == \"Gas\":\n",
    "    heating_energy_rate = operation_info_126[\"Gas Rate ($/therm)\"].loc[repr_city]\n",
    "    unit = \"$/therm\"\n",
    "elif oa_heating_src == \"Steam\":\n",
    "    heating_energy_rate = operation_info_126[\"Steam Rate ($/Mlb)\"].loc[repr_city]\n",
    "    unit = \"$/mmBTU\"\n",
    "\n",
    "disp_table = [\n",
    "    [\"Electricity rate\", elec_rate_disp, \"$/kWh (blended)\"],\n",
    "    [\"Heating energy rate\", heating_energy_rate, unit],\n",
    "]\n",
    "\n",
    "tabulate(disp_table, floatfmt=\".2f\", tablefmt=\"html\")"
   ]
  },
  {
   "cell_type": "markdown",
   "metadata": {},
   "source": [
    "## Energy Recovery Inputs (optional)"
   ]
  },
  {
   "cell_type": "code",
   "execution_count": null,
   "metadata": {},
   "outputs": [],
   "source": [
    "energy_recovery = False\n",
    "\n",
    "\n",
    "if energy_recovery:\n",
    "    # TODO: sliders that only appear if checkbox for energy recovery ticked\n",
    "    summer_recovery_eff = float(input(\"Summer energy recovery effectiveness (0-1.0): \"))\n",
    "    winter_recovery_eff = float(input(\"Winter energy recovery effectivness (0-1.0): \"))\n",
    "else:\n",
    "    summer_recovery_eff = 0\n",
    "    winter_recovery_eff = 0"
   ]
  },
  {
   "cell_type": "markdown",
   "metadata": {},
   "source": [
    "## Indoor Air Filtration Operating Cost & First Cost Inputs"
   ]
  },
  {
   "cell_type": "code",
   "execution_count": null,
   "metadata": {},
   "outputs": [],
   "source": [
    "RECIRC_FILTRATION = True\n",
    "MERV = \"MERV 11\"  # TODO: dropdown for filter types\n",
    "\n",
    "avg_press_drop = filters[\"average pressure drop (in.w.c.)\"].loc[MERV]  # in. wc\n",
    "fan_eff = 0.85\n",
    "mtr_eff = 0.85\n",
    "max_filter_airspeed = 500  # fpm\n",
    "est_filter_lifespan = filters[\"filter lifespan (months)\"].loc[MERV]  # months\n",
    "filter_replace_labor_cost = 5  # $/filter\n",
    "filtration_ach = 5  # /hr"
   ]
  },
  {
   "cell_type": "markdown",
   "metadata": {},
   "source": [
    "## Air Cleaner Operating Cost & First Cost Inputs"
   ]
  },
  {
   "cell_type": "code",
   "execution_count": null,
   "metadata": {},
   "outputs": [],
   "source": [
    "AIR_CLEANERS = False\n",
    "\n",
    "\n",
    "air_cleaner_quant = 50\n",
    "air_cleaner_supply_air = 200  # CFM per air cleaner\n",
    "air_cleaner_cadr = 200  # CFM per air cleaner\n",
    "\n",
    "additional_ach = air_cleaner_cadr * air_cleaner_quant / avg_volume * 60\n",
    "\n",
    "cleaner_first_cost = 2200  # $ per air cleaner. Includes hardware + install cost\n",
    "air_cleaner_pwr = air_cleaner_supply_air * 0.0003  # kW per air cleaner\n",
    "cleaner_est_lifetime_before_maint = 12  # months\n",
    "cleaner_maint_labor_cost = 50  # $ per unit\n",
    "cleaner_maint_material_cost = 150  # $ per unit"
   ]
  },
  {
   "cell_type": "markdown",
   "metadata": {},
   "source": [
    "## Outside Air Ventilation Energy Consumption & Cost"
   ]
  },
  {
   "cell_type": "code",
   "execution_count": null,
   "metadata": {},
   "outputs": [],
   "source": [
    "if operating_hrs_per_wk < (24 * 7):\n",
    "    ops_info = operation_info_126\n",
    "    op_hours_baseline = 72  # Operations info based on operating 12/6\n",
    "else:\n",
    "    ops_info = operation_info_247\n",
    "    op_hours_baseline = 168  # Operations info based on operating 24/7\n",
    "\n",
    "cooling_oa_energy = (\n",
    "    outside_airflow\n",
    "    * ops_info[\"Cooling energy (kWh/cfm)\"].loc[repr_city]\n",
    "    * (1 - summer_recovery_eff)\n",
    "    / (COP / 3)\n",
    "    * (operating_hrs_per_wk / op_hours_baseline)\n",
    ")  # kWh / yr\n",
    "\n",
    "oa_cooling_cost = cooling_oa_energy * elec_rate_disp  # $/yr\n",
    "\n",
    "if oa_heating_src == \"Electricity\":\n",
    "    heating_energy = ops_info[\"Heating energy (kWh/cfm)\"]\n",
    "    unit = \"kWh/yr\"\n",
    "elif oa_heating_src == \"Steam\":\n",
    "    heating_energy = ops_info[\"Heating energy (mmBTU/cfm)\"]\n",
    "    unit = \"mmBTU/yr\"\n",
    "elif oa_heating_src == \"Gas\":\n",
    "    heating_energy = ops_info[\"Heating energy (therms/cfm)\"]\n",
    "    unit = \"therm/yr\"\n",
    "\n",
    "heating_oa_energy = (\n",
    "    outside_airflow\n",
    "    * heating_energy.loc[repr_city]\n",
    "    * (1 - winter_recovery_eff)\n",
    "    / HEATING_EFFICIENCY\n",
    "    * (operating_hrs_per_wk / op_hours_baseline)\n",
    ")  # (kWh | mmBTU | therm)/yr\n",
    "\n",
    "oa_heating_cost = heating_oa_energy * heating_energy_rate  # $/yr\n",
    "\n",
    "disp_table = [\n",
    "    [\"Cooling Outside Air Ventilation Energy\", cooling_oa_energy, \"kWh/yr\"],\n",
    "    [\"Cooling Outside Air Energy Cost\", oa_cooling_cost, \"$/yr\"],\n",
    "    [\"Heating Outside Air Ventilation Energy\", heating_oa_energy, unit],\n",
    "    [\"Heating Outside Air Energy Cost\", oa_heating_cost, \"$/yr\"],\n",
    "]\n",
    "\n",
    "tabulate(disp_table, floatfmt=\",.2f\", tablefmt=\"html\")"
   ]
  },
  {
   "cell_type": "markdown",
   "metadata": {},
   "source": [
    "## Indoor Air Filtration Energy Consumption and Cost"
   ]
  },
  {
   "cell_type": "code",
   "execution_count": null,
   "metadata": {},
   "outputs": [],
   "source": [
    "from math import ceil\n",
    "\n",
    "CUBIC_METER_PER_HOUR_PER_CFM = 1.699\n",
    "PASCAL_PER_INCH_WATER = 248.84\n",
    "METER_PER_SECOND_PER_FPM = 1 / 196.85\n",
    "SQ_FT_PER_SQ_METER = 10.7639\n",
    "\n",
    "# Determine cost of running the fan to filter air\n",
    "if not RECIRC_FILTRATION:\n",
    "    recirc_airflow = 0\n",
    "    indoor_air_filt_fan_load = 0  # kW\n",
    "else:\n",
    "    recirc_airflow = total_supply_airflow - outside_airflow  # CFM\n",
    "    recirc_airflow_m3_per_h = recirc_airflow * CUBIC_METER_PER_HOUR_PER_CFM  # m^3/h\n",
    "    recirc_airflow_m3_per_s = recirc_airflow_m3_per_h / 60 / 60  # m^3/s\n",
    "\n",
    "    avg_press_drop_pa = avg_press_drop * PASCAL_PER_INCH_WATER  # Pa\n",
    "    fan_load = recirc_airflow_m3_per_s * avg_press_drop_pa / (fan_eff * mtr_eff)  # W\n",
    "    indoor_air_filt_fan_load = fan_load / 1000  # kW\n",
    "\n",
    "annual_filtration_energy = indoor_air_filt_fan_load * operating_hrs_per_wk * 52  # kW/yr\n",
    "annual_filt_energy_cost = annual_filtration_energy * elec_rate_disp  # $/yr\n",
    "\n",
    "# Determine the cost of replacing filters\n",
    "baseline_filter_changes_per_year = 12 / filters[\"filter lifespan (months)\"].loc[MERV]\n",
    "max_filter_airspeed_m_per_s = max_filter_airspeed * METER_PER_SECOND_PER_FPM  # m/s\n",
    "min_filter_area_m2 = recirc_airflow_m3_per_s / max_filter_airspeed_m_per_s  # m^2\n",
    "min_filter_area = ceil(min_filter_area_m2 * SQ_FT_PER_SQ_METER)  # ft^2\n",
    "material_cost_filt_replacement = (\n",
    "    baseline_filter_changes_per_year * filters[\"cost\"].loc[MERV] * min_filter_area\n",
    ")  # $/yr\n",
    "# TODO: understand this calculation. Is the filter cost the cost per square foot?\n",
    "# TODO: understand https://www.ncbi.nlm.nih.gov/pmc/articles/PMC7127325/. Cost per unit removal rate?\n",
    "labor_cost_filt_replacement = (\n",
    "    baseline_filter_changes_per_year * filter_replace_labor_cost * min_filter_area\n",
    ")\n",
    "\n",
    "annual_total_cost = (\n",
    "    annual_filt_energy_cost\n",
    "    + material_cost_filt_replacement\n",
    "    + labor_cost_filt_replacement\n",
    ")\n",
    "\n",
    "disp_table = [\n",
    "    [\"Indoor air filtration fan energy load\", indoor_air_filt_fan_load, \"kW\"],\n",
    "    [\"Annual fan filtration energy\", annual_filtration_energy, \"kW\"],\n",
    "    [\"Material cost of filter replacement\", material_cost_filt_replacement, \"$/yr\"],\n",
    "    [\"Labor cost of filter replacement\", labor_cost_filt_replacement, \"$/yr\"],\n",
    "    [\n",
    "        \"Annual filter fan energy and filter replacement costs\",\n",
    "        annual_total_cost,\n",
    "        \"$/yr\",\n",
    "    ],\n",
    "]\n",
    "\n",
    "tabulate(disp_table, floatfmt=\".2f\", tablefmt=\"html\")"
   ]
  },
  {
   "cell_type": "markdown",
   "metadata": {},
   "source": [
    "## Air Cleaner Operating Cost & First Cost Inputs"
   ]
  },
  {
   "cell_type": "code",
   "execution_count": null,
   "metadata": {},
   "outputs": [],
   "source": [
    "if AIR_CLEANERS:\n",
    "    air_cleaner_annual_energy = (\n",
    "        air_cleaner_pwr * air_cleaner_quant * operating_hrs_per_wk * 52\n",
    "    )  # kW / yr\n",
    "\n",
    "    air_cleaner_annual_energy_cost = air_cleaner_annual_energy * elec_rate_disp\n",
    "    air_cleaner_filter_matrl_cost = (\n",
    "        cleaner_maint_material_cost\n",
    "        * air_cleaner_quant\n",
    "        * 12\n",
    "        / cleaner_est_lifetime_before_maint\n",
    "    )\n",
    "\n",
    "    air_cleaner_maint_labor_cost = (\n",
    "        cleaner_maint_labor_cost\n",
    "        * air_cleaner_quant\n",
    "        * 12\n",
    "        / cleaner_est_lifetime_before_maint\n",
    "    )\n",
    "\n",
    "    annual_air_cleaner_total_cost = (\n",
    "        air_cleaner_annual_energy_cost\n",
    "        + air_cleaner_filter_matrl_cost\n",
    "        + air_cleaner_filter_matrl_cost\n",
    "    )\n",
    "\n",
    "    air_cleaner_total_first_cost = cleaner_first_cost * air_cleaner_quant\n",
    "\n",
    "    disp_table = [\n",
    "        [\"Air cleaner annual energy consumption\", air_cleaner_annual_energy, \"kW/yr\"],\n",
    "        [\"Air cleaner annual energy cost\", air_cleaner_annual_energy_cost, \"$/yr\"],\n",
    "        [\"Air cleaner filter material cost\", air_cleaner_filter_matrl_cost, \"$/yr\"],\n",
    "        [\"Air cleaner maintenance labor cost\", air_cleaner_maint_labor_cost, \"$/yr\"],\n",
    "        [\"Air cleaner total annual cost\", annual_air_cleaner_total_cost, \"$/yr\"],\n",
    "        [\"Air cleaner first cost\", air_cleaner_total_first_cost, \"$/yr\"],\n",
    "    ]\n",
    "else:\n",
    "    air_cleaner_annual_energy = 0\n",
    "    annual_air_cleaner_total_cost = 0"
   ]
  },
  {
   "cell_type": "markdown",
   "metadata": {},
   "source": [
    "## Effective Air Changes per Hour"
   ]
  },
  {
   "cell_type": "code",
   "execution_count": null,
   "metadata": {},
   "outputs": [],
   "source": [
    "effective_ach = outside_air_ach + filtration_ach + additional_ach  # /h\n",
    "\n",
    "disp_table = [\n",
    "    [\"Outside air ACH\", outside_air_ach, \"/h\"],\n",
    "    [\"Filtration ACH\", filtration_ach, \"/h\"],\n",
    "    [\"Additional ACH\", additional_ach, \"/h\"],\n",
    "    [\"Effective ACH\", effective_ach, \"/h\"],\n",
    "]\n",
    "\n",
    "tabulate(disp_table, floatfmt=\".2f\", tablefmt=\"html\")"
   ]
  },
  {
   "cell_type": "markdown",
   "metadata": {},
   "source": [
    "## Annual Cost Summary"
   ]
  },
  {
   "cell_type": "code",
   "execution_count": null,
   "metadata": {},
   "outputs": [],
   "source": [
    "annual_oa_vent_energy_cost = oa_cooling_cost + oa_heating_cost\n",
    "total_annual_cost = (\n",
    "    annual_filt_energy_cost + annual_total_cost + annual_air_cleaner_total_cost\n",
    ")\n",
    "\n",
    "disp_table = [\n",
    "    [\"Annual outside air ventilation energy cost\", annual_oa_vent_energy_cost, \"$/yr\"],\n",
    "    [\n",
    "        \"Annual indoor air filter fan energy and filter replacement costs\",\n",
    "        annual_total_cost,\n",
    "        \"$/yr\",\n",
    "    ],\n",
    "    [\n",
    "        \"Annual air cleaner energy consumption and maintenance costs\",\n",
    "        annual_air_cleaner_total_cost,\n",
    "        \"$/yr\",\n",
    "    ],\n",
    "    [\"Total annual costs\", total_annual_cost, \"$/yr\"],\n",
    "]\n",
    "\n",
    "tabulate(disp_table, floatfmt=\".2f\", tablefmt=\"html\")"
   ]
  },
  {
   "cell_type": "markdown",
   "metadata": {},
   "source": [
    "## Annual Carbon Emissions"
   ]
  },
  {
   "cell_type": "code",
   "execution_count": null,
   "metadata": {},
   "outputs": [],
   "source": [
    "# NOTE: The enVerid spreadsheet makes a mistake here!\n",
    "# The emission factor they use is 7.09E-4 t CO2 / kWh.\n",
    "# That factor is for electricity reductions!\n",
    "# We are concerned with emissions associated with consumption, not reduction.\n",
    "# See https://www.epa.gov/energy/greenhouse-gases-equivalencies-calculator-calculations-and-references\n",
    "\n",
    "ELECTRICITY_EMISSION_FACTOR = 4.33e-4  # t CO2e / kWh\n",
    "NG_EMISSION_FACTOR = 0.0053  # t CO2e / therm\n",
    "STEAM_EMISSION_FACTOR = 0.053  # t CO2e / mmBTU  (assumes perfect efficiency)\n",
    "\n",
    "# Carbon emissions in t CO2e / yr\n",
    "cooling_co2_tons = cooling_oa_energy * ELECTRICITY_EMISSION_FACTOR\n",
    "\n",
    "if oa_heating_src == \"Electricity\":\n",
    "    heating_co2_tons = heating_oa_energy * ELECTRICITY_EMISSION_FACTOR\n",
    "elif oa_heating_src == \"Gas\":\n",
    "    heating_co2_tons = heating_oa_energy * NG_EMISSION_FACTOR\n",
    "elif oa_heating_src == \"Steam\":\n",
    "    heating_co2_tons = heating_oa_energy * STEAM_EMISSION_FACTOR\n",
    "\n",
    "carbon_emiss_oa_vent_energy = cooling_co2_tons + heating_co2_tons\n",
    "carbon_emiss_filt_fan_energy = annual_filtration_energy * ELECTRICITY_EMISSION_FACTOR\n",
    "carbon_emiss_air_cleaner_energy = (\n",
    "    air_cleaner_annual_energy * ELECTRICITY_EMISSION_FACTOR\n",
    ")\n",
    "\n",
    "total_carbon_emissions = (\n",
    "    carbon_emiss_oa_vent_energy\n",
    "    + carbon_emiss_filt_fan_energy\n",
    "    + carbon_emiss_air_cleaner_energy\n",
    ")\n",
    "\n",
    "disp_table = [\n",
    "    [\n",
    "        \"Carbon emissions - outside air ventilation energy\",\n",
    "        carbon_emiss_oa_vent_energy,\n",
    "        \"metric tons of CO2/yr\",\n",
    "    ],\n",
    "    [\n",
    "        \"Carbon emissions - filtration fan energy\",\n",
    "        carbon_emiss_filt_fan_energy,\n",
    "        \"metric tons of CO2/yr\",\n",
    "    ],\n",
    "    [\n",
    "        \"Carbon emissions - air cleaner energy\",\n",
    "        carbon_emiss_oa_vent_energy,\n",
    "        \"metric tons of CO2/yr\",\n",
    "    ],\n",
    "    [\"Total Carbon Emissions\", total_carbon_emissions, \"metric tons of CO2/yr\"],\n",
    "]\n",
    "\n",
    "tabulate(disp_table, floatfmt=\".2f\", tablefmt=\"html\")"
   ]
  }
 ],
 "metadata": {
  "kernelspec": {
   "display_name": "Python 3 (ipykernel)",
   "language": "python",
   "name": "python3"
  },
  "language_info": {
   "codemirror_mode": {
    "name": "ipython",
    "version": 3
   },
   "file_extension": ".py",
   "mimetype": "text/x-python",
   "name": "python",
   "nbconvert_exporter": "python",
   "pygments_lexer": "ipython3",
   "version": "3.11.4"
  }
 },
 "nbformat": 4,
 "nbformat_minor": 2
}
