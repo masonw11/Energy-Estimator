{
 "cells": [
  {
   "cell_type": "markdown",
   "metadata": {},
   "source": [
    "# Energy Estimator Tool\n",
    "## Introduction\n",
    "This is a port of the enVerid COVID-19 Energy Estimator 2 Excel Spreadsheet to a Jupyter Notebook to better understand the calculation methods the spreadsheet uses.\n",
    "\n",
    "The spreadsheet must be present in the same folder folder as this file for the reference tables to be read.\n",
    "\n",
    "### Dependencies\n",
    "- [pandas](https://pypi.org/project/pandas/)\n",
    "- [openpyxl](https://pypi.org/project/openpyxl/)\n",
    "- [ipywidgets](https://pypi.org/project/ipywidgets/)\n",
    "- [tabulate](https://pypi.org/project/tabulate/)"
   ]
  },
  {
   "cell_type": "markdown",
   "metadata": {},
   "source": [
    "## Reference Tables\n",
    "The same reference tables are used in this notebook.\n",
    "\n",
    "The following code imports the reference tables. Run it once before any other cell."
   ]
  },
  {
   "cell_type": "code",
   "execution_count": 1,
   "metadata": {},
   "outputs": [],
   "source": [
    "import pandas as pd\n",
    "\n",
    "SPREADSHEET_PATH = \"enVerid COVID-19 Energy Estimator 2.xlsx\"\n",
    "\n",
    "filters = pd.read_excel(\n",
    "    SPREADSHEET_PATH, \"Table 2 - Filtration Info\", skiprows=2, skipfooter=4, index_col=1\n",
    ").dropna(axis=\"columns\")\n",
    "\n",
    "# ASHRAE 62.1 2016 Outdoor Air rates (ref. table 6-1)\n",
    "# TODO: update to ASHRAE 62.1 2022\n",
    "oa_rates = pd.read_excel(\n",
    "    SPREADSHEET_PATH, \"Table 3 - ASHRAE 62.1 OA Rates\", header=1, index_col=0\n",
    ").rename(\n",
    "    columns={\n",
    "        \"People Outdoor Air Rate Rp (cfm/person)\": \"RPeople\",\n",
    "        \"Area Outdoor Air Rate Ra (cfm/ft2)\": \"RArea\",\n",
    "    },\n",
    ")"
   ]
  },
  {
   "cell_type": "code",
   "execution_count": 2,
   "metadata": {
    "tags": [
     "hide-input"
    ]
   },
   "outputs": [
    {
     "data": {
      "application/vnd.jupyter.widget-view+json": {
       "model_id": "2c776b8c7e444395a95902d0c5432ff2",
       "version_major": 2,
       "version_minor": 0
      },
      "text/plain": [
       "interactive(children=(Dropdown(description='x', options=('Art classroom', 'Auditorium seating area', 'Bank vau…"
      ]
     },
     "metadata": {},
     "output_type": "display_data"
    },
    {
     "data": {
      "application/vnd.jupyter.widget-view+json": {
       "model_id": "edca65d6fa364f3d8c76ba01ba2670b0",
       "version_major": 2,
       "version_minor": 0
      },
      "text/plain": [
       "interactive(children=(IntSlider(value=50000, description='x', max=500000, min=100, step=100), Output()), _dom_…"
      ]
     },
     "metadata": {},
     "output_type": "display_data"
    },
    {
     "data": {
      "application/vnd.jupyter.widget-view+json": {
       "model_id": "1369a73ab1a14290bce6db2b6fc63191",
       "version_major": 2,
       "version_minor": 0
      },
      "text/plain": [
       "interactive(children=(FloatSlider(value=8.0, description='x', max=50.0, min=7.5, step=0.25), Output()), _dom_c…"
      ]
     },
     "metadata": {},
     "output_type": "display_data"
    },
    {
     "data": {
      "text/html": [
       "<hr>"
      ],
      "text/plain": [
       "<IPython.core.display.HTML object>"
      ]
     },
     "metadata": {},
     "output_type": "display_data"
    },
    {
     "data": {
      "application/vnd.jupyter.widget-view+json": {
       "model_id": "76a3c401497e424da92d74173aa69e2c",
       "version_major": 2,
       "version_minor": 0
      },
      "text/plain": [
       "interactive(children=(Dropdown(description='x', options=('VRP', 'VRP+30%', 'IAQP', '100% OA'), value='VRP'), O…"
      ]
     },
     "metadata": {},
     "output_type": "display_data"
    }
   ],
   "source": [
    "from ipywidgets import widgets, interact\n",
    "from IPython.display import display, HTML\n",
    "\n",
    "space_type = None\n",
    "floor_area = None\n",
    "avg_ceil_hgt = None\n",
    "oa_calc_method = None\n",
    "\n",
    "\n",
    "# Display Space Type selection dropdown widget\n",
    "def select_space_type(x):\n",
    "    global space_type\n",
    "    space_type = x\n",
    "\n",
    "\n",
    "space_select = interact(select_space_type, x=oa_rates.index.values)\n",
    "space_select.widget.children[0].description = \"Space type\"\n",
    "\n",
    "# Display floor area slider widget\n",
    "MIN_FLOOR_AREA = 100\n",
    "MAX_FLOOR_AREA = 500_000\n",
    "FLOOR_STEP = 100\n",
    "\n",
    "\n",
    "def select_floor_area(x=50000):\n",
    "    global floor_area\n",
    "    floor_area = x\n",
    "\n",
    "\n",
    "floor_slider = interact(\n",
    "    select_floor_area, x=(MIN_FLOOR_AREA, MAX_FLOOR_AREA, FLOOR_STEP)\n",
    ")\n",
    "floor_slider.widget.children[0].description = \"Floor area (ft^2)\"\n",
    "floor_slider.widget.children[0].style = {\n",
    "    \"description_width\": \"initial\"\n",
    "}  # Don't cut off text\n",
    "\n",
    "\n",
    "# Display average ceiling height slider widget\n",
    "MIN_CEIL_HT = 7.5\n",
    "MAX_CEIL_HT = 50\n",
    "CEIL_STEP = 0.25\n",
    "\n",
    "\n",
    "def select_ceil_height(x=8):\n",
    "    global avg_ceil_hgt\n",
    "    avg_ceil_hgt = x\n",
    "\n",
    "\n",
    "ceil_ht_slider = interact(select_ceil_height, x=(MIN_CEIL_HT, MAX_CEIL_HT, CEIL_STEP))\n",
    "ceil_ht_slider.widget.children[0].description = \"Avg. ceiling height (ft)\"\n",
    "ceil_ht_slider.widget.children[0].style = {\"description_width\": \"initial\"}\n",
    "\n",
    "display(HTML(\"<hr>\"))  # Horizontal seperator\n",
    "\n",
    "\n",
    "# Display OA calculation method dropdown widget\n",
    "def select_ventilation_calc(x):\n",
    "    global oa_calc_method\n",
    "    oa_calc_method = x\n",
    "\n",
    "\n",
    "CALC_METHODS = [\"VRP\", \"VRP+30%\", \"IAQP\", \"100% OA\"]\n",
    "oa_calc_dropdown = interact(select_ventilation_calc, x=CALC_METHODS)\n",
    "oa_calc_dropdown.widget.children[0].description = \"OA Calculation Method\"\n",
    "oa_calc_dropdown.widget.children[0].style = {\"description_width\": \"initial\"}\n",
    "\n",
    "\n",
    "SPACE_TYPE = \"Bars, cocktail lounges\"\n",
    "FLOOR_AREA = 50_000  # ft^2\n",
    "AVG_CEIL_HEIGHT = 8  # ft\n",
    "OCCUPANCY = 250  # occupants\n",
    "TOTAL_SUPPLY_AIRFLOW = 50_000  # CFM\n",
    "\n",
    "SYSTEM_VENTILATION_EFFICIENCY = 0.75\n",
    "oa_calc_method = \"VRP\""
   ]
  },
  {
   "cell_type": "markdown",
   "metadata": {},
   "source": [
    "## General Inputs"
   ]
  },
  {
   "cell_type": "code",
   "execution_count": null,
   "metadata": {},
   "outputs": [],
   "source": [
    "from tabulate import tabulate\n",
    "\n",
    "\n",
    "def vrp_calc():\n",
    "    occupancy_component = OCCUPANCY * oa_rates[\"RPeople\"].loc[space_type]  # CFM\n",
    "    area_component = floor_area * oa_rates[\"RArea\"].loc[space_type]  # CFM\n",
    "    return (occupancy_component + area_component) / SYSTEM_VENTILATION_EFFICIENCY  # CFM\n",
    "\n",
    "\n",
    "if oa_calc_method == \"VRP\":\n",
    "    outside_airflow = vrp_calc()  # CFM\n",
    "elif oa_calc_method == \"VRP+30%\":\n",
    "    outside_airflow = vrp_calc() * 1.3\n",
    "elif oa_calc_method == \"IAQP\":\n",
    "    outside_airflow = floor_area * 0.05  # TODO: find out why this 5% factor\n",
    "elif oa_calc_method == \"100% OA\":\n",
    "    outside_airflow = TOTAL_SUPPLY_AIRFLOW\n",
    "else:\n",
    "    outside_airflow = int(input(\"Input a value for outside airflow.\"))\n",
    "\n",
    "avg_volume = avg_ceil_hgt * floor_area  # ft^3\n",
    "outside_air_ach = outside_airflow / avg_volume * 60  # /h\n",
    "\n",
    "disp_table = [\n",
    "    [\"Outside airflow (CFM)\", outside_airflow],\n",
    "    [\"Outside air ACH (/h)\", outside_air_ach],\n",
    "]\n",
    "tabulate(disp_table, tablefmt=\"html\")"
   ]
  },
  {
   "cell_type": "markdown",
   "metadata": {},
   "source": [
    "## Outside air ventilation Energy & Operating Costs\n"
   ]
  },
  {
   "cell_type": "code",
   "execution_count": null,
   "metadata": {},
   "outputs": [],
   "source": [
    "oa_cooling_src = \"Electricity\"  # TODO: dropdown\n",
    "oa_heating_src = \"Gas\"  # TODO: dropdown\n",
    "\n",
    "HRS_PER_DAY_BLDG_OPERATION = 12\n",
    "DAYS_PER_WK_BLDG_OPERATION = 6\n",
    "COP = 3\n",
    "HEATING_EFFICIENCY = 1.00\n",
    "\n",
    "hrs_per_wk_bldg_operation = HRS_PER_DAY_BLDG_OPERATION * DAYS_PER_WK_BLDG_OPERATION"
   ]
  }
 ],
 "metadata": {
  "kernelspec": {
   "display_name": "Python 3 (ipykernel)",
   "language": "python",
   "name": "python3"
  },
  "language_info": {
   "codemirror_mode": {
    "name": "ipython",
    "version": 3
   },
   "file_extension": ".py",
   "mimetype": "text/x-python",
   "name": "python",
   "nbconvert_exporter": "python",
   "pygments_lexer": "ipython3",
   "version": "3.11.4"
  }
 },
 "nbformat": 4,
 "nbformat_minor": 2
}
